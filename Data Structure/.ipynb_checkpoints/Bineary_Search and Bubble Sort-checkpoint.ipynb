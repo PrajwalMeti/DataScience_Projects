{
 "cells": [
  {
   "cell_type": "code",
   "execution_count": 10,
   "id": "0857a862",
   "metadata": {},
   "outputs": [
    {
     "data": {
      "text/plain": [
       "9"
      ]
     },
     "execution_count": 10,
     "metadata": {},
     "output_type": "execute_result"
    }
   ],
   "source": [
    "# Binear Search --> Searching of an element in the Sorted List     \n",
    "number_list = [1,2,3,4,5,6,7,8,9,10]\n",
    "number_to_find = 10\n",
    "def bineary_search(number_list, number_to_find):\n",
    "    left_index = 0 \n",
    "    right_index = len(number_list) - 1\n",
    "    while left_index <= right_index:\n",
    "        mid_index = (left_index + right_index) // 2 \n",
    "        mid_value = number_list[mid_index]\n",
    "        \n",
    "        if mid_value == number_to_find:\n",
    "            return mid_index\n",
    "        if mid_value < number_to_find:\n",
    "            left_index = mid_index + 1 \n",
    "        else:\n",
    "            right_index = mid_index -1 \n",
    "    return -1\n",
    "bineary_search(number_list,number_to_find)"
   ]
  },
  {
   "cell_type": "code",
   "execution_count": 26,
   "id": "7cfe8f89",
   "metadata": {},
   "outputs": [
    {
     "data": {
      "text/plain": [
       "[6, 7, 8, 9, 10]"
      ]
     },
     "execution_count": 26,
     "metadata": {},
     "output_type": "execute_result"
    }
   ],
   "source": [
    "# Bubble Sort --> Sorting of an element from the maximum value to minium value \n",
    "\n",
    "def bubblesort(Number_List):\n",
    "    size = len(Number_List)\n",
    "    for j in range(size - 1 ):\n",
    "        swap = False\n",
    "        for i in range(size - 1 - j ):\n",
    "            if Number_List[i] > Number_List[i+1]:\n",
    "                temp = Number_List[i]\n",
    "                Number_List[i] = Number_List[i+1]\n",
    "                Number_List[i+ 1]  = temp\n",
    "                swap = True\n",
    "        if not swap:\n",
    "            break\n",
    "    return Number_List\n",
    "bubblesort([10,9,8,7,6])"
   ]
  },
  {
   "cell_type": "code",
   "execution_count": 27,
   "id": "a7d59635",
   "metadata": {},
   "outputs": [
    {
     "name": "stdout",
     "output_type": "stream",
     "text": [
      "[3, 4, 5, 6, 7, 8, 9, 10]\n"
     ]
    }
   ],
   "source": [
    "# Insertion Sort --> Sorting of elements by adding elements in the sorted array\n",
    "def insertion_sort(elements):\n",
    "\n",
    "    for i in range(1,len(elements)):\n",
    "        anchor = elements[i]\n",
    "        j = i - 1  \n",
    "        while j >= 0 and anchor < elements[j]:\n",
    "            elements[j+1] = elements[j]\n",
    "            j = j - 1\n",
    "        elements[j+1] = anchor\n",
    " \n",
    "    return elements\n",
    "\n",
    "elements = [10,9,8,7,6,5,4,3]\n",
    "insertion_sort(elements) \n",
    "print(elements)\n"
   ]
  },
  {
   "cell_type": "code",
   "execution_count": null,
   "id": "292861e3",
   "metadata": {},
   "outputs": [],
   "source": []
  }
 ],
 "metadata": {
  "kernelspec": {
   "display_name": "Python 3 (ipykernel)",
   "language": "python",
   "name": "python3"
  },
  "language_info": {
   "codemirror_mode": {
    "name": "ipython",
    "version": 3
   },
   "file_extension": ".py",
   "mimetype": "text/x-python",
   "name": "python",
   "nbconvert_exporter": "python",
   "pygments_lexer": "ipython3",
   "version": "3.11.5"
  }
 },
 "nbformat": 4,
 "nbformat_minor": 5
}
