{
 "cells": [
  {
   "cell_type": "code",
   "execution_count": 1,
   "id": "653ae7ff",
   "metadata": {},
   "outputs": [
    {
     "name": "stdout",
     "output_type": "stream",
     "text": [
      "The Coefficent is :10.0\n"
     ]
    }
   ],
   "source": [
    "import numpy as np \n",
    "x = np.array([1,2,3,4,5,6,7,8,9,10])                  # Inputs the only 1 input is there \n",
    "y_actuvals = np.array([10,20,30,40,50,60,70,80,90,100]) # Outputs Actuval Values \n",
    "\n",
    "beta  = np.random.rand()    # initial Beta\n",
    "lr    = 0.001\n",
    "\n",
    "for i in range(50):\n",
    "    y_predict = beta * x  # oputput Predictions \n",
    "    \n",
    "    loss = np.sum(np.square(y_actuvals - y_predict))\n",
    "    \n",
    "    loss_derivative = -2 * np.sum((y_actuvals - y_predict) * x)\n",
    "    \n",
    "    beta = beta - (lr * loss_derivative)\n",
    "    \n",
    "print(f'The Coefficent is :{beta}')\n",
    "    "
   ]
  },
  {
   "cell_type": "code",
   "execution_count": 8,
   "id": "fb2b84b1",
   "metadata": {},
   "outputs": [
    {
     "name": "stdout",
     "output_type": "stream",
     "text": [
      "Enter the Value of Input0.7\n"
     ]
    },
    {
     "data": {
      "text/plain": [
       "0.6681877721681662"
      ]
     },
     "execution_count": 8,
     "metadata": {},
     "output_type": "execute_result"
    }
   ],
   "source": [
    "# write a python function that takes the input of an x and returns the sigmoid of an x : \n",
    "p = float(input('Enter the Value of Input'))\n",
    "def sigmoid(x):\n",
    "    return 1/(1+(np.exp(-x)))\n",
    "sigmoid(p)"
   ]
  },
  {
   "cell_type": "code",
   "execution_count": null,
   "id": "99b14afd",
   "metadata": {},
   "outputs": [],
   "source": []
  }
 ],
 "metadata": {
  "kernelspec": {
   "display_name": "Python 3 (ipykernel)",
   "language": "python",
   "name": "python3"
  },
  "language_info": {
   "codemirror_mode": {
    "name": "ipython",
    "version": 3
   },
   "file_extension": ".py",
   "mimetype": "text/x-python",
   "name": "python",
   "nbconvert_exporter": "python",
   "pygments_lexer": "ipython3",
   "version": "3.11.5"
  }
 },
 "nbformat": 4,
 "nbformat_minor": 5
}
