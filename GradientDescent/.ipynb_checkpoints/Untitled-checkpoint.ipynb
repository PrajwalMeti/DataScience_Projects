{
 "cells": [
  {
   "cell_type": "code",
   "execution_count": 1,
   "id": "f34e281b",
   "metadata": {},
   "outputs": [],
   "source": [
    "import numpy as np "
   ]
  },
  {
   "cell_type": "code",
   "execution_count": 11,
   "id": "dc4ecf73",
   "metadata": {},
   "outputs": [
    {
     "name": "stdout",
     "output_type": "stream",
     "text": [
      "The Coefficient :  50.0\n"
     ]
    }
   ],
   "source": [
    "# Calculate the Gradient Decient     --> Optimal Coefficient Algorithum \n",
    "x = np.array([1,2,3,4,5])                             # Input \n",
    "y_actival = np.array([50,100,150,200,250])                    # output\n",
    "beta = np.random.rand()                               # Random weights(beta)\n",
    "lr = 0.01                                             # Alpha \n",
    "for _ in range(20):\n",
    "    y_predict = beta * x                              # Predict Values\n",
    "    loss = np.sum(np.square(y_actival - y_predict))   # Loss\n",
    "    \n",
    "    loss_deravtive = 2 * np.sum((y_actival - y_predict)*(-x)) \n",
    "        \n",
    "    beta = beta - (lr * loss_deravtive)\n",
    "\n",
    "print('The Coefficient : ', beta)    "
   ]
  },
  {
   "cell_type": "code",
   "execution_count": null,
   "id": "160dad79",
   "metadata": {},
   "outputs": [],
   "source": []
  }
 ],
 "metadata": {
  "kernelspec": {
   "display_name": "Python 3 (ipykernel)",
   "language": "python",
   "name": "python3"
  },
  "language_info": {
   "codemirror_mode": {
    "name": "ipython",
    "version": 3
   },
   "file_extension": ".py",
   "mimetype": "text/x-python",
   "name": "python",
   "nbconvert_exporter": "python",
   "pygments_lexer": "ipython3",
   "version": "3.11.5"
  }
 },
 "nbformat": 4,
 "nbformat_minor": 5
}
