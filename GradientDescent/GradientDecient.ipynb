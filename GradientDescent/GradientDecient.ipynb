{
 "cells": [
  {
   "cell_type": "code",
   "execution_count": 1,
   "id": "f9102275",
   "metadata": {},
   "outputs": [],
   "source": [
    "import numpy as np "
   ]
  },
  {
   "cell_type": "code",
   "execution_count": 9,
   "id": "7eabd7f6",
   "metadata": {},
   "outputs": [
    {
     "name": "stdout",
     "output_type": "stream",
     "text": [
      "The Coefficient :  283019.9852031544\n",
      "The Coefficient :  254718.00147968455\n",
      "The Coefficient :  257548.19985203154\n",
      "The Coefficient :  257265.18001479685\n",
      "The Coefficient :  257293.4819985203\n",
      "The Coefficient :  257290.65180014796\n",
      "The Coefficient :  257290.9348199852\n",
      "The Coefficient :  257290.9065180015\n",
      "The Coefficient :  257290.90934819987\n",
      "The Coefficient :  257290.90906518\n",
      "The Coefficient :  257290.909093482\n",
      "The Coefficient :  257290.9090906518\n",
      "The Coefficient :  257290.90909093482\n",
      "The Coefficient :  257290.9090909065\n",
      "The Coefficient :  257290.90909090938\n",
      "The Coefficient :  257290.9090909091\n",
      "The Coefficient :  257290.9090909091\n",
      "The Coefficient :  257290.9090909091\n",
      "The Coefficient :  257290.9090909091\n",
      "The Coefficient :  257290.9090909091\n"
     ]
    }
   ],
   "source": [
    "# Calculate the Gradient Decient     --> Optimal Coefficient Algorithum \n",
    "x = np.array([1,2,3,4,5])                             # Input \n",
    "y_actival = np.array([1000,200000,150000,200000,2500000])                    # output\n",
    "beta = np.random.rand()                                # Random weights(beta)\n",
    "lr = 0.01                                             # Alpha \n",
    "for _ in range(20):\n",
    "    y_predict = beta * x                              # Predict Values\n",
    "    loss = np.sum(np.square(y_actival - y_predict))   # Loss\n",
    "    \n",
    "    loss_deravtive = 2 * np.sum((y_actival - y_predict)*(-x)) \n",
    "        \n",
    "    beta = beta - (lr * loss_deravtive)\n",
    "    print('The Coefficient : ', beta) \n",
    "   "
   ]
  },
  {
   "cell_type": "code",
   "execution_count": 11,
   "id": "39ac0b8c",
   "metadata": {},
   "outputs": [],
   "source": [
    "import numpy as np\n",
    "def Sigmoid_fun(x):\n",
    "    return 1/(1+np.exp(-x))"
   ]
  },
  {
   "cell_type": "code",
   "execution_count": 18,
   "id": "5cf3e171",
   "metadata": {},
   "outputs": [
    {
     "data": {
      "text/plain": [
       "4.5397868702434395e-05"
      ]
     },
     "execution_count": 18,
     "metadata": {},
     "output_type": "execute_result"
    }
   ],
   "source": [
    "Sigmoid_fun(-10)"
   ]
  },
  {
   "cell_type": "code",
   "execution_count": null,
   "id": "90710b92",
   "metadata": {},
   "outputs": [],
   "source": []
  }
 ],
 "metadata": {
  "kernelspec": {
   "display_name": "Python 3 (ipykernel)",
   "language": "python",
   "name": "python3"
  },
  "language_info": {
   "codemirror_mode": {
    "name": "ipython",
    "version": 3
   },
   "file_extension": ".py",
   "mimetype": "text/x-python",
   "name": "python",
   "nbconvert_exporter": "python",
   "pygments_lexer": "ipython3",
   "version": "3.11.5"
  }
 },
 "nbformat": 4,
 "nbformat_minor": 5
}
