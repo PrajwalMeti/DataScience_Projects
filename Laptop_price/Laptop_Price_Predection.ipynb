{
 "cells": [
  {
   "cell_type": "code",
   "execution_count": 1,
   "id": "141ba049",
   "metadata": {},
   "outputs": [],
   "source": [
    "import pandas as pd \n",
    "import numpy as np \n",
    "import matplotlib.pyplot as plt\n",
    "import seaborn as sns\n",
    "from scipy.stats import chi2_contingency\n",
    "from scipy.stats import f_oneway\n",
    "from sklearn.preprocessing import StandardScaler,OneHotEncoder,LabelEncoder,MinMaxScaler\n",
    "from sklearn.linear_model import LinearRegression\n",
    "from sklearn.model_selection import train_test_split\n",
    "from sklearn.compose import ColumnTransformer\n",
    "from sklearn.metrics import r2_score\n",
    "from sklearn.tree import DecisionTreeRegressor\n",
    "from sklearn.ensemble import RandomForestRegressor\n",
    "from sklearn.neighbors import KNeighborsRegressor\n",
    "from sklearn.pipeline import Pipeline\n",
    "import pickle\n",
    "import warnings "
   ]
  },
  {
   "cell_type": "code",
   "execution_count": 5,
   "id": "9037f3d7",
   "metadata": {},
   "outputs": [
    {
     "data": {
      "text/plain": [
       "Index(['index', 'brand', 'Model', 'Price', 'Rating', 'processor_brand',\n",
       "       'processor_tier', 'num_cores', 'num_threads', 'ram_memory',\n",
       "       'primary_storage_type', 'primary_storage_capacity',\n",
       "       'secondary_storage_type', 'secondary_storage_capacity', 'gpu_brand',\n",
       "       'gpu_type', 'is_touch_screen', 'display_size', 'resolution_width',\n",
       "       'resolution_height', 'OS', 'year_of_warranty'],\n",
       "      dtype='object')"
      ]
     },
     "execution_count": 5,
     "metadata": {},
     "output_type": "execute_result"
    }
   ],
   "source": [
    "laptop_df = pd.read_csv('laptops.csv')\n",
    "laptop_columns = laptop_df.columns\n",
    "laptop_columns # among all the columns all are input ,Price is output \n",
    "# laptop_df"
   ]
  },
  {
   "cell_type": "code",
   "execution_count": 6,
   "id": "87c0bc2e",
   "metadata": {},
   "outputs": [
    {
     "data": {
      "text/plain": [
       "(991, 22)"
      ]
     },
     "execution_count": 6,
     "metadata": {},
     "output_type": "execute_result"
    }
   ],
   "source": [
    "laptop_df.shape"
   ]
  },
  {
   "cell_type": "code",
   "execution_count": 9,
   "id": "3174e14a",
   "metadata": {},
   "outputs": [
    {
     "data": {
      "text/plain": [
       "index                           int64\n",
       "brand                          object\n",
       "Model                          object\n",
       "Price                           int64\n",
       "Rating                          int64\n",
       "processor_brand                object\n",
       "processor_tier                 object\n",
       "num_cores                       int64\n",
       "num_threads                     int64\n",
       "ram_memory                      int64\n",
       "primary_storage_type           object\n",
       "primary_storage_capacity        int64\n",
       "secondary_storage_type         object\n",
       "secondary_storage_capacity      int64\n",
       "gpu_brand                      object\n",
       "gpu_type                       object\n",
       "is_touch_screen                  bool\n",
       "display_size                  float64\n",
       "resolution_width                int64\n",
       "resolution_height               int64\n",
       "OS                             object\n",
       "year_of_warranty               object\n",
       "dtype: object"
      ]
     },
     "execution_count": 9,
     "metadata": {},
     "output_type": "execute_result"
    }
   ],
   "source": [
    "laptop_df.dtypes # find the datatype of each column"
   ]
  },
  {
   "cell_type": "code",
   "execution_count": 6,
   "id": "a4b47bc3",
   "metadata": {},
   "outputs": [
    {
     "data": {
      "text/plain": [
       "{'index': 0,\n",
       " 'brand': 0,\n",
       " 'Model': 0,\n",
       " 'Price': 0,\n",
       " 'Rating': 0,\n",
       " 'processor_brand': 0,\n",
       " 'processor_tier': 0,\n",
       " 'num_cores': 0,\n",
       " 'num_threads': 0,\n",
       " 'ram_memory': 0,\n",
       " 'primary_storage_type': 0,\n",
       " 'primary_storage_capacity': 0,\n",
       " 'secondary_storage_type': 0,\n",
       " 'secondary_storage_capacity': 0,\n",
       " 'gpu_brand': 0,\n",
       " 'gpu_type': 0,\n",
       " 'is_touch_screen': 0,\n",
       " 'display_size': 0,\n",
       " 'resolution_width': 0,\n",
       " 'resolution_height': 0,\n",
       " 'OS': 0,\n",
       " 'year_of_warranty': 0}"
      ]
     },
     "execution_count": 6,
     "metadata": {},
     "output_type": "execute_result"
    }
   ],
   "source": [
    "def calculate_missing_values_in_each_column():\n",
    "    columns_having_null = {}\n",
    "    for column in laptop_df.columns:\n",
    "        y = laptop_df[column].isnull().sum()\n",
    "        columns_having_null[column] = y\n",
    "    return columns_having_null\n",
    "calculate_missing_values_in_each_column()\n",
    "# we came to know that there is no missing values in the laptop dataset"
   ]
  },
  {
   "cell_type": "code",
   "execution_count": 7,
   "id": "5ee5d57e",
   "metadata": {},
   "outputs": [
    {
     "data": {
      "text/plain": [
       "index                         0\n",
       "brand                         0\n",
       "Model                         0\n",
       "Price                         0\n",
       "Rating                        0\n",
       "processor_brand               0\n",
       "processor_tier                0\n",
       "num_cores                     0\n",
       "num_threads                   0\n",
       "ram_memory                    0\n",
       "primary_storage_type          0\n",
       "primary_storage_capacity      0\n",
       "secondary_storage_type        0\n",
       "secondary_storage_capacity    0\n",
       "gpu_brand                     0\n",
       "gpu_type                      0\n",
       "is_touch_screen               0\n",
       "display_size                  0\n",
       "resolution_width              0\n",
       "resolution_height             0\n",
       "OS                            0\n",
       "year_of_warranty              0\n",
       "dtype: int64"
      ]
     },
     "execution_count": 7,
     "metadata": {},
     "output_type": "execute_result"
    }
   ],
   "source": [
    "laptop_df.isnull().sum() # returns the same as above "
   ]
  },
  {
   "cell_type": "code",
   "execution_count": 10,
   "id": "8bff11e5",
   "metadata": {},
   "outputs": [
    {
     "data": {
      "text/plain": [
       "{'whiskers': [<matplotlib.lines.Line2D at 0x24e8ed67950>,\n",
       "  <matplotlib.lines.Line2D at 0x24e8ef47b50>],\n",
       " 'caps': [<matplotlib.lines.Line2D at 0x24e8e9e9b50>,\n",
       "  <matplotlib.lines.Line2D at 0x24e8ef51510>],\n",
       " 'boxes': [<matplotlib.lines.Line2D at 0x24e8ef0f650>],\n",
       " 'medians': [<matplotlib.lines.Line2D at 0x24e8ef52090>],\n",
       " 'fliers': [<matplotlib.lines.Line2D at 0x24e8eba7dd0>],\n",
       " 'means': []}"
      ]
     },
     "execution_count": 10,
     "metadata": {},
     "output_type": "execute_result"
    },
    {
     "data": {
      "image/png": "[encoded data removed]",
      "text/plain": [
       "<Figure size 640x480 with 1 Axes>"
      ]
     },
     "metadata": {},
     "output_type": "display_data"
    }
   ],
   "source": [
    "plt.boxplot(laptop_df['Price']) \n",
    "# In the Figure we came to know that all the values are high value outlier so we will pass that to the logarithumic distrbution"
   ]
  },
  {
   "cell_type": "code",
   "execution_count": 9,
   "id": "cbf82e9c",
   "metadata": {},
   "outputs": [
    {
     "name": "stderr",
     "output_type": "stream",
     "text": [
      "C:\\Users\\pbandi\\AppData\\Local\\Temp\\ipykernel_1368\\2900327750.py:1: UserWarning: \n",
      "\n",
      "`distplot` is a deprecated function and will be removed in seaborn v0.14.0.\n",
      "\n",
      "Please adapt your code to use either `displot` (a figure-level function with\n",
      "similar flexibility) or `histplot` (an axes-level function for histograms).\n",
      "\n",
      "For a guide to updating your code to use the new functions, please see\n",
      "https://gist.github.com/mwaskom/de44147ed2974457ad6372750bbe5751\n",
      "\n",
      "  sns.distplot(laptop_df['Price'])\n"
     ]
    },
    {
     "data": {
      "text/plain": [
       "<Axes: xlabel='Price', ylabel='Density'>"
      ]
     },
     "execution_count": 9,
     "metadata": {},
     "output_type": "execute_result"
    },
    {
     "data": {
      "image/png": "[encoded data removed]",
      "text/plain": [
       "<Figure size 640x480 with 1 Axes>"
      ]
     },
     "metadata": {},
     "output_type": "display_data"
    }
   ],
   "source": [
    "sns.distplot(laptop_df['Price'])"
   ]
  },
  {
   "cell_type": "code",
   "execution_count": 10,
   "id": "738a762e",
   "metadata": {},
   "outputs": [
    {
     "data": {
      "text/plain": [
       "count       991.000000\n",
       "mean      77266.504541\n",
       "std       57384.910269\n",
       "min        9800.000000\n",
       "25%       43595.000000\n",
       "50%       61900.000000\n",
       "75%       89245.000000\n",
       "max      454490.000000\n",
       "Name: Price, dtype: float64"
      ]
     },
     "execution_count": 10,
     "metadata": {},
     "output_type": "execute_result"
    }
   ],
   "source": [
    "laptop_df['Price'].describe()"
   ]
  },
  {
   "cell_type": "code",
   "execution_count": 11,
   "id": "6763a35d",
   "metadata": {},
   "outputs": [],
   "source": [
    "remove_outlier_from_output = laptop_df['Price'] = laptop_df['Price'].apply(np.log)\n"
   ]
  },
  {
   "cell_type": "code",
   "execution_count": 12,
   "id": "06cb4b4f",
   "metadata": {},
   "outputs": [
    {
     "name": "stderr",
     "output_type": "stream",
     "text": [
      "C:\\Users\\pbandi\\AppData\\Local\\Temp\\ipykernel_1368\\2900327750.py:1: UserWarning: \n",
      "\n",
      "`distplot` is a deprecated function and will be removed in seaborn v0.14.0.\n",
      "\n",
      "Please adapt your code to use either `displot` (a figure-level function with\n",
      "similar flexibility) or `histplot` (an axes-level function for histograms).\n",
      "\n",
      "For a guide to updating your code to use the new functions, please see\n",
      "https://gist.github.com/mwaskom/de44147ed2974457ad6372750bbe5751\n",
      "\n",
      "  sns.distplot(laptop_df['Price'])\n"
     ]
    },
    {
     "data": {
      "text/plain": [
       "<Axes: xlabel='Price', ylabel='Density'>"
      ]
     },
     "execution_count": 12,
     "metadata": {},
     "output_type": "execute_result"
    },
    {
     "data": {
      "image/png": "[encoded data removed]",
      "text/plain": [
       "<Figure size 640x480 with 1 Axes>"
      ]
     },
     "metadata": {},
     "output_type": "display_data"
    }
   ],
   "source": [
    "sns.distplot(laptop_df['Price'])"
   ]
  },
  {
   "cell_type": "code",
   "execution_count": 13,
   "id": "50ccc060",
   "metadata": {},
   "outputs": [
    {
     "data": {
      "text/plain": [
       "['index', 'Model']"
      ]
     },
     "execution_count": 13,
     "metadata": {},
     "output_type": "execute_result"
    }
   ],
   "source": [
    "# returns the unique vavlues in the Datasets\n",
    "def returns_the_unique_values_in_dataset(dataset,columns):\n",
    "    unique_value_columns = []\n",
    "    for column in columns:\n",
    "        if len(dataset[column].unique()) == dataset.shape[0]:\n",
    "            unique_value_columns.append(column)\n",
    "    return unique_value_columns\n",
    "returns_the_unique_values_in_dataset(laptop_df,laptop_df.columns)"
   ]
  },
  {
   "cell_type": "code",
   "execution_count": 14,
   "id": "e5344d33",
   "metadata": {},
   "outputs": [],
   "source": [
    "# From the above function we conclude that index and model are unique number so we will elemintate those from dataset\n",
    "laptop_df.drop(columns = ['index','Model'],inplace = True)"
   ]
  },
  {
   "cell_type": "code",
   "execution_count": 16,
   "id": "568fe891",
   "metadata": {},
   "outputs": [
    {
     "data": {
      "text/plain": [
       "['num_cores',\n",
       " 'num_threads',\n",
       " 'ram_memory',\n",
       " 'primary_storage_capacity',\n",
       " 'secondary_storage_capacity',\n",
       " 'is_touch_screen',\n",
       " 'display_size',\n",
       " 'resolution_width',\n",
       " 'resolution_height']"
      ]
     },
     "execution_count": 16,
     "metadata": {},
     "output_type": "execute_result"
    }
   ],
   "source": [
    "continious_columns = [column for column in laptop_df.columns if laptop_df[column].dtypes != 'object']\n",
    "continious_columns.remove('Price')\n",
    "continious_columns.remove('Rating')\n",
    "continious_columns"
   ]
  },
  {
   "cell_type": "code",
   "execution_count": 21,
   "id": "8ebfca3a",
   "metadata": {},
   "outputs": [
    {
     "name": "stdout",
     "output_type": "stream",
     "text": [
      "Not Corelated\n"
     ]
    }
   ],
   "source": [
    "# find the corelation between the Input Features and Output for the continious Features\n",
    "corelation = np.corrcoef(laptop_df['Rating'],laptop_df['Price'])[0,1]\n",
    "if corelation < 0.05 : \n",
    "    print('Corelated')\n",
    "else:\n",
    "    print('Not Corelated') # so we will drop the Rating columns from the Data Set"
   ]
  },
  {
   "cell_type": "code",
   "execution_count": 22,
   "id": "0ee4321b",
   "metadata": {},
   "outputs": [],
   "source": [
    "laptop_df.drop(columns = 'Rating',inplace = True)"
   ]
  },
  {
   "cell_type": "code",
   "execution_count": 18,
   "id": "8c8f105b",
   "metadata": {},
   "outputs": [],
   "source": [
    "# Conver the input fetures continious into catogoriacl \n",
    "for column in continious_columns:\n",
    "    laptop_df[column] = laptop_df[column].astype('object')"
   ]
  },
  {
   "cell_type": "code",
   "execution_count": 19,
   "id": "889aebbd",
   "metadata": {},
   "outputs": [
    {
     "data": {
      "text/plain": [
       "{'brand': 'Co-related',\n",
       " 'processor_brand': 'Co-related',\n",
       " 'processor_tier': 'Co-related',\n",
       " 'num_cores': 'Co-related',\n",
       " 'num_threads': 'Co-related',\n",
       " 'ram_memory': 'Co-related',\n",
       " 'primary_storage_type': 'Co-related',\n",
       " 'primary_storage_capacity': 'Co-related',\n",
       " 'secondary_storage_type': 'Not Co-related',\n",
       " 'secondary_storage_capacity': 'Not Co-related',\n",
       " 'gpu_brand': 'Co-related',\n",
       " 'gpu_type': 'Co-related',\n",
       " 'is_touch_screen': 'Co-related',\n",
       " 'display_size': 'Co-related',\n",
       " 'resolution_width': 'Co-related',\n",
       " 'resolution_height': 'Co-related',\n",
       " 'OS': 'Co-related',\n",
       " 'year_of_warranty': 'Co-related'}"
      ]
     },
     "execution_count": 19,
     "metadata": {},
     "output_type": "execute_result"
    }
   ],
   "source": [
    "# To Identify the corelation between catogorical Variables and output Sales Price\n",
    "final_columns = [column for column in laptop_df.columns if column != 'Price'] \n",
    "def Anova(dataset,columns):\n",
    "    Corelated_or_not_columns = {}\n",
    "    for column in columns:\n",
    "        categories = list(dataset[column].value_counts().index)\n",
    "        p_values = f_oneway(*[laptop_df[laptop_df[column] == cat]['Price'] for cat in categories])[1]\n",
    "        if p_values < 0.05:\n",
    "            Corelated_or_not_columns[column] = 'Co-related'\n",
    "        else:\n",
    "            Corelated_or_not_columns[column] = 'Not Co-related'\n",
    "    return Corelated_or_not_columns\n",
    "Anova(laptop_df,final_columns) # here we came to know that all the Input Featues are coreletad so No need to eliminate any input features"
   ]
  },
  {
   "cell_type": "code",
   "execution_count": 23,
   "id": "44190162",
   "metadata": {},
   "outputs": [],
   "source": [
    "y = laptop_df['Price']"
   ]
  },
  {
   "cell_type": "code",
   "execution_count": 24,
   "id": "e144afdf",
   "metadata": {},
   "outputs": [],
   "source": [
    "laptop_df.drop(columns = 'Price',inplace = True)"
   ]
  },
  {
   "cell_type": "code",
   "execution_count": 27,
   "id": "cb48c8cf",
   "metadata": {},
   "outputs": [],
   "source": [
    "Label_encoding = LabelEncoder()\n",
    "for column in laptop_df.columns:\n",
    "    laptop_df[column] = Label_encoding.fit_transform(laptop_df[column])"
   ]
  },
  {
   "cell_type": "code",
   "execution_count": 29,
   "id": "0ca79da4",
   "metadata": {},
   "outputs": [],
   "source": [
    "# Saparate the Date of  \n",
    "X_train,X_test,y_train,y_test = train_test_split(laptop_df,y, test_size= 0.2 , random_state= 1)"
   ]
  },
  {
   "cell_type": "code",
   "execution_count": 35,
   "id": "a067847b",
   "metadata": {},
   "outputs": [],
   "source": [
    "liner_reg = LinearRegression()"
   ]
  },
  {
   "cell_type": "code",
   "execution_count": 36,
   "id": "f865bdd7",
   "metadata": {},
   "outputs": [
    {
     "data": {
      "text/html": [
       "<style>#sk-container-id-2 {color: black;}#sk-container-id-2 pre{padding: 0;}#sk-container-id-2 div.sk-toggleable {background-color: white;}#sk-container-id-2 label.sk-toggleable__label {cursor: pointer;display: block;width: 100%;margin-bottom: 0;padding: 0.3em;box-sizing: border-box;text-align: center;}#sk-container-id-2 label.sk-toggleable__label-arrow:before {content: \"▸\";float: left;margin-right: 0.25em;color: #696969;}#sk-container-id-2 label.sk-toggleable__label-arrow:hover:before {color: black;}#sk-container-id-2 div.sk-estimator:hover label.sk-toggleable__label-arrow:before {color: black;}#sk-container-id-2 div.sk-toggleable__content {max-height: 0;max-width: 0;overflow: hidden;text-align: left;background-color: #f0f8ff;}#sk-container-id-2 div.sk-toggleable__content pre {margin: 0.2em;color: black;border-radius: 0.25em;background-color: #f0f8ff;}#sk-container-id-2 input.sk-toggleable__control:checked~div.sk-toggleable__content {max-height: 200px;max-width: 100%;overflow: auto;}#sk-container-id-2 input.sk-toggleable__control:checked~label.sk-toggleable__label-arrow:before {content: \"▾\";}#sk-container-id-2 div.sk-estimator input.sk-toggleable__control:checked~label.sk-toggleable__label {background-color: #d4ebff;}#sk-container-id-2 div.sk-label input.sk-toggleable__control:checked~label.sk-toggleable__label {background-color: #d4ebff;}#sk-container-id-2 input.sk-hidden--visually {border: 0;clip: rect(1px 1px 1px 1px);clip: rect(1px, 1px, 1px, 1px);height: 1px;margin: -1px;overflow: hidden;padding: 0;position: absolute;width: 1px;}#sk-container-id-2 div.sk-estimator {font-family: monospace;background-color: #f0f8ff;border: 1px dotted black;border-radius: 0.25em;box-sizing: border-box;margin-bottom: 0.5em;}#sk-container-id-2 div.sk-estimator:hover {background-color: #d4ebff;}#sk-container-id-2 div.sk-parallel-item::after {content: \"\";width: 100%;border-bottom: 1px solid gray;flex-grow: 1;}#sk-container-id-2 div.sk-label:hover label.sk-toggleable__label {background-color: #d4ebff;}#sk-container-id-2 div.sk-serial::before {content: \"\";position: absolute;border-left: 1px solid gray;box-sizing: border-box;top: 0;bottom: 0;left: 50%;z-index: 0;}#sk-container-id-2 div.sk-serial {display: flex;flex-direction: column;align-items: center;background-color: white;padding-right: 0.2em;padding-left: 0.2em;position: relative;}#sk-container-id-2 div.sk-item {position: relative;z-index: 1;}#sk-container-id-2 div.sk-parallel {display: flex;align-items: stretch;justify-content: center;background-color: white;position: relative;}#sk-container-id-2 div.sk-item::before, #sk-container-id-2 div.sk-parallel-item::before {content: \"\";position: absolute;border-left: 1px solid gray;box-sizing: border-box;top: 0;bottom: 0;left: 50%;z-index: -1;}#sk-container-id-2 div.sk-parallel-item {display: flex;flex-direction: column;z-index: 1;position: relative;background-color: white;}#sk-container-id-2 div.sk-parallel-item:first-child::after {align-self: flex-end;width: 50%;}#sk-container-id-2 div.sk-parallel-item:last-child::after {align-self: flex-start;width: 50%;}#sk-container-id-2 div.sk-parallel-item:only-child::after {width: 0;}#sk-container-id-2 div.sk-dashed-wrapped {border: 1px dashed gray;margin: 0 0.4em 0.5em 0.4em;box-sizing: border-box;padding-bottom: 0.4em;background-color: white;}#sk-container-id-2 div.sk-label label {font-family: monospace;font-weight: bold;display: inline-block;line-height: 1.2em;}#sk-container-id-2 div.sk-label-container {text-align: center;}#sk-container-id-2 div.sk-container {/* jupyter's `normalize.less` sets `[hidden] { display: none; }` but bootstrap.min.css set `[hidden] { display: none !important; }` so we also need the `!important` here to be able to override the default hidden behavior on the sphinx rendered scikit-learn.org. See: https://github.com/scikit-learn/scikit-learn/issues/21755 */display: inline-block !important;position: relative;}#sk-container-id-2 div.sk-text-repr-fallback {display: none;}</style><div id=\"sk-container-id-2\" class=\"sk-top-container\"><div class=\"sk-text-repr-fallback\"><pre>LinearRegression()</pre><b>In a Jupyter environment, please rerun this cell to show the HTML representation or trust the notebook. <br />On GitHub, the HTML representation is unable to render, please try loading this page with nbviewer.org.</b></div><div class=\"sk-container\" hidden><div class=\"sk-item\"><div class=\"sk-estimator sk-toggleable\"><input class=\"sk-toggleable__control sk-hidden--visually\" id=\"sk-estimator-id-2\" type=\"checkbox\" checked><label for=\"sk-estimator-id-2\" class=\"sk-toggleable__label sk-toggleable__label-arrow\">LinearRegression</label><div class=\"sk-toggleable__content\"><pre>LinearRegression()</pre></div></div></div></div></div>"
      ],
      "text/plain": [
       "LinearRegression()"
      ]
     },
     "execution_count": 36,
     "metadata": {},
     "output_type": "execute_result"
    }
   ],
   "source": [
    "liner_reg.fit(X_train,y_train)"
   ]
  },
  {
   "cell_type": "code",
   "execution_count": 37,
   "id": "045c55dc",
   "metadata": {},
   "outputs": [],
   "source": [
    "y_linear_reg_pred = liner_reg.predict(X_test)"
   ]
  },
  {
   "cell_type": "code",
   "execution_count": 38,
   "id": "c485cea6",
   "metadata": {},
   "outputs": [
    {
     "data": {
      "text/plain": [
       "0.6775892012508735"
      ]
     },
     "execution_count": 38,
     "metadata": {},
     "output_type": "execute_result"
    }
   ],
   "source": [
    "r2_score(y_test,y_linear_reg_pred)"
   ]
  },
  {
   "cell_type": "code",
   "execution_count": 41,
   "id": "71b8c7cf",
   "metadata": {},
   "outputs": [],
   "source": [
    "decision_tree = DecisionTreeRegressor()\n",
    "decision_tree.fit(X_train,y_train)\n",
    "y_decision_tree_pred = decision_tree.predict(X_test)"
   ]
  },
  {
   "cell_type": "code",
   "execution_count": 42,
   "id": "ff2cbc18",
   "metadata": {},
   "outputs": [
    {
     "data": {
      "text/plain": [
       "0.6921173647497496"
      ]
     },
     "execution_count": 42,
     "metadata": {},
     "output_type": "execute_result"
    }
   ],
   "source": [
    "r2_score(y_test,y_decision_tree_pred)"
   ]
  },
  {
   "cell_type": "code",
   "execution_count": 43,
   "id": "bcb24b41",
   "metadata": {},
   "outputs": [
    {
     "data": {
      "text/plain": [
       "0.8188071202578077"
      ]
     },
     "execution_count": 43,
     "metadata": {},
     "output_type": "execute_result"
    }
   ],
   "source": [
    "randomforest = RandomForestRegressor()\n",
    "randomforest.fit(X_train,y_train)\n",
    "y_randomforest_predict = randomforest.predict(X_test)\n",
    "r2_score(y_test,y_randomforest_predict)"
   ]
  },
  {
   "cell_type": "code",
   "execution_count": 44,
   "id": "303c58cb",
   "metadata": {},
   "outputs": [
    {
     "data": {
      "text/plain": [
       "0.7612628872876871"
      ]
     },
     "execution_count": 44,
     "metadata": {},
     "output_type": "execute_result"
    }
   ],
   "source": [
    "knn = KNeighborsRegressor()\n",
    "knn.fit(X_train,y_train)\n",
    "y_knn_predict = knn.predict(X_test)\n",
    "r2_score(y_test,y_knn_predict)"
   ]
  },
  {
   "cell_type": "code",
   "execution_count": 45,
   "id": "fa206b79",
   "metadata": {},
   "outputs": [],
   "source": [
    "# From the Above modle we came to know that random forest regressor is the best modle for the above data set \n",
    "# So we will deploy using Random Forest Regressor"
   ]
  },
  {
   "cell_type": "code",
   "execution_count": 46,
   "id": "6de6321f",
   "metadata": {},
   "outputs": [],
   "source": [
    "filename = 'Laptop_Price_calcualtion.sav'"
   ]
  },
  {
   "cell_type": "code",
   "execution_count": 47,
   "id": "088a0f65",
   "metadata": {},
   "outputs": [],
   "source": [
    "pickle.dump(randomforest,open(filename,'wb'))"
   ]
  },
  {
   "cell_type": "code",
   "execution_count": 48,
   "id": "421a9caa",
   "metadata": {},
   "outputs": [],
   "source": [
    "#Load the Saved Model \n",
    "loded_model = pickle.load(open('Laptop_Price_calcualtion.sav','rb'))"
   ]
  },
  {
   "cell_type": "code",
   "execution_count": null,
   "id": "c1f5c25d",
   "metadata": {},
   "outputs": [],
   "source": []
  },
  {
   "cell_type": "code",
   "execution_count": 50,
   "id": "5dde70e5",
   "metadata": {
    "scrolled": true
   },
   "outputs": [
    {
     "data": {
      "text/html": [
       "<style>#sk-container-id-3 {color: black;}#sk-container-id-3 pre{padding: 0;}#sk-container-id-3 div.sk-toggleable {background-color: white;}#sk-container-id-3 label.sk-toggleable__label {cursor: pointer;display: block;width: 100%;margin-bottom: 0;padding: 0.3em;box-sizing: border-box;text-align: center;}#sk-container-id-3 label.sk-toggleable__label-arrow:before {content: \"▸\";float: left;margin-right: 0.25em;color: #696969;}#sk-container-id-3 label.sk-toggleable__label-arrow:hover:before {color: black;}#sk-container-id-3 div.sk-estimator:hover label.sk-toggleable__label-arrow:before {color: black;}#sk-container-id-3 div.sk-toggleable__content {max-height: 0;max-width: 0;overflow: hidden;text-align: left;background-color: #f0f8ff;}#sk-container-id-3 div.sk-toggleable__content pre {margin: 0.2em;color: black;border-radius: 0.25em;background-color: #f0f8ff;}#sk-container-id-3 input.sk-toggleable__control:checked~div.sk-toggleable__content {max-height: 200px;max-width: 100%;overflow: auto;}#sk-container-id-3 input.sk-toggleable__control:checked~label.sk-toggleable__label-arrow:before {content: \"▾\";}#sk-container-id-3 div.sk-estimator input.sk-toggleable__control:checked~label.sk-toggleable__label {background-color: #d4ebff;}#sk-container-id-3 div.sk-label input.sk-toggleable__control:checked~label.sk-toggleable__label {background-color: #d4ebff;}#sk-container-id-3 input.sk-hidden--visually {border: 0;clip: rect(1px 1px 1px 1px);clip: rect(1px, 1px, 1px, 1px);height: 1px;margin: -1px;overflow: hidden;padding: 0;position: absolute;width: 1px;}#sk-container-id-3 div.sk-estimator {font-family: monospace;background-color: #f0f8ff;border: 1px dotted black;border-radius: 0.25em;box-sizing: border-box;margin-bottom: 0.5em;}#sk-container-id-3 div.sk-estimator:hover {background-color: #d4ebff;}#sk-container-id-3 div.sk-parallel-item::after {content: \"\";width: 100%;border-bottom: 1px solid gray;flex-grow: 1;}#sk-container-id-3 div.sk-label:hover label.sk-toggleable__label {background-color: #d4ebff;}#sk-container-id-3 div.sk-serial::before {content: \"\";position: absolute;border-left: 1px solid gray;box-sizing: border-box;top: 0;bottom: 0;left: 50%;z-index: 0;}#sk-container-id-3 div.sk-serial {display: flex;flex-direction: column;align-items: center;background-color: white;padding-right: 0.2em;padding-left: 0.2em;position: relative;}#sk-container-id-3 div.sk-item {position: relative;z-index: 1;}#sk-container-id-3 div.sk-parallel {display: flex;align-items: stretch;justify-content: center;background-color: white;position: relative;}#sk-container-id-3 div.sk-item::before, #sk-container-id-3 div.sk-parallel-item::before {content: \"\";position: absolute;border-left: 1px solid gray;box-sizing: border-box;top: 0;bottom: 0;left: 50%;z-index: -1;}#sk-container-id-3 div.sk-parallel-item {display: flex;flex-direction: column;z-index: 1;position: relative;background-color: white;}#sk-container-id-3 div.sk-parallel-item:first-child::after {align-self: flex-end;width: 50%;}#sk-container-id-3 div.sk-parallel-item:last-child::after {align-self: flex-start;width: 50%;}#sk-container-id-3 div.sk-parallel-item:only-child::after {width: 0;}#sk-container-id-3 div.sk-dashed-wrapped {border: 1px dashed gray;margin: 0 0.4em 0.5em 0.4em;box-sizing: border-box;padding-bottom: 0.4em;background-color: white;}#sk-container-id-3 div.sk-label label {font-family: monospace;font-weight: bold;display: inline-block;line-height: 1.2em;}#sk-container-id-3 div.sk-label-container {text-align: center;}#sk-container-id-3 div.sk-container {/* jupyter's `normalize.less` sets `[hidden] { display: none; }` but bootstrap.min.css set `[hidden] { display: none !important; }` so we also need the `!important` here to be able to override the default hidden behavior on the sphinx rendered scikit-learn.org. See: https://github.com/scikit-learn/scikit-learn/issues/21755 */display: inline-block !important;position: relative;}#sk-container-id-3 div.sk-text-repr-fallback {display: none;}</style><div id=\"sk-container-id-3\" class=\"sk-top-container\"><div class=\"sk-text-repr-fallback\"><pre>RandomForestRegressor()</pre><b>In a Jupyter environment, please rerun this cell to show the HTML representation or trust the notebook. <br />On GitHub, the HTML representation is unable to render, please try loading this page with nbviewer.org.</b></div><div class=\"sk-container\" hidden><div class=\"sk-item\"><div class=\"sk-estimator sk-toggleable\"><input class=\"sk-toggleable__control sk-hidden--visually\" id=\"sk-estimator-id-3\" type=\"checkbox\" checked><label for=\"sk-estimator-id-3\" class=\"sk-toggleable__label sk-toggleable__label-arrow\">RandomForestRegressor</label><div class=\"sk-toggleable__content\"><pre>RandomForestRegressor()</pre></div></div></div></div></div>"
      ],
      "text/plain": [
       "RandomForestRegressor()"
      ]
     },
     "execution_count": 50,
     "metadata": {},
     "output_type": "execute_result"
    }
   ],
   "source": [
    "loded_model.fit(X_train,y_train)"
   ]
  },
  {
   "cell_type": "code",
   "execution_count": 52,
   "id": "310a7039",
   "metadata": {},
   "outputs": [],
   "source": [
    "outcomes = loded_model.predict(X_test)"
   ]
  },
  {
   "cell_type": "code",
   "execution_count": 54,
   "id": "c34fb056",
   "metadata": {},
   "outputs": [
    {
     "data": {
      "text/plain": [
       "0.8135755905195124"
      ]
     },
     "execution_count": 54,
     "metadata": {},
     "output_type": "execute_result"
    }
   ],
   "source": [
    "r2_score(y_test,outcomes)"
   ]
  },
  {
   "cell_type": "code",
   "execution_count": null,
   "id": "c65cbd23",
   "metadata": {},
   "outputs": [],
   "source": []
  }
 ],
 "metadata": {
  "kernelspec": {
   "display_name": "Python 3 (ipykernel)",
   "language": "python",
   "name": "python3"
  },
  "language_info": {
   "codemirror_mode": {
    "name": "ipython",
    "version": 3
   },
   "file_extension": ".py",
   "mimetype": "text/x-python",
   "name": "python",
   "nbconvert_exporter": "python",
   "pygments_lexer": "ipython3",
   "version": "3.11.5"
  }
 },
 "nbformat": 4,
 "nbformat_minor": 5
}
