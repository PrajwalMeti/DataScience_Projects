{
 "cells": [
  {
   "cell_type": "code",
   "execution_count": 2,
   "id": "ea3173df",
   "metadata": {},
   "outputs": [],
   "source": [
    "import pandas as pd \n",
    "import numpy as np \n",
    "import matplotlib.pyplot as plt\n",
    "import seaborn as sns\n",
    "from sklearn.preprocessing import StandardScaler,minmax_scale,OneHotEncoder,LabelEncoder"
   ]
  },
  {
   "cell_type": "code",
   "execution_count": 3,
   "id": "1569e281",
   "metadata": {},
   "outputs": [],
   "source": [
    "laptop_df = pd.read_csv(\"laptops.csv\")"
   ]
  },
  {
   "cell_type": "code",
   "execution_count": 6,
   "id": "ca78faa2",
   "metadata": {},
   "outputs": [
    {
     "data": {
      "text/plain": [
       "index                         0\n",
       "brand                         0\n",
       "Model                         0\n",
       "Price                         0\n",
       "Rating                        0\n",
       "processor_brand               0\n",
       "processor_tier                0\n",
       "num_cores                     0\n",
       "num_threads                   0\n",
       "ram_memory                    0\n",
       "primary_storage_type          0\n",
       "primary_storage_capacity      0\n",
       "secondary_storage_type        0\n",
       "secondary_storage_capacity    0\n",
       "gpu_brand                     0\n",
       "gpu_type                      0\n",
       "is_touch_screen               0\n",
       "display_size                  0\n",
       "resolution_width              0\n",
       "resolution_height             0\n",
       "OS                            0\n",
       "year_of_warranty              0\n",
       "dtype: int64"
      ]
     },
     "execution_count": 6,
     "metadata": {},
     "output_type": "execute_result"
    }
   ],
   "source": [
    "laptop_df.isnull().sum()"
   ]
  },
  {
   "cell_type": "code",
   "execution_count": 12,
   "id": "4b81bd8b",
   "metadata": {},
   "outputs": [],
   "source": [
    "laptop_df['Price'] = laptop_df['Price'].apply(np.log)"
   ]
  },
  {
   "cell_type": "code",
   "execution_count": 13,
   "id": "0fb24d68",
   "metadata": {},
   "outputs": [
    {
     "data": {
      "text/plain": [
       "{'whiskers': [<matplotlib.lines.Line2D at 0x239d3c6ec10>,\n",
       "  <matplotlib.lines.Line2D at 0x239d3c6fd10>],\n",
       " 'caps': [<matplotlib.lines.Line2D at 0x239d3c70e10>,\n",
       "  <matplotlib.lines.Line2D at 0x239d3c71c50>],\n",
       " 'boxes': [<matplotlib.lines.Line2D at 0x239d3c6dd10>],\n",
       " 'medians': [<matplotlib.lines.Line2D at 0x239d3c72cd0>],\n",
       " 'fliers': [<matplotlib.lines.Line2D at 0x239d3a46890>],\n",
       " 'means': []}"
      ]
     },
     "execution_count": 13,
     "metadata": {},
     "output_type": "execute_result"
    },
    {
     "data": {
      "image/png": "[encoded data removed]",
      "text/plain": [
       "<Figure size 640x480 with 1 Axes>"
      ]
     },
     "metadata": {},
     "output_type": "display_data"
    }
   ],
   "source": [
    "plt.boxplot(laptop_df['Price'])"
   ]
  },
  {
   "cell_type": "code",
   "execution_count": 18,
   "id": "4bfebcdd",
   "metadata": {},
   "outputs": [
    {
     "data": {
      "text/plain": [
       "991"
      ]
     },
     "execution_count": 18,
     "metadata": {},
     "output_type": "execute_result"
    }
   ],
   "source": [
    "len(laptop_df['index'].unique())"
   ]
  },
  {
   "cell_type": "code",
   "execution_count": 20,
   "id": "5f38fdbd",
   "metadata": {},
   "outputs": [
    {
     "data": {
      "text/plain": [
       "991"
      ]
     },
     "execution_count": 20,
     "metadata": {},
     "output_type": "execute_result"
    }
   ],
   "source": [
    "laptop_df.shape[0]"
   ]
  },
  {
   "cell_type": "code",
   "execution_count": 22,
   "id": "3e9d2df9",
   "metadata": {},
   "outputs": [
    {
     "data": {
      "text/plain": [
       "0.685580704442722"
      ]
     },
     "execution_count": 22,
     "metadata": {},
     "output_type": "execute_result"
    }
   ],
   "source": [
    "np.corrcoef(laptop_df['Price'],laptop_df['ram_memory'])[0][1]"
   ]
  },
  {
   "cell_type": "code",
   "execution_count": null,
   "id": "b6e8baac",
   "metadata": {},
   "outputs": [],
   "source": []
  }
 ],
 "metadata": {
  "kernelspec": {
   "display_name": "Python 3 (ipykernel)",
   "language": "python",
   "name": "python3"
  },
  "language_info": {
   "codemirror_mode": {
    "name": "ipython",
    "version": 3
   },
   "file_extension": ".py",
   "mimetype": "text/x-python",
   "name": "python",
   "nbconvert_exporter": "python",
   "pygments_lexer": "ipython3",
   "version": "3.11.5"
  }
 },
 "nbformat": 4,
 "nbformat_minor": 5
}
