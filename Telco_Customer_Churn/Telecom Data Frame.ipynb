{
 "cells": [
  {
   "cell_type": "code",
   "execution_count": 1,
   "id": "01833917",
   "metadata": {},
   "outputs": [],
   "source": [
    "import pandas as pd \n",
    "import numpy as np "
   ]
  },
  {
   "cell_type": "code",
   "execution_count": 3,
   "id": "27c0b81e",
   "metadata": {},
   "outputs": [],
   "source": [
    "telecom_df = pd.read_csv('Telco_Customer_Churn_Data.csv')"
   ]
  },
  {
   "cell_type": "code",
   "execution_count": 6,
   "id": "7bed77cc",
   "metadata": {},
   "outputs": [],
   "source": [
    "missing_values_in_column = telecom_df.isnull().sum()"
   ]
  },
  {
   "cell_type": "code",
   "execution_count": 37,
   "id": "80fdf143",
   "metadata": {},
   "outputs": [
    {
     "data": {
      "text/plain": [
       "[]"
      ]
     },
     "execution_count": 37,
     "metadata": {},
     "output_type": "execute_result"
    }
   ],
   "source": [
    "TotalCharges_missing = []\n",
    "for i in telecom_df['TotalCharges']:\n",
    "    if i == ' ':\n",
    "        TotalCharges_missing.append(1)\n",
    "TotalCharges_missing "
   ]
  },
  {
   "cell_type": "code",
   "execution_count": 35,
   "id": "5f687bdd",
   "metadata": {},
   "outputs": [],
   "source": [
    "telecom_df['TotalCharges'] = telecom_df['TotalCharges'].replace(to_replace = ' ' , value = np.nan)"
   ]
  },
  {
   "cell_type": "code",
   "execution_count": 36,
   "id": "3126e126",
   "metadata": {},
   "outputs": [
    {
     "data": {
      "text/plain": [
       "0         29.85\n",
       "1        1889.5\n",
       "2        108.15\n",
       "3       1840.75\n",
       "4        151.65\n",
       "         ...   \n",
       "7038     1990.5\n",
       "7039     7362.9\n",
       "7040     346.45\n",
       "7041      306.6\n",
       "7042     6844.5\n",
       "Name: TotalCharges, Length: 7043, dtype: object"
      ]
     },
     "execution_count": 36,
     "metadata": {},
     "output_type": "execute_result"
    }
   ],
   "source": [
    "telecom_df['TotalCharges']"
   ]
  },
  {
   "cell_type": "code",
   "execution_count": 12,
   "id": "af1ef205",
   "metadata": {},
   "outputs": [
    {
     "data": {
      "text/plain": [
       "['customerID']"
      ]
     },
     "execution_count": 12,
     "metadata": {},
     "output_type": "execute_result"
    }
   ],
   "source": [
    "unique_values_in_column = []\n",
    "columns = telecom_df.columns\n",
    "def drop_columns_same_and_unique(columns):\n",
    "    output = []\n",
    "    for col in columns:\n",
    "        if (telecom_df[col].nunique() == telecom_df.shape[0]) or (telecom_df[col].nunique() ==  1):\n",
    "            output.append(col)\n",
    "    return output\n",
    "drop_columns_same_and_unique(columns)"
   ]
  },
  {
   "cell_type": "code",
   "execution_count": 13,
   "id": "4807b62b",
   "metadata": {},
   "outputs": [],
   "source": [
    "telecom_df.drop(columns = 'customerID',inplace = True)"
   ]
  },
  {
   "cell_type": "code",
   "execution_count": 22,
   "id": "f7a28d47",
   "metadata": {},
   "outputs": [
    {
     "data": {
      "text/plain": [
       "['SeniorCitizen',\n",
       " 'Partner',\n",
       " 'Dependents',\n",
       " 'tenure',\n",
       " 'MultipleLines',\n",
       " 'InternetService',\n",
       " 'OnlineSecurity',\n",
       " 'OnlineBackup',\n",
       " 'DeviceProtection',\n",
       " 'TechSupport',\n",
       " 'StreamingTV',\n",
       " 'StreamingMovies',\n",
       " 'Contract',\n",
       " 'PaperlessBilling',\n",
       " 'PaymentMethod',\n",
       " 'MonthlyCharges',\n",
       " 'Churn']"
      ]
     },
     "execution_count": 22,
     "metadata": {},
     "output_type": "execute_result"
    }
   ],
   "source": [
    "from scipy.stats import chi2_contingency\n",
    "output = []\n",
    "def corelated_columns(telecom_df_columns):\n",
    "    for i in telecom_df[:len(telecom_df.columns)-1:]:\n",
    "        observed_table = pd.crosstab(telecom_df[i],telecom_df['Churn'])\n",
    "        p_value =chi2_contingency(observed_table)[1]\n",
    "        if p_value <  0.05:\n",
    "            output.append(i)\n",
    "    return output\n",
    "corelated_columns(telecom_df.columns)\n",
    "\n",
    "    "
   ]
  },
  {
   "cell_type": "code",
   "execution_count": 17,
   "id": "d3080656",
   "metadata": {},
   "outputs": [
    {
     "data": {
      "text/plain": [
       "Index(['gender', 'SeniorCitizen', 'Partner', 'Dependents', 'tenure',\n",
       "       'PhoneService', 'MultipleLines', 'InternetService', 'OnlineSecurity',\n",
       "       'OnlineBackup', 'DeviceProtection', 'TechSupport', 'StreamingTV',\n",
       "       'StreamingMovies', 'Contract', 'PaperlessBilling', 'PaymentMethod',\n",
       "       'MonthlyCharges', 'TotalCharges', 'Churn'],\n",
       "      dtype='object')"
      ]
     },
     "execution_count": 17,
     "metadata": {},
     "output_type": "execute_result"
    }
   ],
   "source": [
    "telecom_df.columns"
   ]
  },
  {
   "cell_type": "code",
   "execution_count": null,
   "id": "bb5d1d17",
   "metadata": {},
   "outputs": [],
   "source": []
  }
 ],
 "metadata": {
  "kernelspec": {
   "display_name": "Python 3 (ipykernel)",
   "language": "python",
   "name": "python3"
  },
  "language_info": {
   "codemirror_mode": {
    "name": "ipython",
    "version": 3
   },
   "file_extension": ".py",
   "mimetype": "text/x-python",
   "name": "python",
   "nbconvert_exporter": "python",
   "pygments_lexer": "ipython3",
   "version": "3.11.5"
  }
 },
 "nbformat": 4,
 "nbformat_minor": 5
}
