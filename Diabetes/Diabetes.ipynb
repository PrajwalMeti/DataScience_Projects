{
 "cells": [
  {
   "cell_type": "code",
   "execution_count": 1,
   "id": "f53ce343",
   "metadata": {},
   "outputs": [],
   "source": [
    "import pandas as pd \n",
    "from scipy.stats import f_oneway \n",
    "from sklearn.model_selection import train_test_split\n",
    "from sklearn.linear_model import LogisticRegression\n",
    "from sklearn.metrics import confusion_matrix,precision_score,accuracy_score,f1_score,roc_curve,roc_auc_score\n",
    "import matplotlib.pyplot as plt\n",
    "from sklearn.linear_model import Lasso,Ridge"
   ]
  },
  {
   "cell_type": "code",
   "execution_count": 2,
   "id": "32a3085d",
   "metadata": {},
   "outputs": [
    {
     "data": {
      "text/html": [
       "<div>\n",
       "<style scoped>\n",
       "    .dataframe tbody tr th:only-of-type {\n",
       "        vertical-align: middle;\n",
       "    }\n",
       "\n",
       "    .dataframe tbody tr th {\n",
       "        vertical-align: top;\n",
       "    }\n",
       "\n",
       "    .dataframe thead th {\n",
       "        text-align: right;\n",
       "    }\n",
       "</style>\n",
       "<table border=\"1\" class=\"dataframe\">\n",
       "  <thead>\n",
       "    <tr style=\"text-align: right;\">\n",
       "      <th></th>\n",
       "      <th>Pregnancies</th>\n",
       "      <th>Glucose</th>\n",
       "      <th>BloodPressure</th>\n",
       "      <th>SkinThickness</th>\n",
       "      <th>Insulin</th>\n",
       "      <th>BMI</th>\n",
       "      <th>DiabetesPedigreeFunction</th>\n",
       "      <th>Age</th>\n",
       "      <th>Outcome</th>\n",
       "    </tr>\n",
       "  </thead>\n",
       "  <tbody>\n",
       "    <tr>\n",
       "      <th>0</th>\n",
       "      <td>6</td>\n",
       "      <td>148</td>\n",
       "      <td>72</td>\n",
       "      <td>35</td>\n",
       "      <td>0</td>\n",
       "      <td>33.6</td>\n",
       "      <td>0.627</td>\n",
       "      <td>50</td>\n",
       "      <td>1</td>\n",
       "    </tr>\n",
       "  </tbody>\n",
       "</table>\n",
       "</div>"
      ],
      "text/plain": [
       "   Pregnancies  Glucose  BloodPressure  SkinThickness  Insulin   BMI  \\\n",
       "0            6      148             72             35        0  33.6   \n",
       "\n",
       "   DiabetesPedigreeFunction  Age  Outcome  \n",
       "0                     0.627   50        1  "
      ]
     },
     "execution_count": 2,
     "metadata": {},
     "output_type": "execute_result"
    }
   ],
   "source": [
    "diabetes_df = pd.read_csv(\"diabetes.csv\")\n",
    "diabetes_df.head(1)"
   ]
  },
  {
   "cell_type": "code",
   "execution_count": 3,
   "id": "8958d1cb",
   "metadata": {},
   "outputs": [
    {
     "data": {
      "text/plain": [
       "Pregnancies                   int64\n",
       "Glucose                       int64\n",
       "BloodPressure                 int64\n",
       "SkinThickness                 int64\n",
       "Insulin                       int64\n",
       "BMI                         float64\n",
       "DiabetesPedigreeFunction    float64\n",
       "Age                           int64\n",
       "Outcome                       int64\n",
       "dtype: object"
      ]
     },
     "execution_count": 3,
     "metadata": {},
     "output_type": "execute_result"
    }
   ],
   "source": [
    "# columns = [column for column in diabetes_df.columns]\n",
    "diabetes_df.dtypes"
   ]
  },
  {
   "cell_type": "code",
   "execution_count": 4,
   "id": "c44a9b30",
   "metadata": {},
   "outputs": [],
   "source": [
    "columns  = [col for col in diabetes_df.columns if diabetes_df[col].dtype != 'object']"
   ]
  },
  {
   "cell_type": "code",
   "execution_count": 5,
   "id": "9c401d62",
   "metadata": {},
   "outputs": [
    {
     "name": "stderr",
     "output_type": "stream",
     "text": [
      "C:\\Users\\pbandi\\AppData\\Local\\anaconda3\\Lib\\site-packages\\scipy\\stats\\_stats_py.py:4167: ConstantInputWarning: Each of the input arrays is constant;the F statistic is not defined or infinite\n",
      "  warnings.warn(stats.ConstantInputWarning(msg))\n"
     ]
    },
    {
     "data": {
      "text/plain": [
       "{'Pregnancies': {'Correlated'},\n",
       " 'Glucose': {'Correlated'},\n",
       " 'BloodPressure': {'Not Correlated'},\n",
       " 'SkinThickness': {'Correlated'},\n",
       " 'Insulin': {'Correlated'},\n",
       " 'BMI': {'Correlated'},\n",
       " 'DiabetesPedigreeFunction': {'Correlated'},\n",
       " 'Age': {'Correlated'},\n",
       " 'Outcome': {'Correlated'}}"
      ]
     },
     "execution_count": 5,
     "metadata": {},
     "output_type": "execute_result"
    }
   ],
   "source": [
    "def Anova(columns):\n",
    "    output = {}\n",
    "    for col in columns:\n",
    "        catagorical =list(diabetes_df['Outcome'].value_counts().index)\n",
    "        p_value = f_oneway(*[diabetes_df[diabetes_df['Outcome'] == cat ][col]   for cat in catagorical])[1]\n",
    "        if p_value < 0.05:\n",
    "            output[col] = {'Correlated'}\n",
    "        else:\n",
    "            output[col] = {'Not Correlated'}\n",
    "    return output\n",
    "Anova(columns)"
   ]
  },
  {
   "cell_type": "code",
   "execution_count": 6,
   "id": "8bc25728",
   "metadata": {},
   "outputs": [
    {
     "data": {
      "text/plain": [
       "37.06716417910448"
      ]
     },
     "execution_count": 6,
     "metadata": {},
     "output_type": "execute_result"
    }
   ],
   "source": [
    "# The Avarage age of all the Patients who are having the Dis\n",
    "having_dia = diabetes_df['Outcome'] == '1'\n",
    "x = diabetes_df[diabetes_df['Outcome'] == 1]\n",
    "x['Age'].mean()"
   ]
  },
  {
   "cell_type": "code",
   "execution_count": 7,
   "id": "346c1ef8",
   "metadata": {},
   "outputs": [],
   "source": [
    "# Calcuate the columns having outliers \n",
    "def Calculate_outliers(col):\n",
    "    q1 = (col.describe())['25%']\n",
    "    q3 = (col.describe())['75%']\n",
    "    iqr = q3 - q1\n",
    "    hvo,lvo = [],[]\n",
    "    count =  0\n",
    "    for value in col:\n",
    "        if (value) > (q3 + (1.5* (iqr))):\n",
    "            hvo.append(value)\n",
    "            count = count + 1\n",
    "        elif value < q1 - (1.5*(iqr)):\n",
    "            lvo.append(value)\n",
    "            count = count + 1\n",
    "    total = [hvo,lvo]\n",
    "    return count \n",
    "Ages = Calculate_outliers(diabetes_df['Age'])\n",
    "Pregnancies = Calculate_outliers(diabetes_df['Pregnancies'])\n",
    "Glucose = Calculate_outliers(diabetes_df['Glucose'])\n",
    "SkinThickness = Calculate_outliers(diabetes_df['SkinThickness'])\n",
    "Insulin = Calculate_outliers(diabetes_df['Insulin'])\n",
    "BMI = Calculate_outliers(diabetes_df['BMI'])"
   ]
  },
  {
   "cell_type": "code",
   "execution_count": 8,
   "id": "6dead592",
   "metadata": {},
   "outputs": [],
   "source": [
    "y = diabetes_df['Outcome']\n",
    "diabetes_df.drop(columns = 'Outcome',inplace = True)"
   ]
  },
  {
   "cell_type": "code",
   "execution_count": 9,
   "id": "757effb5",
   "metadata": {},
   "outputs": [],
   "source": [
    "x = diabetes_df\n",
    "x_train,x_test,y_train,y_test = train_test_split(diabetes_df,y,train_size=0.8,random_state=1)"
   ]
  },
  {
   "cell_type": "code",
   "execution_count": 10,
   "id": "eacb05ab",
   "metadata": {},
   "outputs": [
    {
     "data": {
      "text/html": [
       "<div>\n",
       "<style scoped>\n",
       "    .dataframe tbody tr th:only-of-type {\n",
       "        vertical-align: middle;\n",
       "    }\n",
       "\n",
       "    .dataframe tbody tr th {\n",
       "        vertical-align: top;\n",
       "    }\n",
       "\n",
       "    .dataframe thead th {\n",
       "        text-align: right;\n",
       "    }\n",
       "</style>\n",
       "<table border=\"1\" class=\"dataframe\">\n",
       "  <thead>\n",
       "    <tr style=\"text-align: right;\">\n",
       "      <th></th>\n",
       "      <th>Pregnancies</th>\n",
       "      <th>Glucose</th>\n",
       "      <th>BloodPressure</th>\n",
       "      <th>SkinThickness</th>\n",
       "      <th>Insulin</th>\n",
       "      <th>BMI</th>\n",
       "      <th>DiabetesPedigreeFunction</th>\n",
       "      <th>Age</th>\n",
       "    </tr>\n",
       "  </thead>\n",
       "  <tbody>\n",
       "    <tr>\n",
       "      <th>663</th>\n",
       "      <td>9</td>\n",
       "      <td>145</td>\n",
       "      <td>80</td>\n",
       "      <td>46</td>\n",
       "      <td>130</td>\n",
       "      <td>37.9</td>\n",
       "      <td>0.637</td>\n",
       "      <td>40</td>\n",
       "    </tr>\n",
       "    <tr>\n",
       "      <th>712</th>\n",
       "      <td>10</td>\n",
       "      <td>129</td>\n",
       "      <td>62</td>\n",
       "      <td>36</td>\n",
       "      <td>0</td>\n",
       "      <td>41.2</td>\n",
       "      <td>0.441</td>\n",
       "      <td>38</td>\n",
       "    </tr>\n",
       "    <tr>\n",
       "      <th>161</th>\n",
       "      <td>7</td>\n",
       "      <td>102</td>\n",
       "      <td>74</td>\n",
       "      <td>40</td>\n",
       "      <td>105</td>\n",
       "      <td>37.2</td>\n",
       "      <td>0.204</td>\n",
       "      <td>45</td>\n",
       "    </tr>\n",
       "    <tr>\n",
       "      <th>509</th>\n",
       "      <td>8</td>\n",
       "      <td>120</td>\n",
       "      <td>78</td>\n",
       "      <td>0</td>\n",
       "      <td>0</td>\n",
       "      <td>25.0</td>\n",
       "      <td>0.409</td>\n",
       "      <td>64</td>\n",
       "    </tr>\n",
       "    <tr>\n",
       "      <th>305</th>\n",
       "      <td>2</td>\n",
       "      <td>120</td>\n",
       "      <td>76</td>\n",
       "      <td>37</td>\n",
       "      <td>105</td>\n",
       "      <td>39.7</td>\n",
       "      <td>0.215</td>\n",
       "      <td>29</td>\n",
       "    </tr>\n",
       "    <tr>\n",
       "      <th>...</th>\n",
       "      <td>...</td>\n",
       "      <td>...</td>\n",
       "      <td>...</td>\n",
       "      <td>...</td>\n",
       "      <td>...</td>\n",
       "      <td>...</td>\n",
       "      <td>...</td>\n",
       "      <td>...</td>\n",
       "    </tr>\n",
       "    <tr>\n",
       "      <th>645</th>\n",
       "      <td>2</td>\n",
       "      <td>157</td>\n",
       "      <td>74</td>\n",
       "      <td>35</td>\n",
       "      <td>440</td>\n",
       "      <td>39.4</td>\n",
       "      <td>0.134</td>\n",
       "      <td>30</td>\n",
       "    </tr>\n",
       "    <tr>\n",
       "      <th>715</th>\n",
       "      <td>7</td>\n",
       "      <td>187</td>\n",
       "      <td>50</td>\n",
       "      <td>33</td>\n",
       "      <td>392</td>\n",
       "      <td>33.9</td>\n",
       "      <td>0.826</td>\n",
       "      <td>34</td>\n",
       "    </tr>\n",
       "    <tr>\n",
       "      <th>72</th>\n",
       "      <td>13</td>\n",
       "      <td>126</td>\n",
       "      <td>90</td>\n",
       "      <td>0</td>\n",
       "      <td>0</td>\n",
       "      <td>43.4</td>\n",
       "      <td>0.583</td>\n",
       "      <td>42</td>\n",
       "    </tr>\n",
       "    <tr>\n",
       "      <th>235</th>\n",
       "      <td>4</td>\n",
       "      <td>171</td>\n",
       "      <td>72</td>\n",
       "      <td>0</td>\n",
       "      <td>0</td>\n",
       "      <td>43.6</td>\n",
       "      <td>0.479</td>\n",
       "      <td>26</td>\n",
       "    </tr>\n",
       "    <tr>\n",
       "      <th>37</th>\n",
       "      <td>9</td>\n",
       "      <td>102</td>\n",
       "      <td>76</td>\n",
       "      <td>37</td>\n",
       "      <td>0</td>\n",
       "      <td>32.9</td>\n",
       "      <td>0.665</td>\n",
       "      <td>46</td>\n",
       "    </tr>\n",
       "  </tbody>\n",
       "</table>\n",
       "<p>614 rows × 8 columns</p>\n",
       "</div>"
      ],
      "text/plain": [
       "     Pregnancies  Glucose  BloodPressure  SkinThickness  Insulin   BMI  \\\n",
       "663            9      145             80             46      130  37.9   \n",
       "712           10      129             62             36        0  41.2   \n",
       "161            7      102             74             40      105  37.2   \n",
       "509            8      120             78              0        0  25.0   \n",
       "305            2      120             76             37      105  39.7   \n",
       "..           ...      ...            ...            ...      ...   ...   \n",
       "645            2      157             74             35      440  39.4   \n",
       "715            7      187             50             33      392  33.9   \n",
       "72            13      126             90              0        0  43.4   \n",
       "235            4      171             72              0        0  43.6   \n",
       "37             9      102             76             37        0  32.9   \n",
       "\n",
       "     DiabetesPedigreeFunction  Age  \n",
       "663                     0.637   40  \n",
       "712                     0.441   38  \n",
       "161                     0.204   45  \n",
       "509                     0.409   64  \n",
       "305                     0.215   29  \n",
       "..                        ...  ...  \n",
       "645                     0.134   30  \n",
       "715                     0.826   34  \n",
       "72                      0.583   42  \n",
       "235                     0.479   26  \n",
       "37                      0.665   46  \n",
       "\n",
       "[614 rows x 8 columns]"
      ]
     },
     "execution_count": 10,
     "metadata": {},
     "output_type": "execute_result"
    }
   ],
   "source": [
    "x_train"
   ]
  },
  {
   "cell_type": "code",
   "execution_count": 11,
   "id": "67e4a73c",
   "metadata": {},
   "outputs": [
    {
     "name": "stderr",
     "output_type": "stream",
     "text": [
      "C:\\Users\\pbandi\\AppData\\Local\\anaconda3\\Lib\\site-packages\\sklearn\\linear_model\\_logistic.py:460: ConvergenceWarning: lbfgs failed to converge (status=1):\n",
      "STOP: TOTAL NO. of ITERATIONS REACHED LIMIT.\n",
      "\n",
      "Increase the number of iterations (max_iter) or scale the data as shown in:\n",
      "    https://scikit-learn.org/stable/modules/preprocessing.html\n",
      "Please also refer to the documentation for alternative solver options:\n",
      "    https://scikit-learn.org/stable/modules/linear_model.html#logistic-regression\n",
      "  n_iter_i = _check_optimize_result(\n"
     ]
    },
    {
     "data": {
      "text/html": [
       "<style>#sk-container-id-1 {color: black;}#sk-container-id-1 pre{padding: 0;}#sk-container-id-1 div.sk-toggleable {background-color: white;}#sk-container-id-1 label.sk-toggleable__label {cursor: pointer;display: block;width: 100%;margin-bottom: 0;padding: 0.3em;box-sizing: border-box;text-align: center;}#sk-container-id-1 label.sk-toggleable__label-arrow:before {content: \"▸\";float: left;margin-right: 0.25em;color: #696969;}#sk-container-id-1 label.sk-toggleable__label-arrow:hover:before {color: black;}#sk-container-id-1 div.sk-estimator:hover label.sk-toggleable__label-arrow:before {color: black;}#sk-container-id-1 div.sk-toggleable__content {max-height: 0;max-width: 0;overflow: hidden;text-align: left;background-color: #f0f8ff;}#sk-container-id-1 div.sk-toggleable__content pre {margin: 0.2em;color: black;border-radius: 0.25em;background-color: #f0f8ff;}#sk-container-id-1 input.sk-toggleable__control:checked~div.sk-toggleable__content {max-height: 200px;max-width: 100%;overflow: auto;}#sk-container-id-1 input.sk-toggleable__control:checked~label.sk-toggleable__label-arrow:before {content: \"▾\";}#sk-container-id-1 div.sk-estimator input.sk-toggleable__control:checked~label.sk-toggleable__label {background-color: #d4ebff;}#sk-container-id-1 div.sk-label input.sk-toggleable__control:checked~label.sk-toggleable__label {background-color: #d4ebff;}#sk-container-id-1 input.sk-hidden--visually {border: 0;clip: rect(1px 1px 1px 1px);clip: rect(1px, 1px, 1px, 1px);height: 1px;margin: -1px;overflow: hidden;padding: 0;position: absolute;width: 1px;}#sk-container-id-1 div.sk-estimator {font-family: monospace;background-color: #f0f8ff;border: 1px dotted black;border-radius: 0.25em;box-sizing: border-box;margin-bottom: 0.5em;}#sk-container-id-1 div.sk-estimator:hover {background-color: #d4ebff;}#sk-container-id-1 div.sk-parallel-item::after {content: \"\";width: 100%;border-bottom: 1px solid gray;flex-grow: 1;}#sk-container-id-1 div.sk-label:hover label.sk-toggleable__label {background-color: #d4ebff;}#sk-container-id-1 div.sk-serial::before {content: \"\";position: absolute;border-left: 1px solid gray;box-sizing: border-box;top: 0;bottom: 0;left: 50%;z-index: 0;}#sk-container-id-1 div.sk-serial {display: flex;flex-direction: column;align-items: center;background-color: white;padding-right: 0.2em;padding-left: 0.2em;position: relative;}#sk-container-id-1 div.sk-item {position: relative;z-index: 1;}#sk-container-id-1 div.sk-parallel {display: flex;align-items: stretch;justify-content: center;background-color: white;position: relative;}#sk-container-id-1 div.sk-item::before, #sk-container-id-1 div.sk-parallel-item::before {content: \"\";position: absolute;border-left: 1px solid gray;box-sizing: border-box;top: 0;bottom: 0;left: 50%;z-index: -1;}#sk-container-id-1 div.sk-parallel-item {display: flex;flex-direction: column;z-index: 1;position: relative;background-color: white;}#sk-container-id-1 div.sk-parallel-item:first-child::after {align-self: flex-end;width: 50%;}#sk-container-id-1 div.sk-parallel-item:last-child::after {align-self: flex-start;width: 50%;}#sk-container-id-1 div.sk-parallel-item:only-child::after {width: 0;}#sk-container-id-1 div.sk-dashed-wrapped {border: 1px dashed gray;margin: 0 0.4em 0.5em 0.4em;box-sizing: border-box;padding-bottom: 0.4em;background-color: white;}#sk-container-id-1 div.sk-label label {font-family: monospace;font-weight: bold;display: inline-block;line-height: 1.2em;}#sk-container-id-1 div.sk-label-container {text-align: center;}#sk-container-id-1 div.sk-container {/* jupyter's `normalize.less` sets `[hidden] { display: none; }` but bootstrap.min.css set `[hidden] { display: none !important; }` so we also need the `!important` here to be able to override the default hidden behavior on the sphinx rendered scikit-learn.org. See: https://github.com/scikit-learn/scikit-learn/issues/21755 */display: inline-block !important;position: relative;}#sk-container-id-1 div.sk-text-repr-fallback {display: none;}</style><div id=\"sk-container-id-1\" class=\"sk-top-container\"><div class=\"sk-text-repr-fallback\"><pre>LogisticRegression()</pre><b>In a Jupyter environment, please rerun this cell to show the HTML representation or trust the notebook. <br />On GitHub, the HTML representation is unable to render, please try loading this page with nbviewer.org.</b></div><div class=\"sk-container\" hidden><div class=\"sk-item\"><div class=\"sk-estimator sk-toggleable\"><input class=\"sk-toggleable__control sk-hidden--visually\" id=\"sk-estimator-id-1\" type=\"checkbox\" checked><label for=\"sk-estimator-id-1\" class=\"sk-toggleable__label sk-toggleable__label-arrow\">LogisticRegression</label><div class=\"sk-toggleable__content\"><pre>LogisticRegression()</pre></div></div></div></div></div>"
      ],
      "text/plain": [
       "LogisticRegression()"
      ]
     },
     "execution_count": 11,
     "metadata": {},
     "output_type": "execute_result"
    }
   ],
   "source": [
    "logreg = LogisticRegression() # Instance of an Object where logreg is the object and LogisticRegression is the Class \n",
    "logreg.fit(x_train,y_train)"
   ]
  },
  {
   "cell_type": "code",
   "execution_count": 12,
   "id": "5b046391",
   "metadata": {},
   "outputs": [],
   "source": [
    "y_pred = logreg.predict(x_test)\n",
    "comparsion_df = pd.DataFrame({\"Actuvals\":y_test,'Predicts':y_pred})"
   ]
  },
  {
   "cell_type": "code",
   "execution_count": 13,
   "id": "98752f99",
   "metadata": {},
   "outputs": [
    {
     "data": {
      "text/plain": [
       "array([[89, 10],\n",
       "       [24, 31]], dtype=int64)"
      ]
     },
     "execution_count": 13,
     "metadata": {},
     "output_type": "execute_result"
    }
   ],
   "source": [
    "confusion_matrix(y_test,y_pred)"
   ]
  },
  {
   "cell_type": "code",
   "execution_count": 14,
   "id": "9eb22921",
   "metadata": {},
   "outputs": [
    {
     "data": {
      "text/plain": [
       "0.6458333333333333"
      ]
     },
     "execution_count": 14,
     "metadata": {},
     "output_type": "execute_result"
    }
   ],
   "source": [
    "accuracy_score(y_test,y_pred)\n",
    "precision_score(y_test,y_pred)\n",
    "f1_score(y_test,y_pred)"
   ]
  },
  {
   "cell_type": "code",
   "execution_count": 15,
   "id": "d565de2f",
   "metadata": {},
   "outputs": [
    {
     "data": {
      "text/plain": [
       "array([[0.54749969, 0.45250031],\n",
       "       [0.68726417, 0.31273583],\n",
       "       [0.84936802, 0.15063198],\n",
       "       [0.96018059, 0.03981941],\n",
       "       [0.79995088, 0.20004912],\n",
       "       [0.75003034, 0.24996966],\n",
       "       [0.63617482, 0.36382518],\n",
       "       [0.89929419, 0.10070581],\n",
       "       [0.86615435, 0.13384565],\n",
       "       [0.83206623, 0.16793377],\n",
       "       [0.54729871, 0.45270129],\n",
       "       [0.92492226, 0.07507774],\n",
       "       [0.00888184, 0.99111816],\n",
       "       [0.24786997, 0.75213003],\n",
       "       [0.94728874, 0.05271126],\n",
       "       [0.25482604, 0.74517396],\n",
       "       [0.77578223, 0.22421777],\n",
       "       [0.688436  , 0.311564  ],\n",
       "       [0.88185299, 0.11814701],\n",
       "       [0.83296902, 0.16703098],\n",
       "       [0.55300403, 0.44699597],\n",
       "       [0.82231232, 0.17768768],\n",
       "       [0.03131175, 0.96868825],\n",
       "       [0.7354923 , 0.2645077 ],\n",
       "       [0.93214844, 0.06785156],\n",
       "       [0.62529872, 0.37470128],\n",
       "       [0.82652715, 0.17347285],\n",
       "       [0.1913184 , 0.8086816 ],\n",
       "       [0.9155704 , 0.0844296 ],\n",
       "       [0.42030118, 0.57969882],\n",
       "       [0.56959048, 0.43040952],\n",
       "       [0.66617936, 0.33382064],\n",
       "       [0.93933523, 0.06066477],\n",
       "       [0.33816503, 0.66183497],\n",
       "       [0.86070919, 0.13929081],\n",
       "       [0.39976222, 0.60023778],\n",
       "       [0.90010881, 0.09989119],\n",
       "       [0.80884115, 0.19115885],\n",
       "       [0.90248806, 0.09751194],\n",
       "       [0.41238766, 0.58761234],\n",
       "       [0.80103123, 0.19896877],\n",
       "       [0.91720062, 0.08279938],\n",
       "       [0.9606225 , 0.0393775 ],\n",
       "       [0.64376369, 0.35623631],\n",
       "       [0.92273989, 0.07726011],\n",
       "       [0.97773404, 0.02226596],\n",
       "       [0.28568345, 0.71431655],\n",
       "       [0.16975821, 0.83024179],\n",
       "       [0.91897071, 0.08102929],\n",
       "       [0.87343072, 0.12656928],\n",
       "       [0.99136847, 0.00863153],\n",
       "       [0.79191643, 0.20808357],\n",
       "       [0.12349588, 0.87650412],\n",
       "       [0.95259489, 0.04740511],\n",
       "       [0.21763238, 0.78236762],\n",
       "       [0.89382913, 0.10617087],\n",
       "       [0.37590028, 0.62409972],\n",
       "       [0.65783574, 0.34216426],\n",
       "       [0.4586458 , 0.5413542 ],\n",
       "       [0.86465415, 0.13534585],\n",
       "       [0.3768072 , 0.6231928 ],\n",
       "       [0.98508853, 0.01491147],\n",
       "       [0.27550615, 0.72449385],\n",
       "       [0.81270254, 0.18729746],\n",
       "       [0.66929637, 0.33070363],\n",
       "       [0.89875609, 0.10124391],\n",
       "       [0.98966038, 0.01033962],\n",
       "       [0.70816051, 0.29183949],\n",
       "       [0.27587577, 0.72412423],\n",
       "       [0.34727539, 0.65272461],\n",
       "       [0.11710229, 0.88289771],\n",
       "       [0.2833328 , 0.7166672 ],\n",
       "       [0.37270008, 0.62729992],\n",
       "       [0.98421823, 0.01578177],\n",
       "       [0.28923542, 0.71076458],\n",
       "       [0.71055902, 0.28944098],\n",
       "       [0.29955852, 0.70044148],\n",
       "       [0.69390372, 0.30609628],\n",
       "       [0.8572013 , 0.1427987 ],\n",
       "       [0.32903454, 0.67096546],\n",
       "       [0.36608505, 0.63391495],\n",
       "       [0.76971486, 0.23028514],\n",
       "       [0.60515168, 0.39484832],\n",
       "       [0.69746127, 0.30253873],\n",
       "       [0.7298929 , 0.2701071 ],\n",
       "       [0.26790562, 0.73209438],\n",
       "       [0.41535539, 0.58464461],\n",
       "       [0.68523982, 0.31476018],\n",
       "       [0.71167873, 0.28832127],\n",
       "       [0.70746081, 0.29253919],\n",
       "       [0.87905156, 0.12094844],\n",
       "       [0.95928658, 0.04071342],\n",
       "       [0.72703308, 0.27296692],\n",
       "       [0.91343105, 0.08656895],\n",
       "       [0.22786681, 0.77213319],\n",
       "       [0.50493552, 0.49506448],\n",
       "       [0.75735515, 0.24264485],\n",
       "       [0.80125391, 0.19874609],\n",
       "       [0.1345441 , 0.8654559 ],\n",
       "       [0.87538119, 0.12461881],\n",
       "       [0.84536081, 0.15463919],\n",
       "       [0.73003023, 0.26996977],\n",
       "       [0.33477815, 0.66522185],\n",
       "       [0.73967788, 0.26032212],\n",
       "       [0.89764759, 0.10235241],\n",
       "       [0.92604523, 0.07395477],\n",
       "       [0.47533868, 0.52466132],\n",
       "       [0.39817658, 0.60182342],\n",
       "       [0.78990331, 0.21009669],\n",
       "       [0.89139068, 0.10860932],\n",
       "       [0.60525921, 0.39474079],\n",
       "       [0.95738458, 0.04261542],\n",
       "       [0.581272  , 0.418728  ],\n",
       "       [0.82416708, 0.17583292],\n",
       "       [0.98219578, 0.01780422],\n",
       "       [0.94042123, 0.05957877],\n",
       "       [0.88652639, 0.11347361],\n",
       "       [0.62658984, 0.37341016],\n",
       "       [0.70824258, 0.29175742],\n",
       "       [0.58414878, 0.41585122],\n",
       "       [0.77150035, 0.22849965],\n",
       "       [0.11208649, 0.88791351],\n",
       "       [0.65300834, 0.34699166],\n",
       "       [0.69786178, 0.30213822],\n",
       "       [0.86542753, 0.13457247],\n",
       "       [0.8708553 , 0.1291447 ],\n",
       "       [0.71632096, 0.28367904],\n",
       "       [0.58852516, 0.41147484],\n",
       "       [0.36687463, 0.63312537],\n",
       "       [0.77717635, 0.22282365],\n",
       "       [0.04137431, 0.95862569],\n",
       "       [0.96373719, 0.03626281],\n",
       "       [0.57902608, 0.42097392],\n",
       "       [0.63924208, 0.36075792],\n",
       "       [0.83945201, 0.16054799],\n",
       "       [0.73155934, 0.26844066],\n",
       "       [0.90163278, 0.09836722],\n",
       "       [0.31214518, 0.68785482],\n",
       "       [0.86578683, 0.13421317],\n",
       "       [0.77664029, 0.22335971],\n",
       "       [0.0388526 , 0.9611474 ],\n",
       "       [0.89839181, 0.10160819],\n",
       "       [0.82265528, 0.17734472],\n",
       "       [0.17855612, 0.82144388],\n",
       "       [0.30051596, 0.69948404],\n",
       "       [0.53037261, 0.46962739],\n",
       "       [0.95156236, 0.04843764],\n",
       "       [0.92586981, 0.07413019],\n",
       "       [0.82528012, 0.17471988],\n",
       "       [0.83595357, 0.16404643],\n",
       "       [0.75355722, 0.24644278],\n",
       "       [0.04187074, 0.95812926],\n",
       "       [0.91170326, 0.08829674],\n",
       "       [0.73521597, 0.26478403]])"
      ]
     },
     "execution_count": 15,
     "metadata": {},
     "output_type": "execute_result"
    }
   ],
   "source": [
    "logreg.predict_proba(x_test) # Returns the Probablity estimates "
   ]
  },
  {
   "cell_type": "code",
   "execution_count": 16,
   "id": "9b69bfbe",
   "metadata": {},
   "outputs": [],
   "source": [
    "pos_probab = logreg.predict_proba(x_test)[:,1]"
   ]
  },
  {
   "cell_type": "code",
   "execution_count": 17,
   "id": "a473f4f6",
   "metadata": {},
   "outputs": [],
   "source": [
    "fpr,tpr,thresholds = roc_curve(y_test,pos_probab)"
   ]
  },
  {
   "cell_type": "code",
   "execution_count": 18,
   "id": "2e6911eb",
   "metadata": {},
   "outputs": [
    {
     "data": {
      "text/plain": [
       "(array([0.        , 0.        , 0.        , 0.01010101, 0.01010101,\n",
       "        0.03030303, 0.03030303, 0.04040404, 0.04040404, 0.06060606,\n",
       "        0.06060606, 0.08080808, 0.08080808, 0.09090909, 0.09090909,\n",
       "        0.1010101 , 0.1010101 , 0.11111111, 0.11111111, 0.13131313,\n",
       "        0.13131313, 0.14141414, 0.14141414, 0.15151515, 0.15151515,\n",
       "        0.17171717, 0.17171717, 0.19191919, 0.19191919, 0.23232323,\n",
       "        0.23232323, 0.25252525, 0.25252525, 0.26262626, 0.26262626,\n",
       "        0.33333333, 0.33333333, 0.39393939, 0.39393939, 0.41414141,\n",
       "        0.41414141, 0.47474747, 0.47474747, 0.49494949, 0.49494949,\n",
       "        0.60606061, 0.60606061, 0.62626263, 0.62626263, 0.96969697,\n",
       "        0.96969697, 0.98989899, 0.98989899, 1.        ]),\n",
       " array([0.        , 0.01818182, 0.29090909, 0.29090909, 0.30909091,\n",
       "        0.30909091, 0.38181818, 0.38181818, 0.47272727, 0.47272727,\n",
       "        0.49090909, 0.49090909, 0.50909091, 0.50909091, 0.54545455,\n",
       "        0.54545455, 0.56363636, 0.56363636, 0.58181818, 0.58181818,\n",
       "        0.63636364, 0.63636364, 0.70909091, 0.70909091, 0.72727273,\n",
       "        0.72727273, 0.76363636, 0.76363636, 0.78181818, 0.78181818,\n",
       "        0.8       , 0.8       , 0.81818182, 0.81818182, 0.83636364,\n",
       "        0.83636364, 0.85454545, 0.85454545, 0.87272727, 0.87272727,\n",
       "        0.89090909, 0.89090909, 0.90909091, 0.90909091, 0.92727273,\n",
       "        0.92727273, 0.94545455, 0.94545455, 0.96363636, 0.96363636,\n",
       "        0.98181818, 0.98181818, 1.        , 1.        ]),\n",
       " array([       inf, 0.99111816, 0.74517396, 0.73209438, 0.72449385,\n",
       "        0.7166672 , 0.69948404, 0.68785482, 0.63391495, 0.62729992,\n",
       "        0.62409972, 0.60182342, 0.60023778, 0.58761234, 0.57969882,\n",
       "        0.5413542 , 0.52466132, 0.49506448, 0.46962739, 0.45250031,\n",
       "        0.42097392, 0.418728  , 0.39474079, 0.37470128, 0.37341016,\n",
       "        0.36075792, 0.34699166, 0.33382064, 0.33070363, 0.30609628,\n",
       "        0.30253873, 0.29253919, 0.29183949, 0.29175742, 0.28944098,\n",
       "        0.26478403, 0.2645077 , 0.22849965, 0.22421777, 0.22282365,\n",
       "        0.21009669, 0.18729746, 0.17768768, 0.17583292, 0.17471988,\n",
       "        0.13457247, 0.13421317, 0.1291447 , 0.12656928, 0.02226596,\n",
       "        0.01780422, 0.01491147, 0.01033962, 0.00863153]))"
      ]
     },
     "execution_count": 18,
     "metadata": {},
     "output_type": "execute_result"
    }
   ],
   "source": [
    "fpr,tpr,thresholds"
   ]
  },
  {
   "cell_type": "code",
   "execution_count": 19,
   "id": "e41f2c6e",
   "metadata": {},
   "outputs": [
    {
     "data": {
      "text/plain": [
       "[<matplotlib.lines.Line2D at 0x16008b17490>]"
      ]
     },
     "execution_count": 19,
     "metadata": {},
     "output_type": "execute_result"
    },
    {
     "data": {
      "image/png": "[encoded data removed]",
      "text/plain": [
       "<Figure size 640x480 with 1 Axes>"
      ]
     },
     "metadata": {},
     "output_type": "display_data"
    }
   ],
   "source": [
    "plt.plot(fpr,tpr)"
   ]
  },
  {
   "cell_type": "code",
   "execution_count": 20,
   "id": "0e1646a0",
   "metadata": {},
   "outputs": [
    {
     "data": {
      "text/plain": [
       "Text(0, 0.5, 'True Positive Rate')"
      ]
     },
     "execution_count": 20,
     "metadata": {},
     "output_type": "execute_result"
    },
    {
     "data": {
      "image/png": "[encoded data removed]",
      "text/plain": [
       "<Figure size 640x480 with 1 Axes>"
      ]
     },
     "metadata": {},
     "output_type": "display_data"
    }
   ],
   "source": [
    "plt.plot(fpr,tpr)\n",
    "roc_auc_score(y_test,y_pred)\n",
    "plt.title('AUC-ROC Curve')\n",
    "plt.xlabel('False Positive Rate')\n",
    "plt.ylabel('True Positive Rate')"
   ]
  },
  {
   "cell_type": "code",
   "execution_count": 21,
   "id": "3a6ce350",
   "metadata": {},
   "outputs": [
    {
     "ename": "SyntaxError",
     "evalue": "invalid syntax (1097282541.py, line 1)",
     "output_type": "error",
     "traceback": [
      "\u001b[1;36m  Cell \u001b[1;32mIn[21], line 1\u001b[1;36m\u001b[0m\n\u001b[1;33m    Trian Score (95 % )\u001b[0m\n\u001b[1;37m          ^\u001b[0m\n\u001b[1;31mSyntaxError\u001b[0m\u001b[1;31m:\u001b[0m invalid syntax\n"
     ]
    }
   ],
   "source": [
    "Trian Score (95 % )\n",
    "Test Score (45 % )\n",
    "It is not good model \n",
    "OverFitting \n",
    "Definations : if the diffrence betweeen Train and Test Accuracies is very Huge.\n",
    "If the model learns noise,\n",
    "If the model is not able to generalise well to the unseen data\n"
   ]
  },
  {
   "cell_type": "code",
   "execution_count": null,
   "id": "b8a5ea96",
   "metadata": {},
   "outputs": [],
   "source": [
    "lasso = Lasso(alpha = 1)\n",
    "lasso.fit(x_train,y_train)\n",
    "lasso.coef_"
   ]
  },
  {
   "cell_type": "code",
   "execution_count": null,
   "id": "87b997fd",
   "metadata": {},
   "outputs": [],
   "source": [
    "ridge = Ridge(alpha = 1)\n",
    "\n",
    "ridge.fit(x_train,y_train)\n",
    "ridge.coef_"
   ]
  },
  {
   "cell_type": "code",
   "execution_count": null,
   "id": "8b8ab086",
   "metadata": {},
   "outputs": [],
   "source": [
    "import pickle\n",
    "\n",
    "with open('logreg.pkl','wb') as f:\n",
    "    pickle.dump(logreg,f)"
   ]
  },
  {
   "cell_type": "code",
   "execution_count": null,
   "id": "8601a671",
   "metadata": {},
   "outputs": [],
   "source": [
    "with open('logreg.pkl','rb') as f:\n",
    "    model = pickle.load(f)"
   ]
  },
  {
   "cell_type": "code",
   "execution_count": null,
   "id": "472d18ae",
   "metadata": {},
   "outputs": [],
   "source": []
  }
 ],
 "metadata": {
  "kernelspec": {
   "display_name": "Python 3 (ipykernel)",
   "language": "python",
   "name": "python3"
  },
  "language_info": {
   "codemirror_mode": {
    "name": "ipython",
    "version": 3
   },
   "file_extension": ".py",
   "mimetype": "text/x-python",
   "name": "python",
   "nbconvert_exporter": "python",
   "pygments_lexer": "ipython3",
   "version": "3.11.5"
  }
 },
 "nbformat": 4,
 "nbformat_minor": 5
}
