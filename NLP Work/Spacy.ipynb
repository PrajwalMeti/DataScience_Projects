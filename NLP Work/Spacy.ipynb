{
 "cells": [
  {
   "cell_type": "code",
   "execution_count": 42,
   "id": "ccd299cd",
   "metadata": {},
   "outputs": [],
   "source": [
    "import spacy"
   ]
  },
  {
   "cell_type": "code",
   "execution_count": 43,
   "id": "19376ca6",
   "metadata": {},
   "outputs": [],
   "source": [
    "nlp = spacy.blank('en')"
   ]
  },
  {
   "cell_type": "code",
   "execution_count": 44,
   "id": "7f8ff037",
   "metadata": {},
   "outputs": [],
   "source": [
    "document = nlp('Dr.Man love bangalore but unfortunately he was in hydrabad')"
   ]
  },
  {
   "cell_type": "code",
   "execution_count": 45,
   "id": "5a4fa573",
   "metadata": {},
   "outputs": [
    {
     "name": "stdout",
     "output_type": "stream",
     "text": [
      "Dr.\n",
      "Man\n",
      "love\n",
      "bangalore\n",
      "but\n",
      "unfortunately\n",
      "he\n",
      "was\n",
      "in\n",
      "hydrabad\n"
     ]
    }
   ],
   "source": [
    "for token in document:\n",
    "    print(token)"
   ]
  },
  {
   "cell_type": "code",
   "execution_count": 46,
   "id": "03dbbfd2",
   "metadata": {},
   "outputs": [
    {
     "data": {
      "text/plain": [
       "Dr."
      ]
     },
     "execution_count": 46,
     "metadata": {},
     "output_type": "execute_result"
    }
   ],
   "source": [
    "document[0]"
   ]
  },
  {
   "cell_type": "code",
   "execution_count": 47,
   "id": "3605765d",
   "metadata": {},
   "outputs": [
    {
     "name": "stdout",
     "output_type": "stream",
     "text": [
      "\"\n",
      "Let\"s\n",
      "go\n",
      "to\n",
      "N.Y\n",
      "\"\n"
     ]
    }
   ],
   "source": [
    "doc = nlp('\"Let\"s go to N.Y\"')\n",
    "for token in doc:\n",
    "    print(token)"
   ]
  },
  {
   "cell_type": "code",
   "execution_count": 48,
   "id": "d2d3cabb",
   "metadata": {},
   "outputs": [
    {
     "data": {
      "text/plain": [
       "tony"
      ]
     },
     "execution_count": 48,
     "metadata": {},
     "output_type": "execute_result"
    }
   ],
   "source": [
    "doc = nlp(\"tony gave 2$ to peater\")\n",
    "token0 = doc[0]\n",
    "token0"
   ]
  },
  {
   "cell_type": "code",
   "execution_count": 49,
   "id": "6f57daa7",
   "metadata": {},
   "outputs": [
    {
     "data": {
      "text/plain": [
       "spacy.tokens.token.Token"
      ]
     },
     "execution_count": 49,
     "metadata": {},
     "output_type": "execute_result"
    }
   ],
   "source": [
    "type(token0)"
   ]
  },
  {
   "cell_type": "code",
   "execution_count": 50,
   "id": "1d09d658",
   "metadata": {},
   "outputs": [
    {
     "data": {
      "text/plain": [
       "['_',\n",
       " '__bytes__',\n",
       " '__class__',\n",
       " '__delattr__',\n",
       " '__dir__',\n",
       " '__doc__',\n",
       " '__eq__',\n",
       " '__format__',\n",
       " '__ge__',\n",
       " '__getattribute__',\n",
       " '__getstate__',\n",
       " '__gt__',\n",
       " '__hash__',\n",
       " '__init__',\n",
       " '__init_subclass__',\n",
       " '__le__',\n",
       " '__len__',\n",
       " '__lt__',\n",
       " '__ne__',\n",
       " '__new__',\n",
       " '__pyx_vtable__',\n",
       " '__reduce__',\n",
       " '__reduce_ex__',\n",
       " '__repr__',\n",
       " '__setattr__',\n",
       " '__sizeof__',\n",
       " '__str__',\n",
       " '__subclasshook__',\n",
       " '__unicode__',\n",
       " 'ancestors',\n",
       " 'check_flag',\n",
       " 'children',\n",
       " 'cluster',\n",
       " 'conjuncts',\n",
       " 'dep',\n",
       " 'dep_',\n",
       " 'doc',\n",
       " 'ent_id',\n",
       " 'ent_id_',\n",
       " 'ent_iob',\n",
       " 'ent_iob_',\n",
       " 'ent_kb_id',\n",
       " 'ent_kb_id_',\n",
       " 'ent_type',\n",
       " 'ent_type_',\n",
       " 'get_extension',\n",
       " 'has_dep',\n",
       " 'has_extension',\n",
       " 'has_head',\n",
       " 'has_morph',\n",
       " 'has_vector',\n",
       " 'head',\n",
       " 'i',\n",
       " 'idx',\n",
       " 'iob_strings',\n",
       " 'is_alpha',\n",
       " 'is_ancestor',\n",
       " 'is_ascii',\n",
       " 'is_bracket',\n",
       " 'is_currency',\n",
       " 'is_digit',\n",
       " 'is_left_punct',\n",
       " 'is_lower',\n",
       " 'is_oov',\n",
       " 'is_punct',\n",
       " 'is_quote',\n",
       " 'is_right_punct',\n",
       " 'is_sent_end',\n",
       " 'is_sent_start',\n",
       " 'is_space',\n",
       " 'is_stop',\n",
       " 'is_title',\n",
       " 'is_upper',\n",
       " 'lang',\n",
       " 'lang_',\n",
       " 'left_edge',\n",
       " 'lefts',\n",
       " 'lemma',\n",
       " 'lemma_',\n",
       " 'lex',\n",
       " 'lex_id',\n",
       " 'like_email',\n",
       " 'like_num',\n",
       " 'like_url',\n",
       " 'lower',\n",
       " 'lower_',\n",
       " 'morph',\n",
       " 'n_lefts',\n",
       " 'n_rights',\n",
       " 'nbor',\n",
       " 'norm',\n",
       " 'norm_',\n",
       " 'orth',\n",
       " 'orth_',\n",
       " 'pos',\n",
       " 'pos_',\n",
       " 'prefix',\n",
       " 'prefix_',\n",
       " 'prob',\n",
       " 'rank',\n",
       " 'remove_extension',\n",
       " 'right_edge',\n",
       " 'rights',\n",
       " 'sent',\n",
       " 'sent_start',\n",
       " 'sentiment',\n",
       " 'set_extension',\n",
       " 'set_morph',\n",
       " 'shape',\n",
       " 'shape_',\n",
       " 'similarity',\n",
       " 'subtree',\n",
       " 'suffix',\n",
       " 'suffix_',\n",
       " 'tag',\n",
       " 'tag_',\n",
       " 'tensor',\n",
       " 'text',\n",
       " 'text_with_ws',\n",
       " 'vector',\n",
       " 'vector_norm',\n",
       " 'vocab',\n",
       " 'whitespace_']"
      ]
     },
     "execution_count": 50,
     "metadata": {},
     "output_type": "execute_result"
    }
   ],
   "source": [
    "dir(token0)"
   ]
  },
  {
   "cell_type": "code",
   "execution_count": 51,
   "id": "ef133af0",
   "metadata": {},
   "outputs": [],
   "source": [
    "doc = nlp('''\n",
    "Amit Mokashi <Amit.Mokashi@infor.com>; Gurupriya Pallepati <gurupriya.pallepati@infor.com>; Haneesha Pandiri <haneesha.pandiri@infor.com>; Haritha Vangala <Haritha.Vangala@infor.com>; Jithendra Kesari <jithendra.kesari@infor.com>; Jyotika Kumari <jyotika.kumari@infor.com>; Kapil Sapre <kapil.sapre@infor.com>; Koyal Das <koyal.das@infor.com>; Krishna Bommanagari <krishna.bommanagari@infor.com>; Laxmi Chintala <laxmi.chintala@infor.com>; Mangesh Mahabal <mangesh.mahabal@infor.com>; Milind Vengurlekar <Milind.Vengurlekar@infor.com>; Nishant Bhagwat <nishant.bhagwat@infor.com>; Nitin Singh <nitin.singh@infor.com>; Paresh Jayade <paresh.jayade@infor.com>; Pavithra Vajrala <pavithra.vajrala@infor.com>; Prajwal Bandi <prajwal.bandi@infor.com>; Rajeshwari Bondugula <rajeshwari.bondugula@infor.com>; Roshani Pachauri <roshani.pachauri@infor.com>; Sandeep Gadarla <sandeep.gadarla@infor.com>; Sowmya Yarram <sowmya.yarram@infor.com>; Subhash Sharma <Subhash.Sharma@infor.com>; Swapna Karipe <Swapna.Karipe@infor.com>; Shanthi Sanjamgari <Shanthi.Sanjamgari@infor.com>; Ramanipriya Maremanda <ramanipriya.maremanda@infor.com>; Harithasri Gorle <harithasri.gorle@infor.com>; Manjeet Kumar <Manjeet.Kumar@infor.com>; Chandra Satti <Chandra.Satti@infor.com>; Nishant Sawant <nishant.sawant@infor.com>; Pradeep Putineedi <Pradeep.Putineedi@infor.com>; Sudha Agastyaraju <Sudha.Agastyaraju@infor.com>; Nagasri Konduri <nagasri.konduri@infor.com>; Srikanth Borampet <srikanth.borampet@infor.com>; Bijal Ratani <bijal.ratani@infor.com>; Jayasree Kothamasu <jayasree.kothamasu@infor.com>; Pallavi Ekbote <pallavi.ekbote@infor.com>; Abhishek Singh (IN-ICS) <abhishek.s@infor.com>; Aashish Jain <aashish.jain@infor.com>; Saineelesh Nandamuri <saineelesh.nandamuri@infor.com>; Prathyusha Suddala <prathyusha.suddala@infor.com>; Sravanthi Mannepalli <sravanthi.mannepalli@infor.com>; Tanuj Arora <tanuj.arora@infor.com>; Siddhi Ghadge <siddhi.ghadge@infor.com>; Sudheeksha Natte <sudheeksha.natte@infor.com>; Jagadeesh Bysani <Jagadeesh.Bysani@infor.com>; Shivani Varanasi <shivani.varanasi@infor.com>; Akanksha Rai <akanksha.rai@infor.com>; Bhaskar Dunaka <Bhaskar.Dunaka@infor.com>\n",
    "''')"
   ]
  },
  {
   "cell_type": "code",
   "execution_count": 52,
   "id": "703b297b",
   "metadata": {},
   "outputs": [],
   "source": [
    "email = []\n",
    "names = []\n",
    "for token in doc:\n",
    "    if token.like_email:\n",
    "        email.append(token)\n",
    "#     if not(token.like_email) and (token != '<' or token != '>'):\n",
    "#         names.append(token)"
   ]
  },
  {
   "cell_type": "code",
   "execution_count": 53,
   "id": "0bce2da3",
   "metadata": {},
   "outputs": [
    {
     "data": {
      "text/plain": [
       "[Amit.Mokashi@infor.com,\n",
       " gurupriya.pallepati@infor.com,\n",
       " haneesha.pandiri@infor.com,\n",
       " Haritha.Vangala@infor.com,\n",
       " jithendra.kesari@infor.com,\n",
       " jyotika.kumari@infor.com,\n",
       " kapil.sapre@infor.com,\n",
       " koyal.das@infor.com,\n",
       " krishna.bommanagari@infor.com,\n",
       " laxmi.chintala@infor.com,\n",
       " mangesh.mahabal@infor.com,\n",
       " Milind.Vengurlekar@infor.com,\n",
       " nishant.bhagwat@infor.com,\n",
       " nitin.singh@infor.com,\n",
       " paresh.jayade@infor.com,\n",
       " pavithra.vajrala@infor.com,\n",
       " prajwal.bandi@infor.com,\n",
       " rajeshwari.bondugula@infor.com,\n",
       " roshani.pachauri@infor.com,\n",
       " sandeep.gadarla@infor.com,\n",
       " sowmya.yarram@infor.com,\n",
       " Subhash.Sharma@infor.com,\n",
       " Swapna.Karipe@infor.com,\n",
       " Shanthi.Sanjamgari@infor.com,\n",
       " ramanipriya.maremanda@infor.com,\n",
       " harithasri.gorle@infor.com,\n",
       " Manjeet.Kumar@infor.com,\n",
       " Chandra.Satti@infor.com,\n",
       " nishant.sawant@infor.com,\n",
       " Pradeep.Putineedi@infor.com,\n",
       " Sudha.Agastyaraju@infor.com,\n",
       " nagasri.konduri@infor.com,\n",
       " srikanth.borampet@infor.com,\n",
       " bijal.ratani@infor.com,\n",
       " jayasree.kothamasu@infor.com,\n",
       " pallavi.ekbote@infor.com,\n",
       " abhishek.s@infor.com,\n",
       " aashish.jain@infor.com,\n",
       " saineelesh.nandamuri@infor.com,\n",
       " prathyusha.suddala@infor.com,\n",
       " sravanthi.mannepalli@infor.com,\n",
       " tanuj.arora@infor.com,\n",
       " siddhi.ghadge@infor.com,\n",
       " sudheeksha.natte@infor.com,\n",
       " Jagadeesh.Bysani@infor.com,\n",
       " shivani.varanasi@infor.com,\n",
       " akanksha.rai@infor.com,\n",
       " Bhaskar.Dunaka@infor.com]"
      ]
     },
     "execution_count": 53,
     "metadata": {},
     "output_type": "execute_result"
    }
   ],
   "source": [
    "email"
   ]
  },
  {
   "cell_type": "code",
   "execution_count": 54,
   "id": "adede2d4",
   "metadata": {},
   "outputs": [],
   "source": [
    "nlp = spacy.blank('kn')"
   ]
  },
  {
   "cell_type": "code",
   "execution_count": 55,
   "id": "b347ccfe",
   "metadata": {},
   "outputs": [],
   "source": [
    "doc = nlp('ನಾನು 10 ನೇ ತರಗತಿಯಿಂದ ನಿನ್ನನ್ನು ತುಂಬಾ ಪ್ರೀತಿಸುತ್ತೇನೆ')"
   ]
  },
  {
   "cell_type": "code",
   "execution_count": 56,
   "id": "bdbb3815",
   "metadata": {},
   "outputs": [
    {
     "name": "stdout",
     "output_type": "stream",
     "text": [
      "ನಾನು : False\n",
      "10 : True\n",
      "ನೇ : False\n",
      "ತರಗತಿಯಿಂದ : False\n",
      "ನಿನ್ನನ್ನು : False\n",
      "ತುಂಬಾ : False\n",
      "ಪ್ರೀತಿಸುತ್ತೇನೆ : False\n"
     ]
    }
   ],
   "source": [
    "for token in doc:\n",
    "    print(token,\":\",token.like_num)"
   ]
  },
  {
   "cell_type": "code",
   "execution_count": 57,
   "id": "010b7efa",
   "metadata": {},
   "outputs": [
    {
     "data": {
      "text/plain": [
       "<spacy.pipeline.sentencizer.Sentencizer at 0x251c61f9350>"
      ]
     },
     "execution_count": 57,
     "metadata": {},
     "output_type": "execute_result"
    }
   ],
   "source": [
    "nlp.add_pipe('sentencizer')"
   ]
  },
  {
   "cell_type": "code",
   "execution_count": 61,
   "id": "fb2167c0",
   "metadata": {},
   "outputs": [],
   "source": [
    "text='''\n",
    "Look for data to help you address the question. Governments are good\n",
    "sources because data from public research is often freely available. Good\n",
    "places to start include http://www.data.gov/, and http://www.science.\n",
    "gov/, and in the United Kingdom, http://data.gov.uk/.\n",
    "Two of my favorite data sets are the General Social Survey at http://www3.norc.org/gss+website/, \n",
    "and the European Social Survey at http://www.europeansocialsurvey.org/.\n",
    "'''"
   ]
  },
  {
   "cell_type": "code",
   "execution_count": 66,
   "id": "90a1dfe5",
   "metadata": {},
   "outputs": [
    {
     "data": {
      "text/plain": [
       "[http://www.data.gov/,\n",
       " http://www.science,\n",
       " http://data.gov.uk/.,\n",
       " http://www3.norc.org/gss+website/,\n",
       " http://www.europeansocialsurvey.org/.]"
      ]
     },
     "execution_count": 66,
     "metadata": {},
     "output_type": "execute_result"
    }
   ],
   "source": [
    "doc = nlp(text)\n",
    "url = [token for token in doc if token.like_url]\n",
    "url"
   ]
  },
  {
   "cell_type": "code",
   "execution_count": 75,
   "id": "f35d4d4f",
   "metadata": {},
   "outputs": [
    {
     "name": "stdout",
     "output_type": "stream",
     "text": [
      "500 $\n"
     ]
    }
   ],
   "source": [
    "transactions = \"Tony gave two $ to Peter, Bruce gave 500 € to Steve\"\n",
    "doc = nlp(transactions)\n",
    "for token in doc:\n",
    "    for token_next in doc[1:]:\n",
    "        if token.like_num and token_next.is_currency:\n",
    "            print(token,token_next)\n",
    "            break"
   ]
  },
  {
   "cell_type": "code",
   "execution_count": null,
   "id": "bd06c80b",
   "metadata": {},
   "outputs": [],
   "source": []
  }
 ],
 "metadata": {
  "kernelspec": {
   "display_name": "Python 3 (ipykernel)",
   "language": "python",
   "name": "python3"
  },
  "language_info": {
   "codemirror_mode": {
    "name": "ipython",
    "version": 3
   },
   "file_extension": ".py",
   "mimetype": "text/x-python",
   "name": "python",
   "nbconvert_exporter": "python",
   "pygments_lexer": "ipython3",
   "version": "3.11.5"
  }
 },
 "nbformat": 4,
 "nbformat_minor": 5
}
