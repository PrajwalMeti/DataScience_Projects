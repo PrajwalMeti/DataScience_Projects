{
 "cells": [
  {
   "cell_type": "code",
   "execution_count": 3,
   "id": "a19f945a",
   "metadata": {},
   "outputs": [],
   "source": [
    "import re\n",
    "import pandas as pd\n",
    "import numpy as np \n",
    "import warnings\n",
    "warnings.filterwarnings(\"ignore\", category=DeprecationWarning)\n",
    "import os"
   ]
  },
  {
   "cell_type": "code",
   "execution_count": 2,
   "id": "ec0bc44a",
   "metadata": {},
   "outputs": [],
   "source": [
    "#file related for multiple files\n",
    "folder_path = 'D:\\Messages_excel'\n",
    "files = os.listdir(folder_path)\n",
    "\n",
    "text_files = [file for file in files if file.endswith('.txt')]\n",
    "text_files"
   ]
  },
  {
   "cell_type": "code",
   "execution_count": null,
   "id": "58f02295",
   "metadata": {},
   "outputs": [],
   "source": []
  },
  {
   "cell_type": "code",
   "execution_count": null,
   "id": "ea016fc7",
   "metadata": {},
   "outputs": [],
   "source": []
  },
  {
   "cell_type": "code",
   "execution_count": null,
   "id": "b87ee218",
   "metadata": {},
   "outputs": [],
   "source": []
  },
  {
   "cell_type": "code",
   "execution_count": null,
   "id": "3d10f12f",
   "metadata": {},
   "outputs": [],
   "source": []
  },
  {
   "cell_type": "code",
   "execution_count": null,
   "id": "a38c40fd",
   "metadata": {},
   "outputs": [],
   "source": []
  },
  {
   "cell_type": "code",
   "execution_count": null,
   "id": "1b153ac8",
   "metadata": {},
   "outputs": [],
   "source": []
  },
  {
   "cell_type": "code",
   "execution_count": null,
   "id": "359042eb",
   "metadata": {},
   "outputs": [],
   "source": []
  },
  {
   "cell_type": "code",
   "execution_count": null,
   "id": "aeda8e7f",
   "metadata": {},
   "outputs": [],
   "source": []
  },
  {
   "cell_type": "code",
   "execution_count": null,
   "id": "3c834d4a",
   "metadata": {},
   "outputs": [],
   "source": []
  },
  {
   "cell_type": "code",
   "execution_count": null,
   "id": "029d8763",
   "metadata": {},
   "outputs": [],
   "source": []
  },
  {
   "cell_type": "code",
   "execution_count": null,
   "id": "7eccdc33",
   "metadata": {},
   "outputs": [],
   "source": []
  },
  {
   "cell_type": "code",
   "execution_count": null,
   "id": "86dadd68",
   "metadata": {},
   "outputs": [],
   "source": []
  },
  {
   "cell_type": "code",
   "execution_count": null,
   "id": "69298c55",
   "metadata": {},
   "outputs": [],
   "source": []
  },
  {
   "cell_type": "code",
   "execution_count": null,
   "id": "866ed6c8",
   "metadata": {},
   "outputs": [],
   "source": []
  },
  {
   "cell_type": "code",
   "execution_count": null,
   "id": "aa746c88",
   "metadata": {},
   "outputs": [],
   "source": []
  },
  {
   "cell_type": "code",
   "execution_count": null,
   "id": "f1f0782a",
   "metadata": {},
   "outputs": [],
   "source": []
  },
  {
   "cell_type": "code",
   "execution_count": null,
   "id": "8730b5d9",
   "metadata": {},
   "outputs": [],
   "source": []
  },
  {
   "cell_type": "code",
   "execution_count": null,
   "id": "1e0fbffb",
   "metadata": {},
   "outputs": [],
   "source": []
  },
  {
   "cell_type": "code",
   "execution_count": null,
   "id": "01490aa9",
   "metadata": {},
   "outputs": [],
   "source": []
  },
  {
   "cell_type": "code",
   "execution_count": null,
   "id": "7f2a2851",
   "metadata": {},
   "outputs": [],
   "source": []
  },
  {
   "cell_type": "code",
   "execution_count": 4,
   "id": "d395e815",
   "metadata": {},
   "outputs": [],
   "source": [
    "text = pd.read_fwf('text_scripts.txt')"
   ]
  },
  {
   "cell_type": "code",
   "execution_count": 5,
   "id": "b5a4a94e",
   "metadata": {},
   "outputs": [],
   "source": [
    "text_values = pd.DataFrame(text.values)\n",
    "text_values"
   ]
  },
  {
   "cell_type": "code",
   "execution_count": 6,
   "id": "fafd5903",
   "metadata": {},
   "outputs": [],
   "source": [
    "pattern = 'dal.set.error.message\\(\\\"(.*)\\\"'"
   ]
  },
  {
   "cell_type": "code",
   "execution_count": 7,
   "id": "28baa627",
   "metadata": {},
   "outputs": [],
   "source": [
    "output = []\n",
    "for i in text_values[0]:\n",
    "    match = re.findall(pattern,i)\n",
    "    if not match :\n",
    "        continue\n",
    "    else:\n",
    "        if '@' in match:\n",
    "            continue\n",
    "        else:\n",
    "            output.append(match) # print output for the all the message codes "
   ]
  },
  {
   "cell_type": "code",
   "execution_count": 8,
   "id": "1722b38a",
   "metadata": {},
   "outputs": [],
   "source": [
    "message_df = pd.read_excel('ttadv4551m000_0000_20240501-220217_97052.xlsx',header=1)"
   ]
  },
  {
   "cell_type": "code",
   "execution_count": 9,
   "id": "b05e6639",
   "metadata": {},
   "outputs": [],
   "source": [
    "message_df['full_column'] = message_df['Package'] + message_df['Message Code']"
   ]
  },
  {
   "cell_type": "code",
   "execution_count": 10,
   "id": "6be998d4",
   "metadata": {},
   "outputs": [],
   "source": [
    "message_df['full_column']"
   ]
  },
  {
   "cell_type": "code",
   "execution_count": 11,
   "id": "b927afb6",
   "metadata": {},
   "outputs": [],
   "source": [
    "messages_not_in_excel = []\n",
    "for mess in output:\n",
    "    if mess in message_df['full_column'].values:\n",
    "        continue\n",
    "    else:\n",
    "        messages_not_in_excel.append(mess)"
   ]
  },
  {
   "cell_type": "code",
   "execution_count": 12,
   "id": "ab62a7cf",
   "metadata": {},
   "outputs": [],
   "source": [
    "new_messages_df = pd.DataFrame(messages_not_in_excel)"
   ]
  },
  {
   "cell_type": "code",
   "execution_count": 13,
   "id": "446bba1a",
   "metadata": {},
   "outputs": [],
   "source": [
    "new_messages_df.to_excel('outputexcel.xlsx',index = False)"
   ]
  },
  {
   "cell_type": "code",
   "execution_count": null,
   "id": "c32ee6aa",
   "metadata": {},
   "outputs": [],
   "source": []
  }
 ],
 "metadata": {
  "kernelspec": {
   "display_name": "Python 3 (ipykernel)",
   "language": "python",
   "name": "python3"
  },
  "language_info": {
   "codemirror_mode": {
    "name": "ipython",
    "version": 3
   },
   "file_extension": ".py",
   "mimetype": "text/x-python",
   "name": "python",
   "nbconvert_exporter": "python",
   "pygments_lexer": "ipython3",
   "version": "3.11.5"
  }
 },
 "nbformat": 4,
 "nbformat_minor": 5
}
