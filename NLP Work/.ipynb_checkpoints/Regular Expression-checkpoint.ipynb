{
 "cells": [
  {
   "cell_type": "code",
   "execution_count": 2,
   "id": "31b0409c",
   "metadata": {},
   "outputs": [],
   "source": [
    "import re"
   ]
  },
  {
   "cell_type": "code",
   "execution_count": 3,
   "id": "59dc2705",
   "metadata": {},
   "outputs": [],
   "source": [
    "text = \"My phone number is 7829231037 and call me when you are free and haveing the revenue is 90 billion and number in deferrent country is (999)-333-7777\"\n",
    "pattern_match_for_mn = \"\\(\\d{3}\\)-\\d{3}-\\d{4}|\\d{10}\"\n",
    "extract_mobile_number = re.findall(pattern_match_for_mn,text)"
   ]
  },
  {
   "cell_type": "code",
   "execution_count": 4,
   "id": "a8f9b674",
   "metadata": {},
   "outputs": [],
   "source": [
    "text2 ='''\n",
    "    ITEM 1. BUSINESS\n",
    "Overview\n",
    "We design, develop, manufacture, sell and lease high-performance fully electric vehicles and energy generation and storage systems, and offer\n",
    "services related to our products. We generally sell our products directly to customers, and continue to grow our customer-facing infrastructure through a\n",
    "global network of vehicle service centers, Mobile Service, body shops, Supercharger stations and Destination Chargers to accelerate the widespread\n",
    "adoption of our products. We emphasize performance, attractive styling and the safety of our users and workforce in the design and manufacture of our\n",
    "products and are continuing to develop full self-driving technology for improved safety. We also strive to lower the cost of ownership for our customers\n",
    "through continuous efforts to reduce manufacturing costs and by offering financial and other services tailored to our products.\n",
    "Our mission is to accelerate the world’s transition to sustainable energy. We believe that this mission, along with our engineering expertise,\n",
    "vertically integrated business model and focus on user experience differentiate us from other companies.\n",
    "ITEM 2. PROPERTIES\n",
    "We are headquartered in Austin, Texas. Our principal facilities include a large number of properties in North America, Europe and Asia utilized for\n",
    "manufacturing and assembly, warehousing, engineering, retail and service locations, Supercharger sites and administrative and sales offices. Our\n",
    "facilities are used to support both of our reporting segments, and are suitable and adequate for the conduct of our business. We primarily lease such\n",
    "facilities with the exception of some manufacturing facilities. The following table sets forth the location of our primary owned and leased manufacturing\n",
    "facilities\n",
    "ITEM 5. MARKET FOR REGISTRANT’S COMMON EQUITY, RELATED STOCKHOLDER MATTERS AND ISSUER PURCHASES OF EQUITY\n",
    "SECURITIES\n",
    "Market Information\n",
    "Our common stock has traded on The NASDAQ Global Select Market under the symbol “TSLA” since it began trading on June 29, 2010. Our\n",
    "initial public offering was priced at approximately $1.13 per share on June 28, 2010 as adjusted to give effect to the 2022 Stock Split and the five-for-one\n",
    "stock split effected in the form of a stock dividend in August 2020 (the “2020 Stock Split”).\n",
    "\n",
    "\n",
    "'''\n",
    "pattern_match_for_item = \"ITEM \\d{1}. ([^\\n]*)\"\n",
    "get_item_from_text = re.findall(pattern_match_for_item,text2)"
   ]
  },
  {
   "cell_type": "code",
   "execution_count": 5,
   "id": "7c560570",
   "metadata": {},
   "outputs": [
    {
     "data": {
      "text/plain": [
       "['BUSINESS',\n",
       " 'PROPERTIES',\n",
       " 'MARKET FOR REGISTRANT’S COMMON EQUITY, RELATED STOCKHOLDER MATTERS AND ISSUER PURCHASES OF EQUITY']"
      ]
     },
     "execution_count": 5,
     "metadata": {},
     "output_type": "execute_result"
    }
   ],
   "source": [
    "get_item_from_text"
   ]
  },
  {
   "cell_type": "code",
   "execution_count": 12,
   "id": "0048cdd7",
   "metadata": {},
   "outputs": [],
   "source": [
    "text3 = '''The gross cost of operating lease vehicles in FY2021 Q1 was $4.85 billion.\n",
    "In previous quarter i.e. FY2020 Q4 it was $3 billion. \n",
    "'''\n",
    "pattern_match_for_fy =\"FY(\\d{4} Q[1-4])\""
   ]
  },
  {
   "cell_type": "code",
   "execution_count": 13,
   "id": "3dbcc332",
   "metadata": {},
   "outputs": [
    {
     "data": {
      "text/plain": [
       "['2021 Q1', '2020 Q4']"
      ]
     },
     "execution_count": 13,
     "metadata": {},
     "output_type": "execute_result"
    }
   ],
   "source": [
    "# get the Financial Year in the text \n",
    "get_financial_year = re.findall(pattern_match_for_fy,text3)\n",
    "get_financial_year"
   ]
  },
  {
   "cell_type": "code",
   "execution_count": 15,
   "id": "1faf5641",
   "metadata": {},
   "outputs": [
    {
     "data": {
      "text/plain": [
       "['$4.85', '$3']"
      ]
     },
     "execution_count": 15,
     "metadata": {},
     "output_type": "execute_result"
    }
   ],
   "source": [
    "# geting the Actuval values of the>example anything starts with $  \n",
    "pattern_match_for_doller = \"\\$[0-9\\.]+\"\n",
    "get_doller_currency = re.findall(pattern_match_for_doller,text3)\n",
    "get_doller_currency"
   ]
  },
  {
   "cell_type": "code",
   "execution_count": null,
   "id": "38c73273",
   "metadata": {},
   "outputs": [],
   "source": []
  }
 ],
 "metadata": {
  "kernelspec": {
   "display_name": "Python 3 (ipykernel)",
   "language": "python",
   "name": "python3"
  },
  "language_info": {
   "codemirror_mode": {
    "name": "ipython",
    "version": 3
   },
   "file_extension": ".py",
   "mimetype": "text/x-python",
   "name": "python",
   "nbconvert_exporter": "python",
   "pygments_lexer": "ipython3",
   "version": "3.11.5"
  }
 },
 "nbformat": 4,
 "nbformat_minor": 5
}
