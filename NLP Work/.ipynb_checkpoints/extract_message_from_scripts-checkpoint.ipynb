{
 "cells": [
  {
   "cell_type": "code",
   "execution_count": 40,
   "id": "a19f945a",
   "metadata": {},
   "outputs": [],
   "source": [
    "import re\n",
    "import pandas as pd\n",
    "import numpy as np \n",
    "import warnings\n",
    "warnings.filterwarnings(\"ignore\", category=DeprecationWarning)\n",
    "import os"
   ]
  },
  {
   "cell_type": "code",
   "execution_count": 46,
   "id": "1e6c548a",
   "metadata": {},
   "outputs": [],
   "source": [
    "#file related for multiple files\n",
    "folder_path = 'D:\\Messages_excel'\n",
    "files = os.listdir(folder_path)\n",
    "\n",
    "text_files = [file for file in files if file.endswith('.txt')]"
   ]
  },
  {
   "cell_type": "code",
   "execution_count": 48,
   "id": "c7722cfe",
   "metadata": {},
   "outputs": [
    {
     "ename": "TypeError",
     "evalue": "join() argument must be str, bytes, or os.PathLike object, not 'list'",
     "output_type": "error",
     "traceback": [
      "\u001b[1;31m---------------------------------------------------------------------------\u001b[0m",
      "\u001b[1;31mTypeError\u001b[0m                                 Traceback (most recent call last)",
      "Cell \u001b[1;32mIn[48], line 2\u001b[0m\n\u001b[0;32m      1\u001b[0m \u001b[38;5;28;01mfor\u001b[39;00m text_file \u001b[38;5;129;01min\u001b[39;00m text_files:\n\u001b[1;32m----> 2\u001b[0m     file_path \u001b[38;5;241m=\u001b[39m \u001b[43mos\u001b[49m\u001b[38;5;241;43m.\u001b[39;49m\u001b[43mpath\u001b[49m\u001b[38;5;241;43m.\u001b[39;49m\u001b[43mjoin\u001b[49m\u001b[43m(\u001b[49m\u001b[43mfolder_path\u001b[49m\u001b[43m,\u001b[49m\u001b[43mtext_files\u001b[49m\u001b[43m)\u001b[49m\n",
      "File \u001b[1;32m<frozen ntpath>:147\u001b[0m, in \u001b[0;36mjoin\u001b[1;34m(path, *paths)\u001b[0m\n",
      "File \u001b[1;32m<frozen genericpath>:152\u001b[0m, in \u001b[0;36m_check_arg_types\u001b[1;34m(funcname, *args)\u001b[0m\n",
      "\u001b[1;31mTypeError\u001b[0m: join() argument must be str, bytes, or os.PathLike object, not 'list'"
     ]
    }
   ],
   "source": [
    "for text_file in text_files:\n",
    "    file_path = os.path.join(folder_path,text_file)"
   ]
  },
  {
   "cell_type": "code",
   "execution_count": null,
   "id": "e08b3611",
   "metadata": {},
   "outputs": [],
   "source": []
  },
  {
   "cell_type": "code",
   "execution_count": null,
   "id": "dae9b204",
   "metadata": {},
   "outputs": [],
   "source": []
  },
  {
   "cell_type": "code",
   "execution_count": null,
   "id": "6fdd0979",
   "metadata": {},
   "outputs": [],
   "source": []
  },
  {
   "cell_type": "code",
   "execution_count": null,
   "id": "f32798af",
   "metadata": {},
   "outputs": [],
   "source": []
  },
  {
   "cell_type": "code",
   "execution_count": null,
   "id": "1b6b2d64",
   "metadata": {},
   "outputs": [],
   "source": []
  },
  {
   "cell_type": "code",
   "execution_count": null,
   "id": "38ed7d04",
   "metadata": {},
   "outputs": [],
   "source": []
  },
  {
   "cell_type": "code",
   "execution_count": null,
   "id": "749f49b2",
   "metadata": {},
   "outputs": [],
   "source": []
  },
  {
   "cell_type": "code",
   "execution_count": null,
   "id": "7b10abba",
   "metadata": {},
   "outputs": [],
   "source": []
  },
  {
   "cell_type": "code",
   "execution_count": null,
   "id": "40fc51ff",
   "metadata": {},
   "outputs": [],
   "source": []
  },
  {
   "cell_type": "code",
   "execution_count": null,
   "id": "19518627",
   "metadata": {},
   "outputs": [],
   "source": []
  },
  {
   "cell_type": "code",
   "execution_count": null,
   "id": "0c1cd8fd",
   "metadata": {},
   "outputs": [],
   "source": []
  },
  {
   "cell_type": "code",
   "execution_count": null,
   "id": "1a677f03",
   "metadata": {},
   "outputs": [],
   "source": []
  },
  {
   "cell_type": "code",
   "execution_count": null,
   "id": "4538c11d",
   "metadata": {},
   "outputs": [],
   "source": []
  },
  {
   "cell_type": "code",
   "execution_count": null,
   "id": "d1fbde8d",
   "metadata": {},
   "outputs": [],
   "source": []
  },
  {
   "cell_type": "code",
   "execution_count": null,
   "id": "034e240e",
   "metadata": {},
   "outputs": [],
   "source": []
  },
  {
   "cell_type": "code",
   "execution_count": 24,
   "id": "d395e815",
   "metadata": {},
   "outputs": [],
   "source": [
    "text = pd.read_fwf('text_scripts.txt')"
   ]
  },
  {
   "cell_type": "code",
   "execution_count": 25,
   "id": "b5a4a94e",
   "metadata": {},
   "outputs": [
    {
     "data": {
      "text/html": [
       "<div>\n",
       "<style scoped>\n",
       "    .dataframe tbody tr th:only-of-type {\n",
       "        vertical-align: middle;\n",
       "    }\n",
       "\n",
       "    .dataframe tbody tr th {\n",
       "        vertical-align: top;\n",
       "    }\n",
       "\n",
       "    .dataframe thead th {\n",
       "        text-align: right;\n",
       "    }\n",
       "</style>\n",
       "<table border=\"1\" class=\"dataframe\">\n",
       "  <thead>\n",
       "    <tr style=\"text-align: right;\">\n",
       "      <th></th>\n",
       "      <th>0</th>\n",
       "    </tr>\n",
       "  </thead>\n",
       "  <tbody>\n",
       "    <tr>\n",
       "      <th>0</th>\n",
       "      <td>|* txmcsdll9001  B61O_a_ext</td>\n",
       "    </tr>\n",
       "    <tr>\n",
       "      <th>1</th>\n",
       "      <td>|* DLL for tcmcs tables handling</td>\n",
       "    </tr>\n",
       "    <tr>\n",
       "      <th>2</th>\n",
       "      <td>|* Sowmya Yarram</td>\n",
       "    </tr>\n",
       "    <tr>\n",
       "      <th>3</th>\n",
       "      <td>|* 2022-11-23 [03:00]</td>\n",
       "    </tr>\n",
       "    <tr>\n",
       "      <th>4</th>\n",
       "      <td>|*********************************************...</td>\n",
       "    </tr>\n",
       "    <tr>\n",
       "      <th>...</th>\n",
       "      <td>...</td>\n",
       "    </tr>\n",
       "    <tr>\n",
       "      <th>15505</th>\n",
       "      <td>o.late.payment.amount = 0</td>\n",
       "    </tr>\n",
       "    <tr>\n",
       "      <th>15506</th>\n",
       "      <td>o.late.payment.date = 0</td>\n",
       "    </tr>\n",
       "    <tr>\n",
       "      <th>15507</th>\n",
       "      <td>endselect</td>\n",
       "    </tr>\n",
       "    <tr>\n",
       "      <th>15508</th>\n",
       "      <td>}</td>\n",
       "    </tr>\n",
       "    <tr>\n",
       "      <th>15509</th>\n",
       "      <td>|*************************************** End O...</td>\n",
       "    </tr>\n",
       "  </tbody>\n",
       "</table>\n",
       "<p>15510 rows × 1 columns</p>\n",
       "</div>"
      ],
      "text/plain": [
       "                                                       0\n",
       "0                            |* txmcsdll9001  B61O_a_ext\n",
       "1                       |* DLL for tcmcs tables handling\n",
       "2                                       |* Sowmya Yarram\n",
       "3                                  |* 2022-11-23 [03:00]\n",
       "4      |*********************************************...\n",
       "...                                                  ...\n",
       "15505                          o.late.payment.amount = 0\n",
       "15506                            o.late.payment.date = 0\n",
       "15507                                          endselect\n",
       "15508                                                  }\n",
       "15509  |*************************************** End O...\n",
       "\n",
       "[15510 rows x 1 columns]"
      ]
     },
     "execution_count": 25,
     "metadata": {},
     "output_type": "execute_result"
    }
   ],
   "source": [
    "text_values = pd.DataFrame(text.values)\n",
    "text_values"
   ]
  },
  {
   "cell_type": "code",
   "execution_count": 26,
   "id": "fafd5903",
   "metadata": {},
   "outputs": [],
   "source": [
    "pattern = 'dal.set.error.message\\(\\\"(.*)\\\"'"
   ]
  },
  {
   "cell_type": "code",
   "execution_count": 27,
   "id": "28baa627",
   "metadata": {},
   "outputs": [],
   "source": [
    "output = []\n",
    "for i in text_values[0]:\n",
    "    match = re.findall(pattern,i)\n",
    "    if not match :\n",
    "        continue\n",
    "    else:\n",
    "        if '@' in match:\n",
    "            continue\n",
    "        else:\n",
    "            output.append(match) # print output for the all the message codes "
   ]
  },
  {
   "cell_type": "code",
   "execution_count": 28,
   "id": "1722b38a",
   "metadata": {},
   "outputs": [
    {
     "name": "stderr",
     "output_type": "stream",
     "text": [
      "C:\\Users\\pbandi\\AppData\\Local\\anaconda3\\Lib\\site-packages\\openpyxl\\styles\\stylesheet.py:226: UserWarning: Workbook contains no default style, apply openpyxl's default\n",
      "  warn(\"Workbook contains no default style, apply openpyxl's default\")\n"
     ]
    }
   ],
   "source": [
    "message_df = pd.read_excel('ttadv4551m000_0000_20240501-220217_97052.xlsx',header=1)"
   ]
  },
  {
   "cell_type": "code",
   "execution_count": 29,
   "id": "b05e6639",
   "metadata": {},
   "outputs": [],
   "source": [
    "message_df['full_column'] = message_df['Package'] + message_df['Message Code']"
   ]
  },
  {
   "cell_type": "code",
   "execution_count": 30,
   "id": "6be998d4",
   "metadata": {},
   "outputs": [
    {
     "data": {
      "text/plain": [
       "0       txacp2400.001\n",
       "1       txacp2400.002\n",
       "2       txacp8006.001\n",
       "3       txacp8006.003\n",
       "4          txacps0017\n",
       "            ...      \n",
       "1338       txwmds5133\n",
       "1339       txwmds5141\n",
       "1340       txwmds5142\n",
       "1341       txwmds5143\n",
       "1342       txwmdt5301\n",
       "Name: full_column, Length: 1343, dtype: object"
      ]
     },
     "execution_count": 30,
     "metadata": {},
     "output_type": "execute_result"
    }
   ],
   "source": [
    "message_df['full_column']"
   ]
  },
  {
   "cell_type": "code",
   "execution_count": 31,
   "id": "b927afb6",
   "metadata": {},
   "outputs": [],
   "source": [
    "messages_not_in_excel = []\n",
    "for mess in output:\n",
    "    if mess in message_df['full_column'].values:\n",
    "        continue\n",
    "    else:\n",
    "        messages_not_in_excel.append(mess)"
   ]
  },
  {
   "cell_type": "code",
   "execution_count": 32,
   "id": "ab62a7cf",
   "metadata": {},
   "outputs": [],
   "source": [
    "new_messages_df = pd.DataFrame(messages_not_in_excel)"
   ]
  },
  {
   "cell_type": "code",
   "execution_count": 20,
   "id": "446bba1a",
   "metadata": {},
   "outputs": [],
   "source": [
    "new_messages_df.to_excel('outputexcel.xlsx',index = False)"
   ]
  },
  {
   "cell_type": "code",
   "execution_count": null,
   "id": "c32ee6aa",
   "metadata": {},
   "outputs": [],
   "source": []
  }
 ],
 "metadata": {
  "kernelspec": {
   "display_name": "Python 3 (ipykernel)",
   "language": "python",
   "name": "python3"
  },
  "language_info": {
   "codemirror_mode": {
    "name": "ipython",
    "version": 3
   },
   "file_extension": ".py",
   "mimetype": "text/x-python",
   "name": "python",
   "nbconvert_exporter": "python",
   "pygments_lexer": "ipython3",
   "version": "3.11.5"
  }
 },
 "nbformat": 4,
 "nbformat_minor": 5
}
