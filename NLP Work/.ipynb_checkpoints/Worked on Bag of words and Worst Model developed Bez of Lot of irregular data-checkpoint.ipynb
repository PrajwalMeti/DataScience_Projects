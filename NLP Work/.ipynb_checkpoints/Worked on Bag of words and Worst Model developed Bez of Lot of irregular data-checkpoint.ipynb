{
 "cells": [
  {
   "cell_type": "code",
   "execution_count": 1,
   "id": "d77dac8c",
   "metadata": {},
   "outputs": [],
   "source": [
    "from sklearn.feature_extraction.text import CountVectorizer\n",
    "import spacy \n",
    "import pandas as pd\n",
    "from sklearn.model_selection import train_test_split\n",
    "from sklearn.naive_bayes import MultinomialNB\n",
    "from sklearn.pipeline import Pipeline\n",
    "from sklearn.metrics import classification_report\n",
    "from sklearn.metrics import confusion_matrix "
   ]
  },
  {
   "cell_type": "code",
   "execution_count": 2,
   "id": "080ad4d7",
   "metadata": {},
   "outputs": [
    {
     "data": {
      "text/html": [
       "<style>#sk-container-id-1 {color: black;}#sk-container-id-1 pre{padding: 0;}#sk-container-id-1 div.sk-toggleable {background-color: white;}#sk-container-id-1 label.sk-toggleable__label {cursor: pointer;display: block;width: 100%;margin-bottom: 0;padding: 0.3em;box-sizing: border-box;text-align: center;}#sk-container-id-1 label.sk-toggleable__label-arrow:before {content: \"▸\";float: left;margin-right: 0.25em;color: #696969;}#sk-container-id-1 label.sk-toggleable__label-arrow:hover:before {color: black;}#sk-container-id-1 div.sk-estimator:hover label.sk-toggleable__label-arrow:before {color: black;}#sk-container-id-1 div.sk-toggleable__content {max-height: 0;max-width: 0;overflow: hidden;text-align: left;background-color: #f0f8ff;}#sk-container-id-1 div.sk-toggleable__content pre {margin: 0.2em;color: black;border-radius: 0.25em;background-color: #f0f8ff;}#sk-container-id-1 input.sk-toggleable__control:checked~div.sk-toggleable__content {max-height: 200px;max-width: 100%;overflow: auto;}#sk-container-id-1 input.sk-toggleable__control:checked~label.sk-toggleable__label-arrow:before {content: \"▾\";}#sk-container-id-1 div.sk-estimator input.sk-toggleable__control:checked~label.sk-toggleable__label {background-color: #d4ebff;}#sk-container-id-1 div.sk-label input.sk-toggleable__control:checked~label.sk-toggleable__label {background-color: #d4ebff;}#sk-container-id-1 input.sk-hidden--visually {border: 0;clip: rect(1px 1px 1px 1px);clip: rect(1px, 1px, 1px, 1px);height: 1px;margin: -1px;overflow: hidden;padding: 0;position: absolute;width: 1px;}#sk-container-id-1 div.sk-estimator {font-family: monospace;background-color: #f0f8ff;border: 1px dotted black;border-radius: 0.25em;box-sizing: border-box;margin-bottom: 0.5em;}#sk-container-id-1 div.sk-estimator:hover {background-color: #d4ebff;}#sk-container-id-1 div.sk-parallel-item::after {content: \"\";width: 100%;border-bottom: 1px solid gray;flex-grow: 1;}#sk-container-id-1 div.sk-label:hover label.sk-toggleable__label {background-color: #d4ebff;}#sk-container-id-1 div.sk-serial::before {content: \"\";position: absolute;border-left: 1px solid gray;box-sizing: border-box;top: 0;bottom: 0;left: 50%;z-index: 0;}#sk-container-id-1 div.sk-serial {display: flex;flex-direction: column;align-items: center;background-color: white;padding-right: 0.2em;padding-left: 0.2em;position: relative;}#sk-container-id-1 div.sk-item {position: relative;z-index: 1;}#sk-container-id-1 div.sk-parallel {display: flex;align-items: stretch;justify-content: center;background-color: white;position: relative;}#sk-container-id-1 div.sk-item::before, #sk-container-id-1 div.sk-parallel-item::before {content: \"\";position: absolute;border-left: 1px solid gray;box-sizing: border-box;top: 0;bottom: 0;left: 50%;z-index: -1;}#sk-container-id-1 div.sk-parallel-item {display: flex;flex-direction: column;z-index: 1;position: relative;background-color: white;}#sk-container-id-1 div.sk-parallel-item:first-child::after {align-self: flex-end;width: 50%;}#sk-container-id-1 div.sk-parallel-item:last-child::after {align-self: flex-start;width: 50%;}#sk-container-id-1 div.sk-parallel-item:only-child::after {width: 0;}#sk-container-id-1 div.sk-dashed-wrapped {border: 1px dashed gray;margin: 0 0.4em 0.5em 0.4em;box-sizing: border-box;padding-bottom: 0.4em;background-color: white;}#sk-container-id-1 div.sk-label label {font-family: monospace;font-weight: bold;display: inline-block;line-height: 1.2em;}#sk-container-id-1 div.sk-label-container {text-align: center;}#sk-container-id-1 div.sk-container {/* jupyter's `normalize.less` sets `[hidden] { display: none; }` but bootstrap.min.css set `[hidden] { display: none !important; }` so we also need the `!important` here to be able to override the default hidden behavior on the sphinx rendered scikit-learn.org. See: https://github.com/scikit-learn/scikit-learn/issues/21755 */display: inline-block !important;position: relative;}#sk-container-id-1 div.sk-text-repr-fallback {display: none;}</style><div id=\"sk-container-id-1\" class=\"sk-top-container\"><div class=\"sk-text-repr-fallback\"><pre>CountVectorizer(ngram_range=(1, 3))</pre><b>In a Jupyter environment, please rerun this cell to show the HTML representation or trust the notebook. <br />On GitHub, the HTML representation is unable to render, please try loading this page with nbviewer.org.</b></div><div class=\"sk-container\" hidden><div class=\"sk-item\"><div class=\"sk-estimator sk-toggleable\"><input class=\"sk-toggleable__control sk-hidden--visually\" id=\"sk-estimator-id-1\" type=\"checkbox\" checked><label for=\"sk-estimator-id-1\" class=\"sk-toggleable__label sk-toggleable__label-arrow\">CountVectorizer</label><div class=\"sk-toggleable__content\"><pre>CountVectorizer(ngram_range=(1, 3))</pre></div></div></div></div></div>"
      ],
      "text/plain": [
       "CountVectorizer(ngram_range=(1, 3))"
      ]
     },
     "execution_count": 2,
     "metadata": {},
     "output_type": "execute_result"
    }
   ],
   "source": [
    "v = CountVectorizer(ngram_range = (1,3))\n",
    "v.fit(['Thor Hatwala is looking for a job'])"
   ]
  },
  {
   "cell_type": "code",
   "execution_count": 3,
   "id": "de66f354",
   "metadata": {},
   "outputs": [
    {
     "data": {
      "text/plain": [
       "{'thor': 12,\n",
       " 'hatwala': 2,\n",
       " 'is': 5,\n",
       " 'looking': 9,\n",
       " 'for': 0,\n",
       " 'job': 8,\n",
       " 'thor hatwala': 13,\n",
       " 'hatwala is': 3,\n",
       " 'is looking': 6,\n",
       " 'looking for': 10,\n",
       " 'for job': 1,\n",
       " 'thor hatwala is': 14,\n",
       " 'hatwala is looking': 4,\n",
       " 'is looking for': 7,\n",
       " 'looking for job': 11}"
      ]
     },
     "execution_count": 3,
     "metadata": {},
     "output_type": "execute_result"
    }
   ],
   "source": [
    "v.vocabulary_"
   ]
  },
  {
   "cell_type": "code",
   "execution_count": 4,
   "id": "891befb9",
   "metadata": {},
   "outputs": [],
   "source": [
    "nlp = spacy.load('en_core_web_sm') # load an english model library "
   ]
  },
  {
   "cell_type": "code",
   "execution_count": 5,
   "id": "f72b8222",
   "metadata": {},
   "outputs": [],
   "source": [
    "def preprocess(text):\n",
    "    doc = nlp(text)\n",
    "    filterd_tokens = []\n",
    "    for token in doc:\n",
    "        if token.is_stop or token.is_punct:\n",
    "            continue\n",
    "        filterd_tokens.append(token.lemma_)\n",
    "        \n",
    "    return ' '.join(filterd_tokens)"
   ]
  },
  {
   "cell_type": "code",
   "execution_count": 6,
   "id": "44060c93",
   "metadata": {},
   "outputs": [],
   "source": [
    "corpus = ['Thor ate pizza','Loki is tall','Loki eating pizza']"
   ]
  },
  {
   "cell_type": "code",
   "execution_count": 7,
   "id": "672a8bae",
   "metadata": {},
   "outputs": [
    {
     "data": {
      "text/plain": [
       "['thor eat pizza', 'Loki tall', 'Loki eat pizza']"
      ]
     },
     "execution_count": 7,
     "metadata": {},
     "output_type": "execute_result"
    }
   ],
   "source": [
    "corpus_processed = [ preprocess(text) for text in corpus ]\n",
    "corpus_processed"
   ]
  },
  {
   "cell_type": "code",
   "execution_count": 8,
   "id": "8c368a1a",
   "metadata": {},
   "outputs": [],
   "source": [
    "v = CountVectorizer(ngram_range = (1,2))"
   ]
  },
  {
   "cell_type": "code",
   "execution_count": 9,
   "id": "dc6fae4c",
   "metadata": {},
   "outputs": [
    {
     "data": {
      "text/html": [
       "<style>#sk-container-id-2 {color: black;}#sk-container-id-2 pre{padding: 0;}#sk-container-id-2 div.sk-toggleable {background-color: white;}#sk-container-id-2 label.sk-toggleable__label {cursor: pointer;display: block;width: 100%;margin-bottom: 0;padding: 0.3em;box-sizing: border-box;text-align: center;}#sk-container-id-2 label.sk-toggleable__label-arrow:before {content: \"▸\";float: left;margin-right: 0.25em;color: #696969;}#sk-container-id-2 label.sk-toggleable__label-arrow:hover:before {color: black;}#sk-container-id-2 div.sk-estimator:hover label.sk-toggleable__label-arrow:before {color: black;}#sk-container-id-2 div.sk-toggleable__content {max-height: 0;max-width: 0;overflow: hidden;text-align: left;background-color: #f0f8ff;}#sk-container-id-2 div.sk-toggleable__content pre {margin: 0.2em;color: black;border-radius: 0.25em;background-color: #f0f8ff;}#sk-container-id-2 input.sk-toggleable__control:checked~div.sk-toggleable__content {max-height: 200px;max-width: 100%;overflow: auto;}#sk-container-id-2 input.sk-toggleable__control:checked~label.sk-toggleable__label-arrow:before {content: \"▾\";}#sk-container-id-2 div.sk-estimator input.sk-toggleable__control:checked~label.sk-toggleable__label {background-color: #d4ebff;}#sk-container-id-2 div.sk-label input.sk-toggleable__control:checked~label.sk-toggleable__label {background-color: #d4ebff;}#sk-container-id-2 input.sk-hidden--visually {border: 0;clip: rect(1px 1px 1px 1px);clip: rect(1px, 1px, 1px, 1px);height: 1px;margin: -1px;overflow: hidden;padding: 0;position: absolute;width: 1px;}#sk-container-id-2 div.sk-estimator {font-family: monospace;background-color: #f0f8ff;border: 1px dotted black;border-radius: 0.25em;box-sizing: border-box;margin-bottom: 0.5em;}#sk-container-id-2 div.sk-estimator:hover {background-color: #d4ebff;}#sk-container-id-2 div.sk-parallel-item::after {content: \"\";width: 100%;border-bottom: 1px solid gray;flex-grow: 1;}#sk-container-id-2 div.sk-label:hover label.sk-toggleable__label {background-color: #d4ebff;}#sk-container-id-2 div.sk-serial::before {content: \"\";position: absolute;border-left: 1px solid gray;box-sizing: border-box;top: 0;bottom: 0;left: 50%;z-index: 0;}#sk-container-id-2 div.sk-serial {display: flex;flex-direction: column;align-items: center;background-color: white;padding-right: 0.2em;padding-left: 0.2em;position: relative;}#sk-container-id-2 div.sk-item {position: relative;z-index: 1;}#sk-container-id-2 div.sk-parallel {display: flex;align-items: stretch;justify-content: center;background-color: white;position: relative;}#sk-container-id-2 div.sk-item::before, #sk-container-id-2 div.sk-parallel-item::before {content: \"\";position: absolute;border-left: 1px solid gray;box-sizing: border-box;top: 0;bottom: 0;left: 50%;z-index: -1;}#sk-container-id-2 div.sk-parallel-item {display: flex;flex-direction: column;z-index: 1;position: relative;background-color: white;}#sk-container-id-2 div.sk-parallel-item:first-child::after {align-self: flex-end;width: 50%;}#sk-container-id-2 div.sk-parallel-item:last-child::after {align-self: flex-start;width: 50%;}#sk-container-id-2 div.sk-parallel-item:only-child::after {width: 0;}#sk-container-id-2 div.sk-dashed-wrapped {border: 1px dashed gray;margin: 0 0.4em 0.5em 0.4em;box-sizing: border-box;padding-bottom: 0.4em;background-color: white;}#sk-container-id-2 div.sk-label label {font-family: monospace;font-weight: bold;display: inline-block;line-height: 1.2em;}#sk-container-id-2 div.sk-label-container {text-align: center;}#sk-container-id-2 div.sk-container {/* jupyter's `normalize.less` sets `[hidden] { display: none; }` but bootstrap.min.css set `[hidden] { display: none !important; }` so we also need the `!important` here to be able to override the default hidden behavior on the sphinx rendered scikit-learn.org. See: https://github.com/scikit-learn/scikit-learn/issues/21755 */display: inline-block !important;position: relative;}#sk-container-id-2 div.sk-text-repr-fallback {display: none;}</style><div id=\"sk-container-id-2\" class=\"sk-top-container\"><div class=\"sk-text-repr-fallback\"><pre>CountVectorizer(ngram_range=(1, 2))</pre><b>In a Jupyter environment, please rerun this cell to show the HTML representation or trust the notebook. <br />On GitHub, the HTML representation is unable to render, please try loading this page with nbviewer.org.</b></div><div class=\"sk-container\" hidden><div class=\"sk-item\"><div class=\"sk-estimator sk-toggleable\"><input class=\"sk-toggleable__control sk-hidden--visually\" id=\"sk-estimator-id-2\" type=\"checkbox\" checked><label for=\"sk-estimator-id-2\" class=\"sk-toggleable__label sk-toggleable__label-arrow\">CountVectorizer</label><div class=\"sk-toggleable__content\"><pre>CountVectorizer(ngram_range=(1, 2))</pre></div></div></div></div></div>"
      ],
      "text/plain": [
       "CountVectorizer(ngram_range=(1, 2))"
      ]
     },
     "execution_count": 9,
     "metadata": {},
     "output_type": "execute_result"
    }
   ],
   "source": [
    "v.fit(corpus_processed)"
   ]
  },
  {
   "cell_type": "code",
   "execution_count": 10,
   "id": "6f6a3591",
   "metadata": {},
   "outputs": [],
   "source": [
    "data_fram = pd.read_json('News_Category_Dataset_v3.json',lines=True)"
   ]
  },
  {
   "cell_type": "code",
   "execution_count": 11,
   "id": "3605d0b2",
   "metadata": {},
   "outputs": [
    {
     "data": {
      "text/html": [
       "<div>\n",
       "<style scoped>\n",
       "    .dataframe tbody tr th:only-of-type {\n",
       "        vertical-align: middle;\n",
       "    }\n",
       "\n",
       "    .dataframe tbody tr th {\n",
       "        vertical-align: top;\n",
       "    }\n",
       "\n",
       "    .dataframe thead th {\n",
       "        text-align: right;\n",
       "    }\n",
       "</style>\n",
       "<table border=\"1\" class=\"dataframe\">\n",
       "  <thead>\n",
       "    <tr style=\"text-align: right;\">\n",
       "      <th></th>\n",
       "      <th>link</th>\n",
       "      <th>headline</th>\n",
       "      <th>category</th>\n",
       "      <th>short_description</th>\n",
       "      <th>authors</th>\n",
       "      <th>date</th>\n",
       "    </tr>\n",
       "  </thead>\n",
       "  <tbody>\n",
       "    <tr>\n",
       "      <th>0</th>\n",
       "      <td>https://www.huffpost.com/entry/covid-boosters-...</td>\n",
       "      <td>Over 4 Million Americans Roll Up Sleeves For O...</td>\n",
       "      <td>U.S. NEWS</td>\n",
       "      <td>Health experts said it is too early to predict...</td>\n",
       "      <td>Carla K. Johnson, AP</td>\n",
       "      <td>2022-09-23</td>\n",
       "    </tr>\n",
       "    <tr>\n",
       "      <th>1</th>\n",
       "      <td>https://www.huffpost.com/entry/american-airlin...</td>\n",
       "      <td>American Airlines Flyer Charged, Banned For Li...</td>\n",
       "      <td>U.S. NEWS</td>\n",
       "      <td>He was subdued by passengers and crew when he ...</td>\n",
       "      <td>Mary Papenfuss</td>\n",
       "      <td>2022-09-23</td>\n",
       "    </tr>\n",
       "    <tr>\n",
       "      <th>2</th>\n",
       "      <td>https://www.huffpost.com/entry/funniest-tweets...</td>\n",
       "      <td>23 Of The Funniest Tweets About Cats And Dogs ...</td>\n",
       "      <td>COMEDY</td>\n",
       "      <td>\"Until you have a dog you don't understand wha...</td>\n",
       "      <td>Elyse Wanshel</td>\n",
       "      <td>2022-09-23</td>\n",
       "    </tr>\n",
       "    <tr>\n",
       "      <th>3</th>\n",
       "      <td>https://www.huffpost.com/entry/funniest-parent...</td>\n",
       "      <td>The Funniest Tweets From Parents This Week (Se...</td>\n",
       "      <td>PARENTING</td>\n",
       "      <td>\"Accidentally put grown-up toothpaste on my to...</td>\n",
       "      <td>Caroline Bologna</td>\n",
       "      <td>2022-09-23</td>\n",
       "    </tr>\n",
       "    <tr>\n",
       "      <th>4</th>\n",
       "      <td>https://www.huffpost.com/entry/amy-cooper-lose...</td>\n",
       "      <td>Woman Who Called Cops On Black Bird-Watcher Lo...</td>\n",
       "      <td>U.S. NEWS</td>\n",
       "      <td>Amy Cooper accused investment firm Franklin Te...</td>\n",
       "      <td>Nina Golgowski</td>\n",
       "      <td>2022-09-22</td>\n",
       "    </tr>\n",
       "  </tbody>\n",
       "</table>\n",
       "</div>"
      ],
      "text/plain": [
       "                                                link  \\\n",
       "0  https://www.huffpost.com/entry/covid-boosters-...   \n",
       "1  https://www.huffpost.com/entry/american-airlin...   \n",
       "2  https://www.huffpost.com/entry/funniest-tweets...   \n",
       "3  https://www.huffpost.com/entry/funniest-parent...   \n",
       "4  https://www.huffpost.com/entry/amy-cooper-lose...   \n",
       "\n",
       "                                            headline   category  \\\n",
       "0  Over 4 Million Americans Roll Up Sleeves For O...  U.S. NEWS   \n",
       "1  American Airlines Flyer Charged, Banned For Li...  U.S. NEWS   \n",
       "2  23 Of The Funniest Tweets About Cats And Dogs ...     COMEDY   \n",
       "3  The Funniest Tweets From Parents This Week (Se...  PARENTING   \n",
       "4  Woman Who Called Cops On Black Bird-Watcher Lo...  U.S. NEWS   \n",
       "\n",
       "                                   short_description               authors  \\\n",
       "0  Health experts said it is too early to predict...  Carla K. Johnson, AP   \n",
       "1  He was subdued by passengers and crew when he ...        Mary Papenfuss   \n",
       "2  \"Until you have a dog you don't understand wha...         Elyse Wanshel   \n",
       "3  \"Accidentally put grown-up toothpaste on my to...      Caroline Bologna   \n",
       "4  Amy Cooper accused investment firm Franklin Te...        Nina Golgowski   \n",
       "\n",
       "        date  \n",
       "0 2022-09-23  \n",
       "1 2022-09-23  \n",
       "2 2022-09-23  \n",
       "3 2022-09-23  \n",
       "4 2022-09-22  "
      ]
     },
     "execution_count": 11,
     "metadata": {},
     "output_type": "execute_result"
    }
   ],
   "source": [
    "data_fram.head()"
   ]
  },
  {
   "cell_type": "code",
   "execution_count": 12,
   "id": "b9de3665",
   "metadata": {},
   "outputs": [
    {
     "data": {
      "text/plain": [
       "['POLITICS',\n",
       " 'WELLNESS',\n",
       " 'ENTERTAINMENT',\n",
       " 'TRAVEL',\n",
       " 'STYLE & BEAUTY',\n",
       " 'PARENTING',\n",
       " 'HEALTHY LIVING',\n",
       " 'QUEER VOICES',\n",
       " 'FOOD & DRINK',\n",
       " 'BUSINESS',\n",
       " 'COMEDY',\n",
       " 'SPORTS',\n",
       " 'BLACK VOICES',\n",
       " 'HOME & LIVING',\n",
       " 'PARENTS',\n",
       " 'THE WORLDPOST',\n",
       " 'WEDDINGS',\n",
       " 'WOMEN',\n",
       " 'CRIME',\n",
       " 'IMPACT',\n",
       " 'DIVORCE',\n",
       " 'WORLD NEWS',\n",
       " 'MEDIA',\n",
       " 'WEIRD NEWS',\n",
       " 'GREEN',\n",
       " 'WORLDPOST',\n",
       " 'RELIGION',\n",
       " 'STYLE',\n",
       " 'SCIENCE',\n",
       " 'TECH',\n",
       " 'TASTE',\n",
       " 'MONEY',\n",
       " 'ARTS',\n",
       " 'ENVIRONMENT',\n",
       " 'FIFTY',\n",
       " 'GOOD NEWS',\n",
       " 'U.S. NEWS',\n",
       " 'ARTS & CULTURE',\n",
       " 'COLLEGE',\n",
       " 'LATINO VOICES',\n",
       " 'CULTURE & ARTS',\n",
       " 'EDUCATION']"
      ]
     },
     "execution_count": 12,
     "metadata": {},
     "output_type": "execute_result"
    }
   ],
   "source": [
    "category_list = list(data_fram.category.value_counts().index) # Imbalance model is there So we have to handle the class imbalance \n",
    "category_list"
   ]
  },
  {
   "cell_type": "code",
   "execution_count": 13,
   "id": "0c1282e5",
   "metadata": {},
   "outputs": [],
   "source": [
    "min_splict = 1014 \n",
    "df_POLITICS\t\t       = data_fram[data_fram.category == 'POLITICS'      ].sample(min_splict,random_state = 1)                          \n",
    "df_WELLNESS            = data_fram[data_fram.category ==  'WELLNESS'     ].sample(min_splict,random_state = 1)                          \n",
    "df_ENTERTAINMENT       = data_fram[data_fram.category ==  'ENTERTAINMENT'].sample(min_splict,random_state = 1)                          \n",
    "df_TRAVEL              = data_fram[data_fram.category ==  'TRAVEL'       ].sample(min_splict,random_state = 1)                          \n",
    "df_STYLE__BEAUTY       = data_fram[data_fram.category ==  'STYLE & BEAUTY' ].sample(min_splict,random_state = 1)                        \n",
    "df_PARENTING           = data_fram[data_fram.category ==  'PARENTING'    ].sample(min_splict,random_state = 1)                          \n",
    "df_HEALTHY_LIVING      = data_fram[data_fram.category ==  'HEALTHY LIVING'].sample(min_splict,random_state = 1)                         \n",
    "df_QUEER_VOICES        = data_fram[data_fram.category ==  'QUEER VOICES' ].sample(min_splict,random_state = 1)                          \n",
    "df_FOOD_DRINK          = data_fram[data_fram.category =='FOOD & DRINK'   ].sample(min_splict,random_state = 1)                          \n",
    "df_BUSINESS            = data_fram[data_fram.category ==  'BUSINESS'     ].sample(min_splict,random_state = 1)                          \n",
    "df_COMEDY              = data_fram[data_fram.category ==  'COMEDY'       ].sample(min_splict,random_state = 1)                          \n",
    "df_SPORTS              = data_fram[data_fram.category ==  'SPORTS'       ].sample(min_splict,random_state = 1)                          \n",
    "df_BLACK_VOICES        = data_fram[data_fram.category ==  'BLACK VOICES' ].sample(min_splict,random_state = 1)                          \n",
    "df_HOME_LIVING         =   data_fram[data_fram.category =='HOME & LIVING'].sample(min_splict,random_state = 1)                            \n",
    "df_PARENTS             = data_fram[data_fram.category ==  'PARENTS'      ].sample(min_splict,random_state = 1)                          \n",
    "df_THE_WORLDPOST       = data_fram[data_fram.category ==  'THE WORLDPOST'].sample(min_splict,random_state = 1)                          \n",
    "df_WEDDINGS            = data_fram[data_fram.category ==  'WEDDINGS'     ].sample(min_splict,random_state = 1)                          \n",
    "df_WOMEN               = data_fram[data_fram.category ==  'WOMEN'        ].sample(min_splict,random_state = 1)                          \n",
    "df_CRIME               = data_fram[data_fram.category ==  'CRIME'        ].sample(min_splict,random_state = 1)                          \n",
    "df_IMPACT              = data_fram[data_fram.category ==  'IMPACT'       ].sample(min_splict,random_state = 1)                          \n",
    "df_DIVORCE             = data_fram[data_fram.category ==  'DIVORCE'      ].sample(min_splict,random_state = 1)                          \n",
    "df_WORLD_NEWS          = data_fram[data_fram.category ==  'WORLD NEWS'   ].sample(min_splict,random_state = 1)                          \n",
    "df_MEDIA               = data_fram[data_fram.category ==  'MEDIA'        ].sample(min_splict,random_state = 1)                          \n",
    "df_WEIRD_NEWS          = data_fram[data_fram.category ==  'WEIRD NEWS'   ].sample(min_splict,random_state = 1)                          \n",
    "df_GREEN               = data_fram[data_fram.category ==  'GREEN'        ].sample(min_splict,random_state = 1)                          \n",
    "df_WORLDPOST           = data_fram[data_fram.category ==  'WORLDPOST'    ].sample(min_splict,random_state = 1)                          \n",
    "df_RELIGION            = data_fram[data_fram.category ==  'RELIGION'     ].sample(min_splict,random_state = 1)                          \n",
    "df_STYLE               = data_fram[data_fram.category ==  'STYLE'        ].sample(min_splict,random_state = 1)                          \n",
    "df_SCIENCE             = data_fram[data_fram.category ==  'SCIENCE'      ].sample(min_splict,random_state = 1)                          \n",
    "df_TECH                = data_fram[data_fram.category ==  'TECH'         ].sample(min_splict,random_state = 1)                          \n",
    "df_TASTE               = data_fram[data_fram.category ==  'TASTE'        ].sample(min_splict,random_state = 1)                          \n",
    "df_MONEY               = data_fram[data_fram.category ==   'MONEY'        ].sample(min_splict,random_state = 1)                          \n",
    "df_ARTS                = data_fram[data_fram.category ==   'ARTS'         ].sample(min_splict,random_state = 1)                          \n",
    "df_ENVIRONMENT         = data_fram[data_fram.category ==   'ENVIRONMENT'  ].sample(min_splict,random_state = 1)                          \n",
    "df_FIFTY               = data_fram[data_fram.category ==   'FIFTY'        ].sample(min_splict,random_state = 1)                          \n",
    "df_GOOD_NEWS           = data_fram[data_fram.category ==   'GOOD NEWS'    ].sample(min_splict,random_state = 1)                          \n",
    "df_U_S_NEWS            = data_fram[data_fram.category ==   'U.S. NEWS'    ].sample(min_splict,random_state = 1)                          \n",
    "df_ARTS_CULTURE        = data_fram[data_fram.category ==   'ARTS & CULTURE'].sample(min_splict,random_state = 1)                         \n",
    "df_COLLEGE             = data_fram[data_fram.category ==   'COLLEGE'      ].sample(min_splict,random_state = 1)                          \n",
    "df_LATINO_VOICES       = data_fram[data_fram.category ==   'LATINO VOICES'].sample(min_splict,random_state = 1)                          \n",
    "df_CULTURE_ARTS        = data_fram[data_fram.category ==   'CULTURE & ARTS'].sample(min_splict,random_state = 1)                          \n",
    "df_EDUCATION           = data_fram[data_fram.category ==   'EDUCATION'    ] .sample(min_splict,random_state = 1)                         \n",
    "\n",
    "    "
   ]
  },
  {
   "cell_type": "code",
   "execution_count": 14,
   "id": "4f1f750e",
   "metadata": {},
   "outputs": [],
   "source": [
    "balance_df = pd.concat([\n",
    "    df_POLITICS\t\t  ,\n",
    "    df_WELLNESS       ,\n",
    "    df_ENTERTAINMENT  ,\n",
    "    df_TRAVEL         ,\n",
    "    df_STYLE__BEAUTY  ,\n",
    "    df_PARENTING      ,\n",
    "    df_HEALTHY_LIVING ,\n",
    "    df_QUEER_VOICES   ,\n",
    "    df_FOOD_DRINK     ,\n",
    "    df_BUSINESS       ,\n",
    "    df_COMEDY         ,\n",
    "    df_SPORTS         ,\n",
    "    df_BLACK_VOICES   ,\n",
    "    df_HOME_LIVING    ,\n",
    "    df_PARENTS        ,\n",
    "    df_THE_WORLDPOST  ,\n",
    "    df_WEDDINGS       ,\n",
    "    df_WOMEN          ,\n",
    "    df_CRIME          ,\n",
    "    df_IMPACT         ,\n",
    "    df_DIVORCE        ,\n",
    "    df_WORLD_NEWS     ,\n",
    "    df_MEDIA          ,\n",
    "    df_WEIRD_NEWS     ,\n",
    "    df_GREEN          ,\n",
    "    df_WORLDPOST      ,\n",
    "    df_RELIGION       ,\n",
    "    df_STYLE          ,\n",
    "    df_SCIENCE        ,\n",
    "    df_TECH           ,\n",
    "    df_TASTE          ,\n",
    "    df_MONEY          ,\n",
    "    df_ARTS           ,\n",
    "    df_ENVIRONMENT    ,\n",
    "    df_FIFTY          ,\n",
    "    df_GOOD_NEWS      ,\n",
    "    df_U_S_NEWS       ,\n",
    "    df_ARTS_CULTURE   ,\n",
    "    df_COLLEGE        ,\n",
    "    df_LATINO_VOICES  ,\n",
    "    df_CULTURE_ARTS   ,\n",
    "    df_EDUCATION ],axis = 0 )"
   ]
  },
  {
   "cell_type": "code",
   "execution_count": 15,
   "id": "2184932c",
   "metadata": {},
   "outputs": [],
   "source": [
    "category_into_integer = { }\n",
    "count = 1\n",
    "for cat in list(balance_df.category.value_counts().index):   \n",
    "    category_into_integer[cat] = count\n",
    "    count += 1 "
   ]
  },
  {
   "cell_type": "code",
   "execution_count": 16,
   "id": "101d483a",
   "metadata": {},
   "outputs": [],
   "source": [
    "balance_df['category_num'] = balance_df.category.map(category_into_integer)"
   ]
  },
  {
   "cell_type": "code",
   "execution_count": 17,
   "id": "3714fb0f",
   "metadata": {},
   "outputs": [],
   "source": [
    "data_fram['category_num'] = data_fram.category.map(category_into_integer)"
   ]
  },
  {
   "cell_type": "code",
   "execution_count": 18,
   "id": "751d12eb",
   "metadata": {},
   "outputs": [
    {
     "data": {
      "text/html": [
       "<div>\n",
       "<style scoped>\n",
       "    .dataframe tbody tr th:only-of-type {\n",
       "        vertical-align: middle;\n",
       "    }\n",
       "\n",
       "    .dataframe tbody tr th {\n",
       "        vertical-align: top;\n",
       "    }\n",
       "\n",
       "    .dataframe thead th {\n",
       "        text-align: right;\n",
       "    }\n",
       "</style>\n",
       "<table border=\"1\" class=\"dataframe\">\n",
       "  <thead>\n",
       "    <tr style=\"text-align: right;\">\n",
       "      <th></th>\n",
       "      <th>link</th>\n",
       "      <th>headline</th>\n",
       "      <th>category</th>\n",
       "      <th>short_description</th>\n",
       "      <th>authors</th>\n",
       "      <th>date</th>\n",
       "      <th>category_num</th>\n",
       "    </tr>\n",
       "  </thead>\n",
       "  <tbody>\n",
       "    <tr>\n",
       "      <th>46904</th>\n",
       "      <td>https://www.huffingtonpost.com/entry/house-gop...</td>\n",
       "      <td>House GOP Faceplant On Ethics Coup Shows Publi...</td>\n",
       "      <td>POLITICS</td>\n",
       "      <td>Public outrage blocked a secret, midnight effo...</td>\n",
       "      <td>Ryan Grim and Matt Fuller</td>\n",
       "      <td>2017-01-03</td>\n",
       "      <td>1</td>\n",
       "    </tr>\n",
       "    <tr>\n",
       "      <th>90109</th>\n",
       "      <td>https://www.huffingtonpost.com/entry/patrick-m...</td>\n",
       "      <td>Rep. Patrick Murphy Comes Out In Favor Of Iran...</td>\n",
       "      <td>POLITICS</td>\n",
       "      <td>Many other Florida Democrats remain undecided.</td>\n",
       "      <td>Amanda Terkel</td>\n",
       "      <td>2015-08-31</td>\n",
       "      <td>1</td>\n",
       "    </tr>\n",
       "    <tr>\n",
       "      <th>74422</th>\n",
       "      <td>https://www.huffingtonpost.com/entry/senators-...</td>\n",
       "      <td>Senators Strike Funding Deal To Help Flint Rep...</td>\n",
       "      <td>POLITICS</td>\n",
       "      <td>The measure was fast-tracked so a vote could c...</td>\n",
       "      <td>Laura Barrón-López</td>\n",
       "      <td>2016-02-24</td>\n",
       "      <td>1</td>\n",
       "    </tr>\n",
       "    <tr>\n",
       "      <th>13027</th>\n",
       "      <td>https://www.huffingtonpost.com/entry/wednesday...</td>\n",
       "      <td>Wednesday's Morning Email: Stormy Daniels Suin...</td>\n",
       "      <td>POLITICS</td>\n",
       "      <td>A porn star is suing the president; let that s...</td>\n",
       "      <td>Eliot Nelson</td>\n",
       "      <td>2018-03-07</td>\n",
       "      <td>1</td>\n",
       "    </tr>\n",
       "    <tr>\n",
       "      <th>57851</th>\n",
       "      <td>https://www.huffingtonpost.com/entry/lenore-an...</td>\n",
       "      <td>Crime Survivors Are Organizing. They Want Crim...</td>\n",
       "      <td>POLITICS</td>\n",
       "      <td>A troubled teen turned prosecutor is bringing ...</td>\n",
       "      <td>Nico Pitney</td>\n",
       "      <td>2016-08-31</td>\n",
       "      <td>1</td>\n",
       "    </tr>\n",
       "    <tr>\n",
       "      <th>...</th>\n",
       "      <td>...</td>\n",
       "      <td>...</td>\n",
       "      <td>...</td>\n",
       "      <td>...</td>\n",
       "      <td>...</td>\n",
       "      <td>...</td>\n",
       "      <td>...</td>\n",
       "    </tr>\n",
       "    <tr>\n",
       "      <th>116356</th>\n",
       "      <td>https://www.huffingtonpost.com/entry/where-all...</td>\n",
       "      <td>Where All the Teachers Are Above Aveage</td>\n",
       "      <td>EDUCATION</td>\n",
       "      <td>Unless we rethink administrative and teacher t...</td>\n",
       "      <td>Marc F. Bernstein, ContributorAdjunct faculty ...</td>\n",
       "      <td>2014-11-03</td>\n",
       "      <td>42</td>\n",
       "    </tr>\n",
       "    <tr>\n",
       "      <th>21257</th>\n",
       "      <td>https://www.huffingtonpost.com/entry/universit...</td>\n",
       "      <td>University Of Wisconsin-Inferior</td>\n",
       "      <td>EDUCATION</td>\n",
       "      <td>The University of Wisconsin-Superior became th...</td>\n",
       "      <td>John A. Tures, ContributorProfessor of Politic...</td>\n",
       "      <td>2017-11-03</td>\n",
       "      <td>42</td>\n",
       "    </tr>\n",
       "    <tr>\n",
       "      <th>126826</th>\n",
       "      <td>https://www.huffingtonpost.com/entry/new-sat_b...</td>\n",
       "      <td>What Do We Know About the New SAT?</td>\n",
       "      <td>EDUCATION</td>\n",
       "      <td>There is a perception that we don't yet know m...</td>\n",
       "      <td>Alex Mallory, ContributorFounder &amp; President, ...</td>\n",
       "      <td>2014-07-07</td>\n",
       "      <td>42</td>\n",
       "    </tr>\n",
       "    <tr>\n",
       "      <th>39251</th>\n",
       "      <td>https://www.huffingtonpost.com/entry/heartland...</td>\n",
       "      <td>Climate Change-Deniers 'Spam' Thousands Of Tea...</td>\n",
       "      <td>EDUCATION</td>\n",
       "      <td>\"After teaching about #climatechange all day, ...</td>\n",
       "      <td>Nick Visser</td>\n",
       "      <td>2017-03-30</td>\n",
       "      <td>42</td>\n",
       "    </tr>\n",
       "    <tr>\n",
       "      <th>14840</th>\n",
       "      <td>https://www.huffingtonpost.com/entry/homeless-...</td>\n",
       "      <td>Homeless Students, Destroyed Campuses, ‘Invisi...</td>\n",
       "      <td>EDUCATION</td>\n",
       "      <td>In Santa Barbara County, the fires and mudslid...</td>\n",
       "      <td>EdSource, Editorial Partner</td>\n",
       "      <td>2018-02-06</td>\n",
       "      <td>42</td>\n",
       "    </tr>\n",
       "  </tbody>\n",
       "</table>\n",
       "<p>42588 rows × 7 columns</p>\n",
       "</div>"
      ],
      "text/plain": [
       "                                                     link  \\\n",
       "46904   https://www.huffingtonpost.com/entry/house-gop...   \n",
       "90109   https://www.huffingtonpost.com/entry/patrick-m...   \n",
       "74422   https://www.huffingtonpost.com/entry/senators-...   \n",
       "13027   https://www.huffingtonpost.com/entry/wednesday...   \n",
       "57851   https://www.huffingtonpost.com/entry/lenore-an...   \n",
       "...                                                   ...   \n",
       "116356  https://www.huffingtonpost.com/entry/where-all...   \n",
       "21257   https://www.huffingtonpost.com/entry/universit...   \n",
       "126826  https://www.huffingtonpost.com/entry/new-sat_b...   \n",
       "39251   https://www.huffingtonpost.com/entry/heartland...   \n",
       "14840   https://www.huffingtonpost.com/entry/homeless-...   \n",
       "\n",
       "                                                 headline   category  \\\n",
       "46904   House GOP Faceplant On Ethics Coup Shows Publi...   POLITICS   \n",
       "90109   Rep. Patrick Murphy Comes Out In Favor Of Iran...   POLITICS   \n",
       "74422   Senators Strike Funding Deal To Help Flint Rep...   POLITICS   \n",
       "13027   Wednesday's Morning Email: Stormy Daniels Suin...   POLITICS   \n",
       "57851   Crime Survivors Are Organizing. They Want Crim...   POLITICS   \n",
       "...                                                   ...        ...   \n",
       "116356            Where All the Teachers Are Above Aveage  EDUCATION   \n",
       "21257                    University Of Wisconsin-Inferior  EDUCATION   \n",
       "126826                 What Do We Know About the New SAT?  EDUCATION   \n",
       "39251   Climate Change-Deniers 'Spam' Thousands Of Tea...  EDUCATION   \n",
       "14840   Homeless Students, Destroyed Campuses, ‘Invisi...  EDUCATION   \n",
       "\n",
       "                                        short_description  \\\n",
       "46904   Public outrage blocked a secret, midnight effo...   \n",
       "90109      Many other Florida Democrats remain undecided.   \n",
       "74422   The measure was fast-tracked so a vote could c...   \n",
       "13027   A porn star is suing the president; let that s...   \n",
       "57851   A troubled teen turned prosecutor is bringing ...   \n",
       "...                                                   ...   \n",
       "116356  Unless we rethink administrative and teacher t...   \n",
       "21257   The University of Wisconsin-Superior became th...   \n",
       "126826  There is a perception that we don't yet know m...   \n",
       "39251   \"After teaching about #climatechange all day, ...   \n",
       "14840   In Santa Barbara County, the fires and mudslid...   \n",
       "\n",
       "                                                  authors       date  \\\n",
       "46904                           Ryan Grim and Matt Fuller 2017-01-03   \n",
       "90109                                       Amanda Terkel 2015-08-31   \n",
       "74422                                  Laura Barrón-López 2016-02-24   \n",
       "13027                                        Eliot Nelson 2018-03-07   \n",
       "57851                                         Nico Pitney 2016-08-31   \n",
       "...                                                   ...        ...   \n",
       "116356  Marc F. Bernstein, ContributorAdjunct faculty ... 2014-11-03   \n",
       "21257   John A. Tures, ContributorProfessor of Politic... 2017-11-03   \n",
       "126826  Alex Mallory, ContributorFounder & President, ... 2014-07-07   \n",
       "39251                                         Nick Visser 2017-03-30   \n",
       "14840                         EdSource, Editorial Partner 2018-02-06   \n",
       "\n",
       "        category_num  \n",
       "46904              1  \n",
       "90109              1  \n",
       "74422              1  \n",
       "13027              1  \n",
       "57851              1  \n",
       "...              ...  \n",
       "116356            42  \n",
       "21257             42  \n",
       "126826            42  \n",
       "39251             42  \n",
       "14840             42  \n",
       "\n",
       "[42588 rows x 7 columns]"
      ]
     },
     "execution_count": 18,
     "metadata": {},
     "output_type": "execute_result"
    }
   ],
   "source": [
    "balance_df"
   ]
  },
  {
   "cell_type": "code",
   "execution_count": 19,
   "id": "7cf1be28",
   "metadata": {},
   "outputs": [],
   "source": [
    "X_train,X_test,y_train,y_test = train_test_split(balance_df.short_description,balance_df.category_num,\n",
    "                                                test_size=0.2,random_state=11,stratify=balance_df.category_num)"
   ]
  },
  {
   "cell_type": "code",
   "execution_count": 20,
   "id": "6953bd0e",
   "metadata": {},
   "outputs": [],
   "source": [
    "clf = Pipeline([\n",
    "    ('vectorizer_bow',CountVectorizer()),\n",
    "    ('multi NB', MultinomialNB())\n",
    "])\n"
   ]
  },
  {
   "cell_type": "code",
   "execution_count": 21,
   "id": "758299bd",
   "metadata": {},
   "outputs": [
    {
     "data": {
      "text/html": [
       "<style>#sk-container-id-3 {color: black;}#sk-container-id-3 pre{padding: 0;}#sk-container-id-3 div.sk-toggleable {background-color: white;}#sk-container-id-3 label.sk-toggleable__label {cursor: pointer;display: block;width: 100%;margin-bottom: 0;padding: 0.3em;box-sizing: border-box;text-align: center;}#sk-container-id-3 label.sk-toggleable__label-arrow:before {content: \"▸\";float: left;margin-right: 0.25em;color: #696969;}#sk-container-id-3 label.sk-toggleable__label-arrow:hover:before {color: black;}#sk-container-id-3 div.sk-estimator:hover label.sk-toggleable__label-arrow:before {color: black;}#sk-container-id-3 div.sk-toggleable__content {max-height: 0;max-width: 0;overflow: hidden;text-align: left;background-color: #f0f8ff;}#sk-container-id-3 div.sk-toggleable__content pre {margin: 0.2em;color: black;border-radius: 0.25em;background-color: #f0f8ff;}#sk-container-id-3 input.sk-toggleable__control:checked~div.sk-toggleable__content {max-height: 200px;max-width: 100%;overflow: auto;}#sk-container-id-3 input.sk-toggleable__control:checked~label.sk-toggleable__label-arrow:before {content: \"▾\";}#sk-container-id-3 div.sk-estimator input.sk-toggleable__control:checked~label.sk-toggleable__label {background-color: #d4ebff;}#sk-container-id-3 div.sk-label input.sk-toggleable__control:checked~label.sk-toggleable__label {background-color: #d4ebff;}#sk-container-id-3 input.sk-hidden--visually {border: 0;clip: rect(1px 1px 1px 1px);clip: rect(1px, 1px, 1px, 1px);height: 1px;margin: -1px;overflow: hidden;padding: 0;position: absolute;width: 1px;}#sk-container-id-3 div.sk-estimator {font-family: monospace;background-color: #f0f8ff;border: 1px dotted black;border-radius: 0.25em;box-sizing: border-box;margin-bottom: 0.5em;}#sk-container-id-3 div.sk-estimator:hover {background-color: #d4ebff;}#sk-container-id-3 div.sk-parallel-item::after {content: \"\";width: 100%;border-bottom: 1px solid gray;flex-grow: 1;}#sk-container-id-3 div.sk-label:hover label.sk-toggleable__label {background-color: #d4ebff;}#sk-container-id-3 div.sk-serial::before {content: \"\";position: absolute;border-left: 1px solid gray;box-sizing: border-box;top: 0;bottom: 0;left: 50%;z-index: 0;}#sk-container-id-3 div.sk-serial {display: flex;flex-direction: column;align-items: center;background-color: white;padding-right: 0.2em;padding-left: 0.2em;position: relative;}#sk-container-id-3 div.sk-item {position: relative;z-index: 1;}#sk-container-id-3 div.sk-parallel {display: flex;align-items: stretch;justify-content: center;background-color: white;position: relative;}#sk-container-id-3 div.sk-item::before, #sk-container-id-3 div.sk-parallel-item::before {content: \"\";position: absolute;border-left: 1px solid gray;box-sizing: border-box;top: 0;bottom: 0;left: 50%;z-index: -1;}#sk-container-id-3 div.sk-parallel-item {display: flex;flex-direction: column;z-index: 1;position: relative;background-color: white;}#sk-container-id-3 div.sk-parallel-item:first-child::after {align-self: flex-end;width: 50%;}#sk-container-id-3 div.sk-parallel-item:last-child::after {align-self: flex-start;width: 50%;}#sk-container-id-3 div.sk-parallel-item:only-child::after {width: 0;}#sk-container-id-3 div.sk-dashed-wrapped {border: 1px dashed gray;margin: 0 0.4em 0.5em 0.4em;box-sizing: border-box;padding-bottom: 0.4em;background-color: white;}#sk-container-id-3 div.sk-label label {font-family: monospace;font-weight: bold;display: inline-block;line-height: 1.2em;}#sk-container-id-3 div.sk-label-container {text-align: center;}#sk-container-id-3 div.sk-container {/* jupyter's `normalize.less` sets `[hidden] { display: none; }` but bootstrap.min.css set `[hidden] { display: none !important; }` so we also need the `!important` here to be able to override the default hidden behavior on the sphinx rendered scikit-learn.org. See: https://github.com/scikit-learn/scikit-learn/issues/21755 */display: inline-block !important;position: relative;}#sk-container-id-3 div.sk-text-repr-fallback {display: none;}</style><div id=\"sk-container-id-3\" class=\"sk-top-container\"><div class=\"sk-text-repr-fallback\"><pre>Pipeline(steps=[(&#x27;vectorizer_bow&#x27;, CountVectorizer()),\n",
       "                (&#x27;multi NB&#x27;, MultinomialNB())])</pre><b>In a Jupyter environment, please rerun this cell to show the HTML representation or trust the notebook. <br />On GitHub, the HTML representation is unable to render, please try loading this page with nbviewer.org.</b></div><div class=\"sk-container\" hidden><div class=\"sk-item sk-dashed-wrapped\"><div class=\"sk-label-container\"><div class=\"sk-label sk-toggleable\"><input class=\"sk-toggleable__control sk-hidden--visually\" id=\"sk-estimator-id-3\" type=\"checkbox\" ><label for=\"sk-estimator-id-3\" class=\"sk-toggleable__label sk-toggleable__label-arrow\">Pipeline</label><div class=\"sk-toggleable__content\"><pre>Pipeline(steps=[(&#x27;vectorizer_bow&#x27;, CountVectorizer()),\n",
       "                (&#x27;multi NB&#x27;, MultinomialNB())])</pre></div></div></div><div class=\"sk-serial\"><div class=\"sk-item\"><div class=\"sk-estimator sk-toggleable\"><input class=\"sk-toggleable__control sk-hidden--visually\" id=\"sk-estimator-id-4\" type=\"checkbox\" ><label for=\"sk-estimator-id-4\" class=\"sk-toggleable__label sk-toggleable__label-arrow\">CountVectorizer</label><div class=\"sk-toggleable__content\"><pre>CountVectorizer()</pre></div></div></div><div class=\"sk-item\"><div class=\"sk-estimator sk-toggleable\"><input class=\"sk-toggleable__control sk-hidden--visually\" id=\"sk-estimator-id-5\" type=\"checkbox\" ><label for=\"sk-estimator-id-5\" class=\"sk-toggleable__label sk-toggleable__label-arrow\">MultinomialNB</label><div class=\"sk-toggleable__content\"><pre>MultinomialNB()</pre></div></div></div></div></div></div></div>"
      ],
      "text/plain": [
       "Pipeline(steps=[('vectorizer_bow', CountVectorizer()),\n",
       "                ('multi NB', MultinomialNB())])"
      ]
     },
     "execution_count": 21,
     "metadata": {},
     "output_type": "execute_result"
    }
   ],
   "source": [
    "clf.fit(X_train,y_train)"
   ]
  },
  {
   "cell_type": "code",
   "execution_count": 22,
   "id": "1290224e",
   "metadata": {},
   "outputs": [],
   "source": [
    "y_pred = clf.predict(X_test)"
   ]
  },
  {
   "cell_type": "code",
   "execution_count": 23,
   "id": "0ff95af8",
   "metadata": {},
   "outputs": [
    {
     "name": "stdout",
     "output_type": "stream",
     "text": [
      "              precision    recall  f1-score   support\n",
      "\n",
      "           1       0.31      0.16      0.21       203\n",
      "           2       0.29      0.58      0.39       203\n",
      "           3       0.75      0.01      0.03       203\n",
      "           4       0.31      0.11      0.17       203\n",
      "           5       0.27      0.31      0.29       203\n",
      "           6       0.48      0.14      0.21       203\n",
      "           7       0.31      0.02      0.04       203\n",
      "           8       0.63      0.13      0.21       203\n",
      "           9       0.05      0.26      0.08       202\n",
      "          10       0.40      0.09      0.15       202\n",
      "          11       0.22      0.10      0.14       203\n",
      "          12       0.16      0.57      0.25       203\n",
      "          13       0.32      0.34      0.33       203\n",
      "          14       0.07      0.50      0.12       203\n",
      "          15       0.43      0.01      0.03       203\n",
      "          16       0.27      0.41      0.33       203\n",
      "          17       0.80      0.04      0.08       203\n",
      "          18       0.33      0.15      0.20       203\n",
      "          19       0.56      0.13      0.22       203\n",
      "          20       0.28      0.38      0.32       203\n",
      "          21       0.49      0.16      0.25       202\n",
      "          22       0.46      0.30      0.36       202\n",
      "          23       0.47      0.45      0.46       202\n",
      "          24       0.15      0.23      0.19       202\n",
      "          25       0.50      0.03      0.06       203\n",
      "          26       0.35      0.44      0.39       203\n",
      "          27       0.45      0.41      0.43       203\n",
      "          28       0.16      0.50      0.25       203\n",
      "          29       0.36      0.02      0.04       203\n",
      "          30       0.53      0.19      0.28       202\n",
      "          31       0.35      0.27      0.31       203\n",
      "          32       0.17      0.06      0.09       203\n",
      "          33       0.43      0.04      0.08       203\n",
      "          34       0.53      0.10      0.17       203\n",
      "          35       0.30      0.11      0.16       203\n",
      "          36       0.56      0.29      0.38       203\n",
      "          37       0.16      0.02      0.04       203\n",
      "          38       0.45      0.12      0.19       203\n",
      "          39       0.43      0.59      0.50       203\n",
      "          40       0.23      0.07      0.11       203\n",
      "          41       0.43      0.23      0.30       203\n",
      "          42       0.26      0.50      0.35       202\n",
      "\n",
      "    accuracy                           0.23      8518\n",
      "   macro avg       0.37      0.23      0.22      8518\n",
      "weighted avg       0.37      0.23      0.22      8518\n",
      "\n"
     ]
    }
   ],
   "source": [
    "print(classification_report(y_test,y_pred))"
   ]
  },
  {
   "cell_type": "code",
   "execution_count": 24,
   "id": "ae0e2e3b",
   "metadata": {},
   "outputs": [
    {
     "data": {
      "text/plain": [
       "94479      9\n",
       "84583     38\n",
       "130285    29\n",
       "75239     37\n",
       "57604     30\n",
       "Name: category_num, dtype: int64"
      ]
     },
     "execution_count": 24,
     "metadata": {},
     "output_type": "execute_result"
    }
   ],
   "source": [
    "y_test.head()"
   ]
  },
  {
   "cell_type": "code",
   "execution_count": 25,
   "id": "67078ab3",
   "metadata": {},
   "outputs": [
    {
     "data": {
      "text/plain": [
       "array([32, 38,  2, 28, 36], dtype=int64)"
      ]
     },
     "execution_count": 25,
     "metadata": {},
     "output_type": "execute_result"
    }
   ],
   "source": [
    "y_pred[:5] "
   ]
  },
  {
   "cell_type": "code",
   "execution_count": null,
   "id": "d268a2fb",
   "metadata": {},
   "outputs": [],
   "source": [
    "data_fram_remove_stop = data_fram['short_description'].apply(preprocess)"
   ]
  },
  {
   "cell_type": "code",
   "execution_count": 26,
   "id": "bd8aec19",
   "metadata": {},
   "outputs": [],
   "source": [
    "X_train,X_test,y_train,y_test = train_test_split(data_fram.short_description,data_fram.category_num,test_size=0.2,random_state=13)"
   ]
  },
  {
   "cell_type": "code",
   "execution_count": 27,
   "id": "bf51c8f1",
   "metadata": {},
   "outputs": [
    {
     "data": {
      "text/html": [
       "<style>#sk-container-id-4 {color: black;}#sk-container-id-4 pre{padding: 0;}#sk-container-id-4 div.sk-toggleable {background-color: white;}#sk-container-id-4 label.sk-toggleable__label {cursor: pointer;display: block;width: 100%;margin-bottom: 0;padding: 0.3em;box-sizing: border-box;text-align: center;}#sk-container-id-4 label.sk-toggleable__label-arrow:before {content: \"▸\";float: left;margin-right: 0.25em;color: #696969;}#sk-container-id-4 label.sk-toggleable__label-arrow:hover:before {color: black;}#sk-container-id-4 div.sk-estimator:hover label.sk-toggleable__label-arrow:before {color: black;}#sk-container-id-4 div.sk-toggleable__content {max-height: 0;max-width: 0;overflow: hidden;text-align: left;background-color: #f0f8ff;}#sk-container-id-4 div.sk-toggleable__content pre {margin: 0.2em;color: black;border-radius: 0.25em;background-color: #f0f8ff;}#sk-container-id-4 input.sk-toggleable__control:checked~div.sk-toggleable__content {max-height: 200px;max-width: 100%;overflow: auto;}#sk-container-id-4 input.sk-toggleable__control:checked~label.sk-toggleable__label-arrow:before {content: \"▾\";}#sk-container-id-4 div.sk-estimator input.sk-toggleable__control:checked~label.sk-toggleable__label {background-color: #d4ebff;}#sk-container-id-4 div.sk-label input.sk-toggleable__control:checked~label.sk-toggleable__label {background-color: #d4ebff;}#sk-container-id-4 input.sk-hidden--visually {border: 0;clip: rect(1px 1px 1px 1px);clip: rect(1px, 1px, 1px, 1px);height: 1px;margin: -1px;overflow: hidden;padding: 0;position: absolute;width: 1px;}#sk-container-id-4 div.sk-estimator {font-family: monospace;background-color: #f0f8ff;border: 1px dotted black;border-radius: 0.25em;box-sizing: border-box;margin-bottom: 0.5em;}#sk-container-id-4 div.sk-estimator:hover {background-color: #d4ebff;}#sk-container-id-4 div.sk-parallel-item::after {content: \"\";width: 100%;border-bottom: 1px solid gray;flex-grow: 1;}#sk-container-id-4 div.sk-label:hover label.sk-toggleable__label {background-color: #d4ebff;}#sk-container-id-4 div.sk-serial::before {content: \"\";position: absolute;border-left: 1px solid gray;box-sizing: border-box;top: 0;bottom: 0;left: 50%;z-index: 0;}#sk-container-id-4 div.sk-serial {display: flex;flex-direction: column;align-items: center;background-color: white;padding-right: 0.2em;padding-left: 0.2em;position: relative;}#sk-container-id-4 div.sk-item {position: relative;z-index: 1;}#sk-container-id-4 div.sk-parallel {display: flex;align-items: stretch;justify-content: center;background-color: white;position: relative;}#sk-container-id-4 div.sk-item::before, #sk-container-id-4 div.sk-parallel-item::before {content: \"\";position: absolute;border-left: 1px solid gray;box-sizing: border-box;top: 0;bottom: 0;left: 50%;z-index: -1;}#sk-container-id-4 div.sk-parallel-item {display: flex;flex-direction: column;z-index: 1;position: relative;background-color: white;}#sk-container-id-4 div.sk-parallel-item:first-child::after {align-self: flex-end;width: 50%;}#sk-container-id-4 div.sk-parallel-item:last-child::after {align-self: flex-start;width: 50%;}#sk-container-id-4 div.sk-parallel-item:only-child::after {width: 0;}#sk-container-id-4 div.sk-dashed-wrapped {border: 1px dashed gray;margin: 0 0.4em 0.5em 0.4em;box-sizing: border-box;padding-bottom: 0.4em;background-color: white;}#sk-container-id-4 div.sk-label label {font-family: monospace;font-weight: bold;display: inline-block;line-height: 1.2em;}#sk-container-id-4 div.sk-label-container {text-align: center;}#sk-container-id-4 div.sk-container {/* jupyter's `normalize.less` sets `[hidden] { display: none; }` but bootstrap.min.css set `[hidden] { display: none !important; }` so we also need the `!important` here to be able to override the default hidden behavior on the sphinx rendered scikit-learn.org. See: https://github.com/scikit-learn/scikit-learn/issues/21755 */display: inline-block !important;position: relative;}#sk-container-id-4 div.sk-text-repr-fallback {display: none;}</style><div id=\"sk-container-id-4\" class=\"sk-top-container\"><div class=\"sk-text-repr-fallback\"><pre>Pipeline(steps=[(&#x27;vectorizer_bow&#x27;, CountVectorizer()),\n",
       "                (&#x27;multi NB&#x27;, MultinomialNB())])</pre><b>In a Jupyter environment, please rerun this cell to show the HTML representation or trust the notebook. <br />On GitHub, the HTML representation is unable to render, please try loading this page with nbviewer.org.</b></div><div class=\"sk-container\" hidden><div class=\"sk-item sk-dashed-wrapped\"><div class=\"sk-label-container\"><div class=\"sk-label sk-toggleable\"><input class=\"sk-toggleable__control sk-hidden--visually\" id=\"sk-estimator-id-6\" type=\"checkbox\" ><label for=\"sk-estimator-id-6\" class=\"sk-toggleable__label sk-toggleable__label-arrow\">Pipeline</label><div class=\"sk-toggleable__content\"><pre>Pipeline(steps=[(&#x27;vectorizer_bow&#x27;, CountVectorizer()),\n",
       "                (&#x27;multi NB&#x27;, MultinomialNB())])</pre></div></div></div><div class=\"sk-serial\"><div class=\"sk-item\"><div class=\"sk-estimator sk-toggleable\"><input class=\"sk-toggleable__control sk-hidden--visually\" id=\"sk-estimator-id-7\" type=\"checkbox\" ><label for=\"sk-estimator-id-7\" class=\"sk-toggleable__label sk-toggleable__label-arrow\">CountVectorizer</label><div class=\"sk-toggleable__content\"><pre>CountVectorizer()</pre></div></div></div><div class=\"sk-item\"><div class=\"sk-estimator sk-toggleable\"><input class=\"sk-toggleable__control sk-hidden--visually\" id=\"sk-estimator-id-8\" type=\"checkbox\" ><label for=\"sk-estimator-id-8\" class=\"sk-toggleable__label sk-toggleable__label-arrow\">MultinomialNB</label><div class=\"sk-toggleable__content\"><pre>MultinomialNB()</pre></div></div></div></div></div></div></div>"
      ],
      "text/plain": [
       "Pipeline(steps=[('vectorizer_bow', CountVectorizer()),\n",
       "                ('multi NB', MultinomialNB())])"
      ]
     },
     "execution_count": 27,
     "metadata": {},
     "output_type": "execute_result"
    }
   ],
   "source": [
    "clf.fit(X_train,y_train)"
   ]
  },
  {
   "cell_type": "code",
   "execution_count": 28,
   "id": "dcf57d0f",
   "metadata": {},
   "outputs": [],
   "source": [
    "y_pred = clf.predict(X_test)"
   ]
  },
  {
   "cell_type": "code",
   "execution_count": 29,
   "id": "45d3014d",
   "metadata": {},
   "outputs": [
    {
     "name": "stdout",
     "output_type": "stream",
     "text": [
      "              precision    recall  f1-score   support\n",
      "\n",
      "           1       0.37      0.87      0.52      7062\n",
      "           2       0.25      0.00      0.01       302\n",
      "           3       0.67      0.00      0.01       573\n",
      "           4       0.31      0.02      0.03       533\n",
      "           5       0.16      0.01      0.01       495\n",
      "           6       0.75      0.04      0.07       507\n",
      "           7       0.25      0.00      0.01       471\n",
      "           8       0.80      0.04      0.08       464\n",
      "           9       0.73      0.02      0.04       427\n",
      "          10       0.00      0.00      0.00       407\n",
      "          11       0.00      0.00      0.00       307\n",
      "          12       0.30      0.85      0.44      3634\n",
      "          13       0.75      0.01      0.02       273\n",
      "          14       0.00      0.00      0.00       279\n",
      "          15       0.00      0.00      0.00       262\n",
      "          16       0.00      0.00      0.00       262\n",
      "          17       0.00      0.00      0.00       264\n",
      "          18       0.00      0.00      0.00       238\n",
      "          19       0.00      0.00      0.00       227\n",
      "          20       1.00      0.02      0.04       241\n",
      "          21       0.75      0.01      0.03       621\n",
      "          22       0.51      0.06      0.12       648\n",
      "          23       0.88      0.21      0.34       667\n",
      "          24       0.34      0.02      0.05       704\n",
      "          25       0.39      0.43      0.41      3529\n",
      "          26       0.45      0.63      0.53      1973\n",
      "          27       0.56      0.67      0.61      1960\n",
      "          28       0.32      0.51      0.39      1801\n",
      "          29       0.35      0.01      0.02      1307\n",
      "          30       0.67      0.14      0.23      1282\n",
      "          31       0.56      0.41      0.48      1216\n",
      "          32       0.38      0.15      0.21      1153\n",
      "          33       0.60      0.02      0.04      1123\n",
      "          34       0.75      0.16      0.27      1006\n",
      "          35       0.43      0.02      0.04       888\n",
      "          36       0.78      0.18      0.29       864\n",
      "          37       0.50      0.01      0.02       846\n",
      "          38       0.63      0.09      0.15       729\n",
      "          39       0.84      0.27      0.41       764\n",
      "          40       0.67      0.02      0.04       694\n",
      "          41       0.42      0.10      0.16       705\n",
      "          42       0.00      0.00      0.00       198\n",
      "\n",
      "    accuracy                           0.38     41906\n",
      "   macro avg       0.43      0.14      0.15     41906\n",
      "weighted avg       0.45      0.38      0.30     41906\n",
      "\n"
     ]
    },
    {
     "name": "stderr",
     "output_type": "stream",
     "text": [
      "C:\\Users\\pbandi\\AppData\\Local\\anaconda3\\Lib\\site-packages\\sklearn\\metrics\\_classification.py:1469: UndefinedMetricWarning: Precision and F-score are ill-defined and being set to 0.0 in labels with no predicted samples. Use `zero_division` parameter to control this behavior.\n",
      "  _warn_prf(average, modifier, msg_start, len(result))\n",
      "C:\\Users\\pbandi\\AppData\\Local\\anaconda3\\Lib\\site-packages\\sklearn\\metrics\\_classification.py:1469: UndefinedMetricWarning: Precision and F-score are ill-defined and being set to 0.0 in labels with no predicted samples. Use `zero_division` parameter to control this behavior.\n",
      "  _warn_prf(average, modifier, msg_start, len(result))\n",
      "C:\\Users\\pbandi\\AppData\\Local\\anaconda3\\Lib\\site-packages\\sklearn\\metrics\\_classification.py:1469: UndefinedMetricWarning: Precision and F-score are ill-defined and being set to 0.0 in labels with no predicted samples. Use `zero_division` parameter to control this behavior.\n",
      "  _warn_prf(average, modifier, msg_start, len(result))\n"
     ]
    }
   ],
   "source": [
    "print(classification_report(y_test,y_pred)) # it was giving the 40 % Accuracy Bez of the Class imbalance and lots of data "
   ]
  },
  {
   "cell_type": "code",
   "execution_count": 30,
   "id": "e8504fec",
   "metadata": {},
   "outputs": [
    {
     "data": {
      "text/plain": [
       "array([12,  1,  1,  1, 25], dtype=int64)"
      ]
     },
     "execution_count": 30,
     "metadata": {},
     "output_type": "execute_result"
    }
   ],
   "source": [
    "y_pred[0:5]"
   ]
  },
  {
   "cell_type": "code",
   "execution_count": 31,
   "id": "a62095e8",
   "metadata": {},
   "outputs": [
    {
     "data": {
      "text/plain": [
       "161307    12\n",
       "9308       1\n",
       "34846     33\n",
       "98126     29\n",
       "159214    27\n",
       "Name: category_num, dtype: int64"
      ]
     },
     "execution_count": 31,
     "metadata": {},
     "output_type": "execute_result"
    }
   ],
   "source": [
    "y_test.head()"
   ]
  }
 ],
 "metadata": {
  "kernelspec": {
   "display_name": "Python 3 (ipykernel)",
   "language": "python",
   "name": "python3"
  },
  "language_info": {
   "codemirror_mode": {
    "name": "ipython",
    "version": 3
   },
   "file_extension": ".py",
   "mimetype": "text/x-python",
   "name": "python",
   "nbconvert_exporter": "python",
   "pygments_lexer": "ipython3",
   "version": "3.11.5"
  }
 },
 "nbformat": 4,
 "nbformat_minor": 5
}
