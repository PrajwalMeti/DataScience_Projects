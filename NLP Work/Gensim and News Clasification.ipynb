{
 "cells": [
  {
   "cell_type": "code",
   "execution_count": 12,
   "id": "265c35fd",
   "metadata": {},
   "outputs": [],
   "source": [
    "# Gensim : it was manily used for the topic modeling \n",
    "import gensim.downloader as api\n",
    "wv = api.load('word2vec-google-news-300')\n"
   ]
  },
  {
   "cell_type": "code",
   "execution_count": 28,
   "id": "f6d06b01",
   "metadata": {},
   "outputs": [],
   "source": [
    "import pandas as pd \n",
    "import spacy\n",
    "import numpy as np "
   ]
  },
  {
   "cell_type": "code",
   "execution_count": 23,
   "id": "5538a8f8",
   "metadata": {},
   "outputs": [],
   "source": [
    "nlp = spacy.load('en_core_web_lg')"
   ]
  },
  {
   "cell_type": "code",
   "execution_count": 3,
   "id": "807dd06b",
   "metadata": {},
   "outputs": [
    {
     "data": {
      "text/plain": [
       "0.72915095"
      ]
     },
     "execution_count": 3,
     "metadata": {},
     "output_type": "execute_result"
    }
   ],
   "source": [
    "wv.similarity(w1 = 'great',w2 = 'good')"
   ]
  },
  {
   "cell_type": "code",
   "execution_count": 5,
   "id": "ccb07dd0",
   "metadata": {},
   "outputs": [
    {
     "data": {
      "text/plain": [
       "[('sunlight', 0.7269680500030518),\n",
       " ('sun_rays', 0.6871297359466553),\n",
       " ('sunshine', 0.6767959594726562),\n",
       " ('sunrays', 0.6644462943077087),\n",
       " ('noonday_sun', 0.6227595806121826),\n",
       " ('rays', 0.601547360420227),\n",
       " ('suns_rays', 0.5943776369094849),\n",
       " ('dried_tomato_basil', 0.5823873281478882),\n",
       " ('sun_shining', 0.5802728533744812),\n",
       " ('UV_rays', 0.5749224424362183)]"
      ]
     },
     "execution_count": 5,
     "metadata": {},
     "output_type": "execute_result"
    }
   ],
   "source": [
    "wv.most_similar('sun')"
   ]
  },
  {
   "cell_type": "code",
   "execution_count": 6,
   "id": "71b0d4bb",
   "metadata": {},
   "outputs": [
    {
     "data": {
      "text/plain": [
       "[('germany', 0.593407928943634),\n",
       " ('denmark', 0.58902907371521),\n",
       " ('fred', 0.5767714977264404),\n",
       " ('pittsburgh', 0.5716613531112671),\n",
       " ('dunn', 0.5666830539703369),\n",
       " ('ghana', 0.5612533688545227),\n",
       " ('san_jose', 0.5583570003509521),\n",
       " ('usa', 0.558014452457428),\n",
       " ('serbia', 0.5556535720825195),\n",
       " ('michigan', 0.5544894933700562)]"
      ]
     },
     "execution_count": 6,
     "metadata": {},
     "output_type": "execute_result"
    }
   ],
   "source": [
    "wv.most_similar(positive = ['france','berlin'],negative = ['Paris'])"
   ]
  },
  {
   "cell_type": "code",
   "execution_count": 7,
   "id": "38c1bd06",
   "metadata": {},
   "outputs": [
    {
     "data": {
      "text/plain": [
       "[('Women', 0.4342653453350067),\n",
       " ('Al_Anqari', 0.41412702202796936),\n",
       " (\"Women's\", 0.3926061689853668),\n",
       " ('womens', 0.3885403871536255),\n",
       " ('Pink_Ribbons', 0.3814578950405121),\n",
       " ('M._Bulik', 0.38015216588974),\n",
       " ('gender_equality', 0.3768146336078644),\n",
       " ('Peter_Braude', 0.37646719813346863),\n",
       " ('male_counterparts', 0.36848175525665283),\n",
       " ('Elavsky', 0.36723071336746216)]"
      ]
     },
     "execution_count": 7,
     "metadata": {},
     "output_type": "execute_result"
    }
   ],
   "source": [
    "wv.most_similar(positive= ['King','women'],negative = ['man'])"
   ]
  },
  {
   "cell_type": "code",
   "execution_count": 8,
   "id": "f29348fd",
   "metadata": {},
   "outputs": [
    {
     "data": {
      "text/plain": [
       "'Cat'"
      ]
     },
     "execution_count": 8,
     "metadata": {},
     "output_type": "execute_result"
    }
   ],
   "source": [
    "wv.doesnt_match(['Apple','Google','Cat','Semsung'])"
   ]
  },
  {
   "cell_type": "code",
   "execution_count": 10,
   "id": "1a4ad49e",
   "metadata": {},
   "outputs": [
    {
     "data": {
      "text/plain": [
       "'Infor'"
      ]
     },
     "execution_count": 10,
     "metadata": {},
     "output_type": "execute_result"
    }
   ],
   "source": [
    "wv.doesnt_match(['Infor','Apple','Google'])"
   ]
  },
  {
   "cell_type": "code",
   "execution_count": 11,
   "id": "e05cb856",
   "metadata": {},
   "outputs": [
    {
     "name": "stdout",
     "output_type": "stream",
     "text": [
      "[==================================================] 100.0% 104.8/104.8MB downloaded\n"
     ]
    }
   ],
   "source": [
    "glv = api.load('glove-twitter-25')"
   ]
  },
  {
   "cell_type": "code",
   "execution_count": 14,
   "id": "8bbf3c24",
   "metadata": {},
   "outputs": [],
   "source": [
    "df = pd.read_csv('news.csv')"
   ]
  },
  {
   "cell_type": "code",
   "execution_count": 16,
   "id": "7a5ddd9d",
   "metadata": {},
   "outputs": [],
   "source": [
    "df.drop(columns = ['Unnamed: 0','title'],inplace = True)"
   ]
  },
  {
   "cell_type": "code",
   "execution_count": 19,
   "id": "9d141dca",
   "metadata": {},
   "outputs": [],
   "source": [
    "df['Label_Num'] = df.label.map({'FAKE':0,'REAL':1})"
   ]
  },
  {
   "cell_type": "code",
   "execution_count": 21,
   "id": "fe020c93",
   "metadata": {},
   "outputs": [],
   "source": [
    "df.drop(columns = ['label'],inplace = True)"
   ]
  },
  {
   "cell_type": "code",
   "execution_count": 26,
   "id": "22505a0c",
   "metadata": {},
   "outputs": [],
   "source": [
    "def preprocesser_and_vectorizer(text):\n",
    "    doc = nlp(text)\n",
    "    filtered_tokens =[]\n",
    "    for token in doc:\n",
    "        if token.is_punct or token.is_stop:\n",
    "            continue\n",
    "        filtered_tokens.append(token.lemma_)\n",
    "    \n",
    "    return filtered_tokens"
   ]
  },
  {
   "cell_type": "code",
   "execution_count": 27,
   "id": "c026f948",
   "metadata": {},
   "outputs": [
    {
     "data": {
      "text/plain": [
       "['don\"t', 'worry', 'leave']"
      ]
     },
     "execution_count": 27,
     "metadata": {},
     "output_type": "execute_result"
    }
   ],
   "source": [
    "preprocesser_and_vectorizer('Don\"t worry if she left you')"
   ]
  },
  {
   "cell_type": "code",
   "execution_count": null,
   "id": "ea009d3e",
   "metadata": {},
   "outputs": [],
   "source": [
    "df['Vector'] = df['text'].apply(lambda text:preprocesser_and_vectorizer(text))"
   ]
  },
  {
   "cell_type": "code",
   "execution_count": null,
   "id": "1600fd12",
   "metadata": {},
   "outputs": [],
   "source": []
  }
 ],
 "metadata": {
  "kernelspec": {
   "display_name": "Python 3 (ipykernel)",
   "language": "python",
   "name": "python3"
  },
  "language_info": {
   "codemirror_mode": {
    "name": "ipython",
    "version": 3
   },
   "file_extension": ".py",
   "mimetype": "text/x-python",
   "name": "python",
   "nbconvert_exporter": "python",
   "pygments_lexer": "ipython3",
   "version": "3.11.5"
  }
 },
 "nbformat": 4,
 "nbformat_minor": 5
}
