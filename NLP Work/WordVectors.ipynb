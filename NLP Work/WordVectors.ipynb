{
 "cells": [
  {
   "cell_type": "code",
   "execution_count": 13,
   "id": "45edcc65",
   "metadata": {},
   "outputs": [],
   "source": [
    "import spacy \n",
    "nlp = spacy.load('en_core_web_sm')"
   ]
  },
  {
   "cell_type": "code",
   "execution_count": 18,
   "id": "739eb8e8",
   "metadata": {},
   "outputs": [
    {
     "data": {
      "text/plain": [
       "(96,)"
      ]
     },
     "execution_count": 18,
     "metadata": {},
     "output_type": "execute_result"
    }
   ],
   "source": [
    "base_token = nlp('bread')\n",
    "base_token.vector.shape"
   ]
  },
  {
   "cell_type": "code",
   "execution_count": 19,
   "id": "51e018af",
   "metadata": {},
   "outputs": [
    {
     "name": "stdout",
     "output_type": "stream",
     "text": [
      "bread --> bread:0.37433167245838256\n",
      "car --> bread:0.21281879697819625\n",
      "bus --> bread:0.2870086884652354\n",
      "jamoon --> bread:0.3462321108762837\n",
      "tiger --> bread:0.36882696158153966\n",
      "lion --> bread:0.33732560061533295\n",
      "school --> bread:0.4947886087676996\n"
     ]
    },
    {
     "name": "stderr",
     "output_type": "stream",
     "text": [
      "C:\\Users\\pbandi\\AppData\\Local\\Temp\\ipykernel_8996\\1564945004.py:3: UserWarning: [W007] The model you're using has no word vectors loaded, so the result of the Token.similarity method will be based on the tagger, parser and NER, which may not give useful similarity judgements. This may happen if you're using one of the small models, e.g. `en_core_web_sm`, which don't ship with word vectors and only use context-sensitive tensors. You can always add your own word vectors, or use one of the larger models instead if available.\n",
      "  print(f'{token.text} --> {base_token.text}:{token.similarity(base_token)}')\n"
     ]
    }
   ],
   "source": [
    "doc = nlp('bread car bus jamoon tiger lion school')\n",
    "for token in doc:\n",
    "    print(f'{token.text} --> {base_token.text}:{token.similarity(base_token)}')"
   ]
  },
  {
   "cell_type": "code",
   "execution_count": null,
   "id": "fca77459",
   "metadata": {},
   "outputs": [],
   "source": []
  }
 ],
 "metadata": {
  "kernelspec": {
   "display_name": "Python 3 (ipykernel)",
   "language": "python",
   "name": "python3"
  },
  "language_info": {
   "codemirror_mode": {
    "name": "ipython",
    "version": 3
   },
   "file_extension": ".py",
   "mimetype": "text/x-python",
   "name": "python",
   "nbconvert_exporter": "python",
   "pygments_lexer": "ipython3",
   "version": "3.11.5"
  }
 },
 "nbformat": 4,
 "nbformat_minor": 5
}
